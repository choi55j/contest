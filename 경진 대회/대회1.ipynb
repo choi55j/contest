{
 "cells": [
  {
   "cell_type": "code",
   "execution_count": 1,
   "id": "e39f6c42",
   "metadata": {},
   "outputs": [
    {
     "name": "stdout",
     "output_type": "stream",
     "text": [
      "Requirement already satisfied: plotly in c:\\users\\win10\\anaconda3\\lib\\site-packages (5.9.0)\n",
      "Requirement already satisfied: tenacity>=6.2.0 in c:\\users\\win10\\anaconda3\\lib\\site-packages (from plotly) (8.0.1)\n",
      "Requirement already satisfied: cufflinks in c:\\users\\win10\\anaconda3\\lib\\site-packages (0.17.3)\n",
      "Requirement already satisfied: pandas>=0.19.2 in c:\\users\\win10\\anaconda3\\lib\\site-packages (from cufflinks) (1.4.4)\n",
      "Requirement already satisfied: colorlover>=0.2.1 in c:\\users\\win10\\anaconda3\\lib\\site-packages (from cufflinks) (0.3.0)\n",
      "Requirement already satisfied: six>=1.9.0 in c:\\users\\win10\\anaconda3\\lib\\site-packages (from cufflinks) (1.16.0)\n",
      "Requirement already satisfied: setuptools>=34.4.1 in c:\\users\\win10\\anaconda3\\lib\\site-packages (from cufflinks) (63.4.1)\n",
      "Requirement already satisfied: ipython>=5.3.0 in c:\\users\\win10\\anaconda3\\lib\\site-packages (from cufflinks) (7.31.1)\n",
      "Requirement already satisfied: plotly>=4.1.1 in c:\\users\\win10\\anaconda3\\lib\\site-packages (from cufflinks) (5.9.0)\n",
      "Requirement already satisfied: ipywidgets>=7.0.0 in c:\\users\\win10\\anaconda3\\lib\\site-packages (from cufflinks) (7.6.5)\n",
      "Requirement already satisfied: numpy>=1.9.2 in c:\\users\\win10\\anaconda3\\lib\\site-packages (from cufflinks) (1.21.5)\n",
      "Requirement already satisfied: decorator in c:\\users\\win10\\anaconda3\\lib\\site-packages (from ipython>=5.3.0->cufflinks) (5.1.1)\n",
      "Requirement already satisfied: pickleshare in c:\\users\\win10\\anaconda3\\lib\\site-packages (from ipython>=5.3.0->cufflinks) (0.7.5)\n",
      "Requirement already satisfied: backcall in c:\\users\\win10\\anaconda3\\lib\\site-packages (from ipython>=5.3.0->cufflinks) (0.2.0)\n",
      "Requirement already satisfied: matplotlib-inline in c:\\users\\win10\\anaconda3\\lib\\site-packages (from ipython>=5.3.0->cufflinks) (0.1.6)\n",
      "Requirement already satisfied: traitlets>=4.2 in c:\\users\\win10\\anaconda3\\lib\\site-packages (from ipython>=5.3.0->cufflinks) (5.1.1)\n",
      "Requirement already satisfied: jedi>=0.16 in c:\\users\\win10\\anaconda3\\lib\\site-packages (from ipython>=5.3.0->cufflinks) (0.18.1)\n",
      "Requirement already satisfied: pygments in c:\\users\\win10\\anaconda3\\lib\\site-packages (from ipython>=5.3.0->cufflinks) (2.11.2)\n",
      "Requirement already satisfied: colorama in c:\\users\\win10\\anaconda3\\lib\\site-packages (from ipython>=5.3.0->cufflinks) (0.4.5)\n",
      "Requirement already satisfied: prompt-toolkit!=3.0.0,!=3.0.1,<3.1.0,>=2.0.0 in c:\\users\\win10\\anaconda3\\lib\\site-packages (from ipython>=5.3.0->cufflinks) (3.0.20)\n",
      "Requirement already satisfied: nbformat>=4.2.0 in c:\\users\\win10\\anaconda3\\lib\\site-packages (from ipywidgets>=7.0.0->cufflinks) (5.5.0)\n",
      "Requirement already satisfied: jupyterlab-widgets>=1.0.0 in c:\\users\\win10\\anaconda3\\lib\\site-packages (from ipywidgets>=7.0.0->cufflinks) (1.0.0)\n",
      "Requirement already satisfied: ipykernel>=4.5.1 in c:\\users\\win10\\anaconda3\\lib\\site-packages (from ipywidgets>=7.0.0->cufflinks) (6.15.2)\n",
      "Requirement already satisfied: widgetsnbextension~=3.5.0 in c:\\users\\win10\\anaconda3\\lib\\site-packages (from ipywidgets>=7.0.0->cufflinks) (3.5.2)\n",
      "Requirement already satisfied: ipython-genutils~=0.2.0 in c:\\users\\win10\\anaconda3\\lib\\site-packages (from ipywidgets>=7.0.0->cufflinks) (0.2.0)\n",
      "Requirement already satisfied: pytz>=2020.1 in c:\\users\\win10\\anaconda3\\lib\\site-packages (from pandas>=0.19.2->cufflinks) (2022.1)\n",
      "Requirement already satisfied: python-dateutil>=2.8.1 in c:\\users\\win10\\anaconda3\\lib\\site-packages (from pandas>=0.19.2->cufflinks) (2.8.2)\n",
      "Requirement already satisfied: tenacity>=6.2.0 in c:\\users\\win10\\anaconda3\\lib\\site-packages (from plotly>=4.1.1->cufflinks) (8.0.1)\n",
      "Requirement already satisfied: debugpy>=1.0 in c:\\users\\win10\\anaconda3\\lib\\site-packages (from ipykernel>=4.5.1->ipywidgets>=7.0.0->cufflinks) (1.5.1)\n",
      "Requirement already satisfied: nest-asyncio in c:\\users\\win10\\anaconda3\\lib\\site-packages (from ipykernel>=4.5.1->ipywidgets>=7.0.0->cufflinks) (1.5.5)\n",
      "Requirement already satisfied: psutil in c:\\users\\win10\\anaconda3\\lib\\site-packages (from ipykernel>=4.5.1->ipywidgets>=7.0.0->cufflinks) (5.9.0)\n",
      "Requirement already satisfied: packaging in c:\\users\\win10\\anaconda3\\lib\\site-packages (from ipykernel>=4.5.1->ipywidgets>=7.0.0->cufflinks) (21.3)\n",
      "Requirement already satisfied: pyzmq>=17 in c:\\users\\win10\\anaconda3\\lib\\site-packages (from ipykernel>=4.5.1->ipywidgets>=7.0.0->cufflinks) (23.2.0)\n",
      "Requirement already satisfied: jupyter-client>=6.1.12 in c:\\users\\win10\\anaconda3\\lib\\site-packages (from ipykernel>=4.5.1->ipywidgets>=7.0.0->cufflinks) (7.3.4)\n",
      "Requirement already satisfied: tornado>=6.1 in c:\\users\\win10\\anaconda3\\lib\\site-packages (from ipykernel>=4.5.1->ipywidgets>=7.0.0->cufflinks) (6.1)\n",
      "Requirement already satisfied: parso<0.9.0,>=0.8.0 in c:\\users\\win10\\anaconda3\\lib\\site-packages (from jedi>=0.16->ipython>=5.3.0->cufflinks) (0.8.3)\n",
      "Requirement already satisfied: jsonschema>=2.6 in c:\\users\\win10\\anaconda3\\lib\\site-packages (from nbformat>=4.2.0->ipywidgets>=7.0.0->cufflinks) (4.16.0)\n",
      "Requirement already satisfied: fastjsonschema in c:\\users\\win10\\anaconda3\\lib\\site-packages (from nbformat>=4.2.0->ipywidgets>=7.0.0->cufflinks) (2.16.2)\n",
      "Requirement already satisfied: jupyter_core in c:\\users\\win10\\anaconda3\\lib\\site-packages (from nbformat>=4.2.0->ipywidgets>=7.0.0->cufflinks) (4.11.1)\n",
      "Requirement already satisfied: wcwidth in c:\\users\\win10\\anaconda3\\lib\\site-packages (from prompt-toolkit!=3.0.0,!=3.0.1,<3.1.0,>=2.0.0->ipython>=5.3.0->cufflinks) (0.2.5)\n",
      "Requirement already satisfied: notebook>=4.4.1 in c:\\users\\win10\\anaconda3\\lib\\site-packages (from widgetsnbextension~=3.5.0->ipywidgets>=7.0.0->cufflinks) (6.4.12)\n",
      "Requirement already satisfied: attrs>=17.4.0 in c:\\users\\win10\\anaconda3\\lib\\site-packages (from jsonschema>=2.6->nbformat>=4.2.0->ipywidgets>=7.0.0->cufflinks) (21.4.0)\n",
      "Requirement already satisfied: pyrsistent!=0.17.0,!=0.17.1,!=0.17.2,>=0.14.0 in c:\\users\\win10\\anaconda3\\lib\\site-packages (from jsonschema>=2.6->nbformat>=4.2.0->ipywidgets>=7.0.0->cufflinks) (0.18.0)\n",
      "Requirement already satisfied: entrypoints in c:\\users\\win10\\anaconda3\\lib\\site-packages (from jupyter-client>=6.1.12->ipykernel>=4.5.1->ipywidgets>=7.0.0->cufflinks) (0.4)\n",
      "Requirement already satisfied: pywin32>=1.0 in c:\\users\\win10\\anaconda3\\lib\\site-packages (from jupyter_core->nbformat>=4.2.0->ipywidgets>=7.0.0->cufflinks) (302)\n",
      "Requirement already satisfied: argon2-cffi in c:\\users\\win10\\anaconda3\\lib\\site-packages (from notebook>=4.4.1->widgetsnbextension~=3.5.0->ipywidgets>=7.0.0->cufflinks) (21.3.0)\n",
      "Requirement already satisfied: jinja2 in c:\\users\\win10\\anaconda3\\lib\\site-packages (from notebook>=4.4.1->widgetsnbextension~=3.5.0->ipywidgets>=7.0.0->cufflinks) (2.11.3)\n",
      "Requirement already satisfied: prometheus-client in c:\\users\\win10\\anaconda3\\lib\\site-packages (from notebook>=4.4.1->widgetsnbextension~=3.5.0->ipywidgets>=7.0.0->cufflinks) (0.14.1)\n",
      "Requirement already satisfied: nbconvert>=5 in c:\\users\\win10\\anaconda3\\lib\\site-packages (from notebook>=4.4.1->widgetsnbextension~=3.5.0->ipywidgets>=7.0.0->cufflinks) (6.4.4)\n",
      "Requirement already satisfied: Send2Trash>=1.8.0 in c:\\users\\win10\\anaconda3\\lib\\site-packages (from notebook>=4.4.1->widgetsnbextension~=3.5.0->ipywidgets>=7.0.0->cufflinks) (1.8.0)\n",
      "Requirement already satisfied: terminado>=0.8.3 in c:\\users\\win10\\anaconda3\\lib\\site-packages (from notebook>=4.4.1->widgetsnbextension~=3.5.0->ipywidgets>=7.0.0->cufflinks) (0.13.1)\n",
      "Requirement already satisfied: pyparsing!=3.0.5,>=2.0.2 in c:\\users\\win10\\anaconda3\\lib\\site-packages (from packaging->ipykernel>=4.5.1->ipywidgets>=7.0.0->cufflinks) (3.0.9)\n",
      "Requirement already satisfied: testpath in c:\\users\\win10\\anaconda3\\lib\\site-packages (from nbconvert>=5->notebook>=4.4.1->widgetsnbextension~=3.5.0->ipywidgets>=7.0.0->cufflinks) (0.6.0)\n",
      "Requirement already satisfied: pandocfilters>=1.4.1 in c:\\users\\win10\\anaconda3\\lib\\site-packages (from nbconvert>=5->notebook>=4.4.1->widgetsnbextension~=3.5.0->ipywidgets>=7.0.0->cufflinks) (1.5.0)\n",
      "Requirement already satisfied: beautifulsoup4 in c:\\users\\win10\\anaconda3\\lib\\site-packages (from nbconvert>=5->notebook>=4.4.1->widgetsnbextension~=3.5.0->ipywidgets>=7.0.0->cufflinks) (4.11.1)\n",
      "Requirement already satisfied: bleach in c:\\users\\win10\\anaconda3\\lib\\site-packages (from nbconvert>=5->notebook>=4.4.1->widgetsnbextension~=3.5.0->ipywidgets>=7.0.0->cufflinks) (4.1.0)\n",
      "Requirement already satisfied: nbclient<0.6.0,>=0.5.0 in c:\\users\\win10\\anaconda3\\lib\\site-packages (from nbconvert>=5->notebook>=4.4.1->widgetsnbextension~=3.5.0->ipywidgets>=7.0.0->cufflinks) (0.5.13)\n",
      "Requirement already satisfied: mistune<2,>=0.8.1 in c:\\users\\win10\\anaconda3\\lib\\site-packages (from nbconvert>=5->notebook>=4.4.1->widgetsnbextension~=3.5.0->ipywidgets>=7.0.0->cufflinks) (0.8.4)\n",
      "Requirement already satisfied: defusedxml in c:\\users\\win10\\anaconda3\\lib\\site-packages (from nbconvert>=5->notebook>=4.4.1->widgetsnbextension~=3.5.0->ipywidgets>=7.0.0->cufflinks) (0.7.1)\n",
      "Requirement already satisfied: jupyterlab-pygments in c:\\users\\win10\\anaconda3\\lib\\site-packages (from nbconvert>=5->notebook>=4.4.1->widgetsnbextension~=3.5.0->ipywidgets>=7.0.0->cufflinks) (0.1.2)\n",
      "Requirement already satisfied: MarkupSafe>=0.23 in c:\\users\\win10\\anaconda3\\lib\\site-packages (from jinja2->notebook>=4.4.1->widgetsnbextension~=3.5.0->ipywidgets>=7.0.0->cufflinks) (2.0.1)\n",
      "Requirement already satisfied: pywinpty>=1.1.0 in c:\\users\\win10\\anaconda3\\lib\\site-packages (from terminado>=0.8.3->notebook>=4.4.1->widgetsnbextension~=3.5.0->ipywidgets>=7.0.0->cufflinks) (2.0.2)\n",
      "Requirement already satisfied: argon2-cffi-bindings in c:\\users\\win10\\anaconda3\\lib\\site-packages (from argon2-cffi->notebook>=4.4.1->widgetsnbextension~=3.5.0->ipywidgets>=7.0.0->cufflinks) (21.2.0)\n",
      "Requirement already satisfied: cffi>=1.0.1 in c:\\users\\win10\\anaconda3\\lib\\site-packages (from argon2-cffi-bindings->argon2-cffi->notebook>=4.4.1->widgetsnbextension~=3.5.0->ipywidgets>=7.0.0->cufflinks) (1.15.1)\n",
      "Requirement already satisfied: soupsieve>1.2 in c:\\users\\win10\\anaconda3\\lib\\site-packages (from beautifulsoup4->nbconvert>=5->notebook>=4.4.1->widgetsnbextension~=3.5.0->ipywidgets>=7.0.0->cufflinks) (2.3.1)\n",
      "Requirement already satisfied: webencodings in c:\\users\\win10\\anaconda3\\lib\\site-packages (from bleach->nbconvert>=5->notebook>=4.4.1->widgetsnbextension~=3.5.0->ipywidgets>=7.0.0->cufflinks) (0.5.1)\n",
      "Requirement already satisfied: pycparser in c:\\users\\win10\\anaconda3\\lib\\site-packages (from cffi>=1.0.1->argon2-cffi-bindings->argon2-cffi->notebook>=4.4.1->widgetsnbextension~=3.5.0->ipywidgets>=7.0.0->cufflinks) (2.21)\n"
     ]
    }
   ],
   "source": [
    "!pip install plotly\n",
    "!pip install cufflinks"
   ]
  },
  {
   "cell_type": "code",
   "execution_count": 7,
   "id": "748b1132",
   "metadata": {},
   "outputs": [],
   "source": [
    "import pandas as pd\n",
    "import numpy as np\n",
    "import matplotlib.pyplot as plt\n",
    "import seaborn as sns\n",
    "from matplotlib import style\n",
    "import plotly.graph_objects as go\n",
    "from plotly.subplots import make_subplots\n",
    "import warnings\n",
    "\n",
    "%matplotlib inline"
   ]
  },
  {
   "cell_type": "code",
   "execution_count": 8,
   "id": "1d58b208",
   "metadata": {},
   "outputs": [],
   "source": [
    "jsysoo = pd.read_csv(\"data/대회 설문조사지.csv\", encoding = \"cp949\")"
   ]
  },
  {
   "cell_type": "code",
   "execution_count": 9,
   "id": "6f352e0c",
   "metadata": {},
   "outputs": [
    {
     "data": {
      "text/html": [
       "<div>\n",
       "<style scoped>\n",
       "    .dataframe tbody tr th:only-of-type {\n",
       "        vertical-align: middle;\n",
       "    }\n",
       "\n",
       "    .dataframe tbody tr th {\n",
       "        vertical-align: top;\n",
       "    }\n",
       "\n",
       "    .dataframe thead th {\n",
       "        text-align: right;\n",
       "    }\n",
       "</style>\n",
       "<table border=\"1\" class=\"dataframe\">\n",
       "  <thead>\n",
       "    <tr style=\"text-align: right;\">\n",
       "      <th></th>\n",
       "      <th>타임스탬프</th>\n",
       "      <th>학년</th>\n",
       "      <th>성별</th>\n",
       "      <th>학과(전공)</th>\n",
       "      <th>취미</th>\n",
       "      <th>평균 공부 시간</th>\n",
       "      <th>공부하는 시간</th>\n",
       "      <th>자격증 개수</th>\n",
       "      <th>출석</th>\n",
       "      <th>평균 수면 시간</th>\n",
       "      <th>...</th>\n",
       "      <th>희망 연봉</th>\n",
       "      <th>학과 만족 O/X</th>\n",
       "      <th>취업 선호도</th>\n",
       "      <th>소셜 미디어 사용시간</th>\n",
       "      <th>통학 시간</th>\n",
       "      <th>학업 스트레스</th>\n",
       "      <th>교우관계</th>\n",
       "      <th>알바 유무</th>\n",
       "      <th>방과후 유무</th>\n",
       "      <th>방과후 만족도</th>\n",
       "    </tr>\n",
       "  </thead>\n",
       "  <tbody>\n",
       "    <tr>\n",
       "      <th>0</th>\n",
       "      <td>2023. 10. 12 오후 12:21:46</td>\n",
       "      <td>2학년</td>\n",
       "      <td>남자</td>\n",
       "      <td>창업마케팅과</td>\n",
       "      <td>운동</td>\n",
       "      <td>1시간-2시간</td>\n",
       "      <td>방과후(저녁)</td>\n",
       "      <td>4</td>\n",
       "      <td>절대 안빠지죠</td>\n",
       "      <td>6시간 이상 자요</td>\n",
       "      <td>...</td>\n",
       "      <td>3000</td>\n",
       "      <td>O</td>\n",
       "      <td>5</td>\n",
       "      <td>1시간-2시간</td>\n",
       "      <td>10-30분</td>\n",
       "      <td>2</td>\n",
       "      <td>3</td>\n",
       "      <td>X</td>\n",
       "      <td>O(아래 질문에 답변해주세요!)</td>\n",
       "      <td>8.0</td>\n",
       "    </tr>\n",
       "    <tr>\n",
       "      <th>1</th>\n",
       "      <td>2023. 10. 12 오후 12:21:49</td>\n",
       "      <td>2학년</td>\n",
       "      <td>남자</td>\n",
       "      <td>창업마케팅과</td>\n",
       "      <td>게임</td>\n",
       "      <td>0-30분</td>\n",
       "      <td>기타</td>\n",
       "      <td>4</td>\n",
       "      <td>반년에 한두번 빠져요</td>\n",
       "      <td>4~6시간 자요</td>\n",
       "      <td>...</td>\n",
       "      <td>2000</td>\n",
       "      <td>O</td>\n",
       "      <td>5</td>\n",
       "      <td>2시간-3시간 이상</td>\n",
       "      <td>10-30분</td>\n",
       "      <td>3</td>\n",
       "      <td>2</td>\n",
       "      <td>X</td>\n",
       "      <td>O(아래 질문에 답변해주세요!)</td>\n",
       "      <td>5.0</td>\n",
       "    </tr>\n",
       "    <tr>\n",
       "      <th>2</th>\n",
       "      <td>2023. 10. 12 오후 12:23:07</td>\n",
       "      <td>3학년</td>\n",
       "      <td>남자</td>\n",
       "      <td>소프트웨어개발과</td>\n",
       "      <td>게임</td>\n",
       "      <td>0-30분</td>\n",
       "      <td>기타</td>\n",
       "      <td>6</td>\n",
       "      <td>절대 안빠지죠</td>\n",
       "      <td>6시간 이상 자요</td>\n",
       "      <td>...</td>\n",
       "      <td>3000</td>\n",
       "      <td>O</td>\n",
       "      <td>7</td>\n",
       "      <td>1시간-2시간</td>\n",
       "      <td>10-30분</td>\n",
       "      <td>2</td>\n",
       "      <td>1</td>\n",
       "      <td>X</td>\n",
       "      <td>X</td>\n",
       "      <td>NaN</td>\n",
       "    </tr>\n",
       "    <tr>\n",
       "      <th>3</th>\n",
       "      <td>2023. 10. 12 오후 12:23:25</td>\n",
       "      <td>3학년</td>\n",
       "      <td>남자</td>\n",
       "      <td>소프트웨어개발과</td>\n",
       "      <td>게임</td>\n",
       "      <td>0-30분</td>\n",
       "      <td>밤</td>\n",
       "      <td>5</td>\n",
       "      <td>절대 안빠지죠</td>\n",
       "      <td>4~6시간 자요</td>\n",
       "      <td>...</td>\n",
       "      <td>3000</td>\n",
       "      <td>O</td>\n",
       "      <td>5</td>\n",
       "      <td>0-30분</td>\n",
       "      <td>10-30분</td>\n",
       "      <td>3</td>\n",
       "      <td>1</td>\n",
       "      <td>X</td>\n",
       "      <td>X</td>\n",
       "      <td>1.0</td>\n",
       "    </tr>\n",
       "    <tr>\n",
       "      <th>4</th>\n",
       "      <td>2023. 10. 12 오후 12:23:28</td>\n",
       "      <td>2학년</td>\n",
       "      <td>남자</td>\n",
       "      <td>창업마케팅과</td>\n",
       "      <td>음악</td>\n",
       "      <td>0-30분</td>\n",
       "      <td>기타</td>\n",
       "      <td>6</td>\n",
       "      <td>한달에 한두번 빠져요</td>\n",
       "      <td>2~4시간 자요</td>\n",
       "      <td>...</td>\n",
       "      <td>?</td>\n",
       "      <td>O</td>\n",
       "      <td>5</td>\n",
       "      <td>2시간-3시간 이상</td>\n",
       "      <td>1시간-2시간</td>\n",
       "      <td>1</td>\n",
       "      <td>1</td>\n",
       "      <td>O</td>\n",
       "      <td>X</td>\n",
       "      <td>NaN</td>\n",
       "    </tr>\n",
       "    <tr>\n",
       "      <th>...</th>\n",
       "      <td>...</td>\n",
       "      <td>...</td>\n",
       "      <td>...</td>\n",
       "      <td>...</td>\n",
       "      <td>...</td>\n",
       "      <td>...</td>\n",
       "      <td>...</td>\n",
       "      <td>...</td>\n",
       "      <td>...</td>\n",
       "      <td>...</td>\n",
       "      <td>...</td>\n",
       "      <td>...</td>\n",
       "      <td>...</td>\n",
       "      <td>...</td>\n",
       "      <td>...</td>\n",
       "      <td>...</td>\n",
       "      <td>...</td>\n",
       "      <td>...</td>\n",
       "      <td>...</td>\n",
       "      <td>...</td>\n",
       "      <td>...</td>\n",
       "    </tr>\n",
       "    <tr>\n",
       "      <th>282</th>\n",
       "      <td>2023. 10. 17 오후 3:24:40</td>\n",
       "      <td>2학년</td>\n",
       "      <td>남자</td>\n",
       "      <td>스마트웹콘텐츠과</td>\n",
       "      <td>게임</td>\n",
       "      <td>0-30분</td>\n",
       "      <td>방과후(저녁)</td>\n",
       "      <td>4</td>\n",
       "      <td>한달에 한두번 이상 빠져요</td>\n",
       "      <td>6시간 이상 자요</td>\n",
       "      <td>...</td>\n",
       "      <td>4000</td>\n",
       "      <td>O</td>\n",
       "      <td>7</td>\n",
       "      <td>2시간-3시간 이상</td>\n",
       "      <td>10-30분</td>\n",
       "      <td>3</td>\n",
       "      <td>1</td>\n",
       "      <td>X</td>\n",
       "      <td>X</td>\n",
       "      <td>NaN</td>\n",
       "    </tr>\n",
       "    <tr>\n",
       "      <th>283</th>\n",
       "      <td>2023. 10. 17 오후 3:27:17</td>\n",
       "      <td>2학년</td>\n",
       "      <td>남자</td>\n",
       "      <td>스마트웹콘텐츠과</td>\n",
       "      <td>게임</td>\n",
       "      <td>0-30분</td>\n",
       "      <td>방과후(저녁)</td>\n",
       "      <td>4</td>\n",
       "      <td>절대 안빠지죠</td>\n",
       "      <td>6시간 이상 자요</td>\n",
       "      <td>...</td>\n",
       "      <td>?</td>\n",
       "      <td>O</td>\n",
       "      <td>5</td>\n",
       "      <td>2시간-3시간 이상</td>\n",
       "      <td>10-30분</td>\n",
       "      <td>3</td>\n",
       "      <td>1</td>\n",
       "      <td>X</td>\n",
       "      <td>X</td>\n",
       "      <td>1.0</td>\n",
       "    </tr>\n",
       "    <tr>\n",
       "      <th>284</th>\n",
       "      <td>2023. 10. 17 오후 3:27:41</td>\n",
       "      <td>2학년</td>\n",
       "      <td>남자</td>\n",
       "      <td>스마트웹콘텐츠과</td>\n",
       "      <td>운동</td>\n",
       "      <td>2시간-3시간 이상</td>\n",
       "      <td>방과후(저녁)</td>\n",
       "      <td>4</td>\n",
       "      <td>절대 안빠지죠</td>\n",
       "      <td>4~6시간 자요</td>\n",
       "      <td>...</td>\n",
       "      <td>?</td>\n",
       "      <td>O</td>\n",
       "      <td>4</td>\n",
       "      <td>1시간-2시간</td>\n",
       "      <td>30-1시간</td>\n",
       "      <td>3</td>\n",
       "      <td>1</td>\n",
       "      <td>X</td>\n",
       "      <td>O(아래 질문에 답변해주세요!)</td>\n",
       "      <td>8.0</td>\n",
       "    </tr>\n",
       "    <tr>\n",
       "      <th>285</th>\n",
       "      <td>2023. 10. 17 오후 3:28:23</td>\n",
       "      <td>2학년</td>\n",
       "      <td>남자</td>\n",
       "      <td>스마트웹콘텐츠과</td>\n",
       "      <td>운동</td>\n",
       "      <td>30분-1시간</td>\n",
       "      <td>밤</td>\n",
       "      <td>2</td>\n",
       "      <td>한달에 한두번 빠져요</td>\n",
       "      <td>6시간 이상 자요</td>\n",
       "      <td>...</td>\n",
       "      <td>5000</td>\n",
       "      <td>O</td>\n",
       "      <td>5</td>\n",
       "      <td>1시간-2시간</td>\n",
       "      <td>30-1시간</td>\n",
       "      <td>3</td>\n",
       "      <td>3</td>\n",
       "      <td>O</td>\n",
       "      <td>X</td>\n",
       "      <td>NaN</td>\n",
       "    </tr>\n",
       "    <tr>\n",
       "      <th>286</th>\n",
       "      <td>2023. 10. 17 오후 4:33:30</td>\n",
       "      <td>2학년</td>\n",
       "      <td>여자</td>\n",
       "      <td>스마트웹콘텐츠과</td>\n",
       "      <td>게임</td>\n",
       "      <td>0-30분</td>\n",
       "      <td>밤</td>\n",
       "      <td>5</td>\n",
       "      <td>절대 안빠지죠</td>\n",
       "      <td>6시간 이상 자요</td>\n",
       "      <td>...</td>\n",
       "      <td>2000</td>\n",
       "      <td>O</td>\n",
       "      <td>7</td>\n",
       "      <td>30-1시간</td>\n",
       "      <td>30-1시간</td>\n",
       "      <td>2</td>\n",
       "      <td>2</td>\n",
       "      <td>O</td>\n",
       "      <td>O(아래 질문에 답변해주세요!)</td>\n",
       "      <td>8.0</td>\n",
       "    </tr>\n",
       "  </tbody>\n",
       "</table>\n",
       "<p>287 rows × 23 columns</p>\n",
       "</div>"
      ],
      "text/plain": [
       "                        타임스탬프   학년  성별    학과(전공)  취미    평균 공부 시간  공부하는 시간  \\\n",
       "0    2023. 10. 12 오후 12:21:46  2학년  남자    창업마케팅과  운동     1시간-2시간  방과후(저녁)   \n",
       "1    2023. 10. 12 오후 12:21:49  2학년  남자    창업마케팅과  게임       0-30분       기타   \n",
       "2    2023. 10. 12 오후 12:23:07  3학년  남자  소프트웨어개발과  게임       0-30분       기타   \n",
       "3    2023. 10. 12 오후 12:23:25  3학년  남자  소프트웨어개발과  게임       0-30분        밤   \n",
       "4    2023. 10. 12 오후 12:23:28  2학년  남자    창업마케팅과  음악       0-30분       기타   \n",
       "..                        ...  ...  ..       ...  ..         ...      ...   \n",
       "282   2023. 10. 17 오후 3:24:40  2학년  남자  스마트웹콘텐츠과  게임       0-30분  방과후(저녁)   \n",
       "283   2023. 10. 17 오후 3:27:17  2학년  남자  스마트웹콘텐츠과  게임       0-30분  방과후(저녁)   \n",
       "284   2023. 10. 17 오후 3:27:41  2학년  남자  스마트웹콘텐츠과  운동  2시간-3시간 이상  방과후(저녁)   \n",
       "285   2023. 10. 17 오후 3:28:23  2학년  남자  스마트웹콘텐츠과  운동     30분-1시간        밤   \n",
       "286   2023. 10. 17 오후 4:33:30  2학년  여자  스마트웹콘텐츠과  게임       0-30분        밤   \n",
       "\n",
       "    자격증 개수              출석   평균 수면 시간  ... 희망 연봉  학과 만족 O/X  취업 선호도  \\\n",
       "0        4         절대 안빠지죠  6시간 이상 자요  ...  3000          O       5   \n",
       "1        4     반년에 한두번 빠져요   4~6시간 자요  ...  2000          O       5   \n",
       "2        6         절대 안빠지죠  6시간 이상 자요  ...  3000          O       7   \n",
       "3        5         절대 안빠지죠   4~6시간 자요  ...  3000          O       5   \n",
       "4        6     한달에 한두번 빠져요   2~4시간 자요  ...     ?          O       5   \n",
       "..     ...             ...        ...  ...   ...        ...     ...   \n",
       "282      4  한달에 한두번 이상 빠져요  6시간 이상 자요  ...  4000          O       7   \n",
       "283      4         절대 안빠지죠  6시간 이상 자요  ...     ?          O       5   \n",
       "284      4         절대 안빠지죠   4~6시간 자요  ...     ?          O       4   \n",
       "285      2     한달에 한두번 빠져요  6시간 이상 자요  ...  5000          O       5   \n",
       "286      5         절대 안빠지죠  6시간 이상 자요  ...  2000          O       7   \n",
       "\n",
       "    소셜 미디어 사용시간    통학 시간  학업 스트레스 교우관계 알바 유무             방과후 유무  방과후 만족도  \n",
       "0       1시간-2시간   10-30분        2    3     X  O(아래 질문에 답변해주세요!)      8.0  \n",
       "1    2시간-3시간 이상   10-30분        3    2     X  O(아래 질문에 답변해주세요!)      5.0  \n",
       "2       1시간-2시간   10-30분        2    1     X                  X      NaN  \n",
       "3         0-30분   10-30분        3    1     X                  X      1.0  \n",
       "4    2시간-3시간 이상  1시간-2시간        1    1     O                  X      NaN  \n",
       "..          ...      ...      ...  ...   ...                ...      ...  \n",
       "282  2시간-3시간 이상   10-30분        3    1     X                  X      NaN  \n",
       "283  2시간-3시간 이상   10-30분        3    1     X                  X      1.0  \n",
       "284     1시간-2시간   30-1시간        3    1     X  O(아래 질문에 답변해주세요!)      8.0  \n",
       "285     1시간-2시간   30-1시간        3    3     O                  X      NaN  \n",
       "286      30-1시간   30-1시간        2    2     O  O(아래 질문에 답변해주세요!)      8.0  \n",
       "\n",
       "[287 rows x 23 columns]"
      ]
     },
     "execution_count": 9,
     "metadata": {},
     "output_type": "execute_result"
    }
   ],
   "source": [
    "jsysoo"
   ]
  },
  {
   "cell_type": "code",
   "execution_count": 10,
   "id": "b547b9fc",
   "metadata": {},
   "outputs": [
    {
     "data": {
      "text/plain": [
       "Index(['타임스탬프', '학년', '성별', '학과(전공)', '취미', '평균 공부 시간', '공부하는 시간', '자격증 개수',\n",
       "       '출석', '평균 수면 시간', '희망 진로', '수업 집중도', '수업 집중도(전공)', '희망 연봉', '학과 만족 O/X',\n",
       "       '취업 선호도', '소셜 미디어 사용시간', '통학 시간', '학업 스트레스', '교우관계', '알바 유무', '방과후 유무',\n",
       "       '방과후 만족도'],\n",
       "      dtype='object')"
      ]
     },
     "execution_count": 10,
     "metadata": {},
     "output_type": "execute_result"
    }
   ],
   "source": [
    "jsysoo.columns"
   ]
  },
  {
   "cell_type": "code",
   "execution_count": 11,
   "id": "63574825",
   "metadata": {},
   "outputs": [
    {
     "data": {
      "text/plain": [
       "(287, 23)"
      ]
     },
     "execution_count": 11,
     "metadata": {},
     "output_type": "execute_result"
    }
   ],
   "source": [
    "jsysoo.shape"
   ]
  },
  {
   "cell_type": "code",
   "execution_count": 12,
   "id": "5d254969",
   "metadata": {},
   "outputs": [
    {
     "data": {
      "text/plain": [
       "타임스탬프           0\n",
       "학년              0\n",
       "성별              0\n",
       "학과(전공)          0\n",
       "취미              0\n",
       "평균 공부 시간        0\n",
       "공부하는 시간         0\n",
       "자격증 개수          0\n",
       "출석              0\n",
       "평균 수면 시간        0\n",
       "희망 진로           0\n",
       "수업 집중도          0\n",
       "수업 집중도(전공)      0\n",
       "희망 연봉           0\n",
       "학과 만족 O/X       0\n",
       "취업 선호도          0\n",
       "소셜 미디어 사용시간     0\n",
       "통학 시간           0\n",
       "학업 스트레스         0\n",
       "교우관계            0\n",
       "알바 유무           0\n",
       "방과후 유무          0\n",
       "방과후 만족도        93\n",
       "dtype: int64"
      ]
     },
     "execution_count": 12,
     "metadata": {},
     "output_type": "execute_result"
    }
   ],
   "source": [
    "jsysoo.isnull().sum()"
   ]
  },
  {
   "cell_type": "markdown",
   "id": "80340515",
   "metadata": {},
   "source": [
    "부족한 데이터는 삭제하고, 채워지지 않은 데이터는 평균으로 채움\n",
    "다시금 조사할 수 없으니 빠르게 평균으로 처리함"
   ]
  },
  {
   "cell_type": "code",
   "execution_count": 13,
   "id": "0959da2a",
   "metadata": {},
   "outputs": [
    {
     "name": "stdout",
     "output_type": "stream",
     "text": [
      "<class 'pandas.core.frame.DataFrame'>\n",
      "RangeIndex: 287 entries, 0 to 286\n",
      "Data columns (total 23 columns):\n",
      " #   Column       Non-Null Count  Dtype  \n",
      "---  ------       --------------  -----  \n",
      " 0   타임스탬프        287 non-null    object \n",
      " 1   학년           287 non-null    object \n",
      " 2   성별           287 non-null    object \n",
      " 3   학과(전공)       287 non-null    object \n",
      " 4   취미           287 non-null    object \n",
      " 5   평균 공부 시간     287 non-null    object \n",
      " 6   공부하는 시간      287 non-null    object \n",
      " 7   자격증 개수       287 non-null    object \n",
      " 8   출석           287 non-null    object \n",
      " 9   평균 수면 시간     287 non-null    object \n",
      " 10  희망 진로        287 non-null    object \n",
      " 11  수업 집중도       287 non-null    int64  \n",
      " 12  수업 집중도(전공)   287 non-null    int64  \n",
      " 13  희망 연봉        287 non-null    object \n",
      " 14  학과 만족 O/X    287 non-null    object \n",
      " 15  취업 선호도       287 non-null    int64  \n",
      " 16  소셜 미디어 사용시간  287 non-null    object \n",
      " 17  통학 시간        287 non-null    object \n",
      " 18  학업 스트레스      287 non-null    int64  \n",
      " 19  교우관계         287 non-null    int64  \n",
      " 20  알바 유무        287 non-null    object \n",
      " 21  방과후 유무       287 non-null    object \n",
      " 22  방과후 만족도      194 non-null    float64\n",
      "dtypes: float64(1), int64(5), object(17)\n",
      "memory usage: 51.7+ KB\n"
     ]
    }
   ],
   "source": [
    "jsysoo.info()"
   ]
  },
  {
   "cell_type": "code",
   "execution_count": 14,
   "id": "002effcb",
   "metadata": {},
   "outputs": [
    {
     "data": {
      "text/html": [
       "<div>\n",
       "<style scoped>\n",
       "    .dataframe tbody tr th:only-of-type {\n",
       "        vertical-align: middle;\n",
       "    }\n",
       "\n",
       "    .dataframe tbody tr th {\n",
       "        vertical-align: top;\n",
       "    }\n",
       "\n",
       "    .dataframe thead th {\n",
       "        text-align: right;\n",
       "    }\n",
       "</style>\n",
       "<table border=\"1\" class=\"dataframe\">\n",
       "  <thead>\n",
       "    <tr style=\"text-align: right;\">\n",
       "      <th></th>\n",
       "      <th>수업 집중도</th>\n",
       "      <th>수업 집중도(전공)</th>\n",
       "      <th>취업 선호도</th>\n",
       "      <th>학업 스트레스</th>\n",
       "      <th>교우관계</th>\n",
       "      <th>방과후 만족도</th>\n",
       "    </tr>\n",
       "  </thead>\n",
       "  <tbody>\n",
       "    <tr>\n",
       "      <th>count</th>\n",
       "      <td>287.000000</td>\n",
       "      <td>287.000000</td>\n",
       "      <td>287.000000</td>\n",
       "      <td>287.000000</td>\n",
       "      <td>287.000000</td>\n",
       "      <td>194.000000</td>\n",
       "    </tr>\n",
       "    <tr>\n",
       "      <th>mean</th>\n",
       "      <td>6.724739</td>\n",
       "      <td>7.181185</td>\n",
       "      <td>6.477352</td>\n",
       "      <td>2.522648</td>\n",
       "      <td>2.034843</td>\n",
       "      <td>6.396907</td>\n",
       "    </tr>\n",
       "    <tr>\n",
       "      <th>std</th>\n",
       "      <td>2.218213</td>\n",
       "      <td>2.326931</td>\n",
       "      <td>2.633567</td>\n",
       "      <td>0.926688</td>\n",
       "      <td>0.974593</td>\n",
       "      <td>2.814137</td>\n",
       "    </tr>\n",
       "    <tr>\n",
       "      <th>min</th>\n",
       "      <td>1.000000</td>\n",
       "      <td>1.000000</td>\n",
       "      <td>0.000000</td>\n",
       "      <td>1.000000</td>\n",
       "      <td>1.000000</td>\n",
       "      <td>1.000000</td>\n",
       "    </tr>\n",
       "    <tr>\n",
       "      <th>25%</th>\n",
       "      <td>5.000000</td>\n",
       "      <td>5.000000</td>\n",
       "      <td>5.000000</td>\n",
       "      <td>2.000000</td>\n",
       "      <td>1.000000</td>\n",
       "      <td>5.000000</td>\n",
       "    </tr>\n",
       "    <tr>\n",
       "      <th>50%</th>\n",
       "      <td>7.000000</td>\n",
       "      <td>8.000000</td>\n",
       "      <td>6.000000</td>\n",
       "      <td>2.000000</td>\n",
       "      <td>2.000000</td>\n",
       "      <td>7.000000</td>\n",
       "    </tr>\n",
       "    <tr>\n",
       "      <th>75%</th>\n",
       "      <td>8.000000</td>\n",
       "      <td>9.000000</td>\n",
       "      <td>8.500000</td>\n",
       "      <td>3.000000</td>\n",
       "      <td>3.000000</td>\n",
       "      <td>9.000000</td>\n",
       "    </tr>\n",
       "    <tr>\n",
       "      <th>max</th>\n",
       "      <td>10.000000</td>\n",
       "      <td>10.000000</td>\n",
       "      <td>10.000000</td>\n",
       "      <td>4.000000</td>\n",
       "      <td>4.000000</td>\n",
       "      <td>10.000000</td>\n",
       "    </tr>\n",
       "  </tbody>\n",
       "</table>\n",
       "</div>"
      ],
      "text/plain": [
       "           수업 집중도  수업 집중도(전공)      취업 선호도     학업 스트레스        교우관계     방과후 만족도\n",
       "count  287.000000  287.000000  287.000000  287.000000  287.000000  194.000000\n",
       "mean     6.724739    7.181185    6.477352    2.522648    2.034843    6.396907\n",
       "std      2.218213    2.326931    2.633567    0.926688    0.974593    2.814137\n",
       "min      1.000000    1.000000    0.000000    1.000000    1.000000    1.000000\n",
       "25%      5.000000    5.000000    5.000000    2.000000    1.000000    5.000000\n",
       "50%      7.000000    8.000000    6.000000    2.000000    2.000000    7.000000\n",
       "75%      8.000000    9.000000    8.500000    3.000000    3.000000    9.000000\n",
       "max     10.000000   10.000000   10.000000    4.000000    4.000000   10.000000"
      ]
     },
     "execution_count": 14,
     "metadata": {},
     "output_type": "execute_result"
    }
   ],
   "source": [
    "jsysoo.describe()"
   ]
  },
  {
   "cell_type": "code",
   "execution_count": 15,
   "id": "6ae2811b",
   "metadata": {},
   "outputs": [
    {
     "data": {
      "text/plain": [
       "학년   희망 진로  \n",
       "1학년  취업         65\n",
       "     아직 모르겠다    44\n",
       "     대학교 진학     20\n",
       "2학년  취업         74\n",
       "     아직 모르겠다    31\n",
       "     대학교 진학     24\n",
       "3학년  대학교 진학     12\n",
       "     취업         10\n",
       "     아직 모르겠다     7\n",
       "Name: 희망 진로, dtype: int64"
      ]
     },
     "execution_count": 15,
     "metadata": {},
     "output_type": "execute_result"
    }
   ],
   "source": [
    "jsysoo.groupby(\"학년\")[\"희망 진로\"].value_counts()"
   ]
  },
  {
   "cell_type": "code",
   "execution_count": 16,
   "id": "b2568619",
   "metadata": {},
   "outputs": [
    {
     "data": {
      "text/plain": [
       "<Axes: xlabel='학년,희망 진로'>"
      ]
     },
     "execution_count": 16,
     "metadata": {},
     "output_type": "execute_result"
    },
    {
     "data": {
      "image/png": "[encoded data removed]",
      "text/plain": [
       "<Figure size 640x480 with 1 Axes>"
      ]
     },
     "metadata": {},
     "output_type": "display_data"
    }
   ],
   "source": [
    "jsysoo.groupby(\"학년\")[\"희망 진로\"].value_counts().plot(kind=\"bar\")"
   ]
  },
  {
   "cell_type": "code",
   "execution_count": 17,
   "id": "1eed1861",
   "metadata": {},
   "outputs": [
    {
     "data": {
      "text/plain": [
       "<Axes: xlabel='학과(전공),희망 진로'>"
      ]
     },
     "execution_count": 17,
     "metadata": {},
     "output_type": "execute_result"
    },
    {
     "data": {
      "image/png": "[encoded data removed]",
      "text/plain": [
       "<Figure size 640x480 with 1 Axes>"
      ]
     },
     "metadata": {},
     "output_type": "display_data"
    }
   ],
   "source": [
    "jsysoo.groupby(\"학과(전공)\")[\"희망 진로\"].value_counts().plot(kind=\"bar\")"
   ]
  },
  {
   "cell_type": "code",
   "execution_count": 18,
   "id": "c09e5a39",
   "metadata": {},
   "outputs": [
    {
     "data": {
      "text/plain": [
       "성별\n",
       "남자    9\n",
       "여자    9\n",
       "Name: 자격증 개수, dtype: object"
      ]
     },
     "execution_count": 18,
     "metadata": {},
     "output_type": "execute_result"
    }
   ],
   "source": [
    "jsysoo.groupby(\"성별\")[\"자격증 개수\"].max()"
   ]
  },
  {
   "cell_type": "code",
   "execution_count": 19,
   "id": "abbc846f",
   "metadata": {},
   "outputs": [
    {
     "data": {
      "text/plain": [
       "자격증 개수  성별\n",
       "1       남자    30\n",
       "        여자    23\n",
       "10      남자     1\n",
       "10개 이상  남자     4\n",
       "        여자     3\n",
       "2       남자    42\n",
       "        여자    28\n",
       "3       남자    42\n",
       "        여자    12\n",
       "4       남자    48\n",
       "        여자    14\n",
       "5       남자    15\n",
       "        여자    10\n",
       "6       남자     4\n",
       "        여자     2\n",
       "7       남자     2\n",
       "        여자     1\n",
       "8       여자     3\n",
       "        남자     1\n",
       "9       남자     1\n",
       "        여자     1\n",
       "Name: 성별, dtype: int64"
      ]
     },
     "execution_count": 19,
     "metadata": {},
     "output_type": "execute_result"
    }
   ],
   "source": [
    "jsysoo.groupby(\"자격증 개수\")[\"성별\"].value_counts()"
   ]
  },
  {
   "cell_type": "code",
   "execution_count": 20,
   "id": "fbc10381",
   "metadata": {},
   "outputs": [
    {
     "data": {
      "text/plain": [
       "성별  자격증 개수\n",
       "남자  4         48\n",
       "    2         42\n",
       "    3         42\n",
       "    1         30\n",
       "    5         15\n",
       "    10개 이상     4\n",
       "    6          4\n",
       "    7          2\n",
       "    10         1\n",
       "    8          1\n",
       "    9          1\n",
       "여자  2         28\n",
       "    1         23\n",
       "    4         14\n",
       "    3         12\n",
       "    5         10\n",
       "    10개 이상     3\n",
       "    8          3\n",
       "    6          2\n",
       "    7          1\n",
       "    9          1\n",
       "Name: 자격증 개수, dtype: int64"
      ]
     },
     "execution_count": 20,
     "metadata": {},
     "output_type": "execute_result"
    }
   ],
   "source": [
    "jsysoo.groupby(\"성별\")[\"자격증 개수\"].value_counts()"
   ]
  },
  {
   "cell_type": "code",
   "execution_count": 21,
   "id": "94eb0866",
   "metadata": {},
   "outputs": [
    {
     "data": {
      "text/plain": [
       "<Axes: xlabel='성별,자격증 개수'>"
      ]
     },
     "execution_count": 21,
     "metadata": {},
     "output_type": "execute_result"
    },
    {
     "data": {
      "image/png": "[encoded data removed]",
      "text/plain": [
       "<Figure size 640x480 with 1 Axes>"
      ]
     },
     "metadata": {},
     "output_type": "display_data"
    }
   ],
   "source": [
    "jsysoo.groupby(\"성별\")[\"자격증 개수\"].value_counts().plot(kind=\"bar\")"
   ]
  },
  {
   "cell_type": "code",
   "execution_count": 22,
   "id": "eac57f4b",
   "metadata": {},
   "outputs": [
    {
     "data": {
      "text/plain": [
       "<Axes: >"
      ]
     },
     "execution_count": 22,
     "metadata": {},
     "output_type": "execute_result"
    },
    {
     "data": {
      "image/png": "[encoded data removed]",
      "text/plain": [
       "<Figure size 640x480 with 1 Axes>"
      ]
     },
     "metadata": {},
     "output_type": "display_data"
    }
   ],
   "source": [
    "jsysoo[jsysoo[\"성별\"]==\"남자\"][\"자격증 개수\"].value_counts().plot(kind=\"bar\")"
   ]
  },
  {
   "cell_type": "code",
   "execution_count": 23,
   "id": "776d88cb",
   "metadata": {},
   "outputs": [
    {
     "data": {
      "text/plain": [
       "<Axes: >"
      ]
     },
     "execution_count": 23,
     "metadata": {},
     "output_type": "execute_result"
    },
    {
     "data": {
      "image/png": "[encoded data removed]",
      "text/plain": [
       "<Figure size 640x480 with 1 Axes>"
      ]
     },
     "metadata": {},
     "output_type": "display_data"
    }
   ],
   "source": [
    "jsysoo[jsysoo[\"성별\"]==\"여자\"][\"자격증 개수\"].value_counts().plot(kind=\"bar\")"
   ]
  },
  {
   "cell_type": "code",
   "execution_count": 26,
   "id": "35e7d589",
   "metadata": {},
   "outputs": [
    {
     "data": {
      "text/plain": [
       "학년   자격증 개수\n",
       "1학년  2         52\n",
       "     1         43\n",
       "     3         24\n",
       "     4          6\n",
       "     5          4\n",
       "2학년  4         35\n",
       "     3         27\n",
       "     2         14\n",
       "     5          9\n",
       "     1          8\n",
       "     10개 이상     5\n",
       "     6          4\n",
       "     8          3\n",
       "     7          2\n",
       "     10         1\n",
       "     9          1\n",
       "3학년  4          9\n",
       "     5          9\n",
       "     10개 이상     2\n",
       "     2          2\n",
       "     6          2\n",
       "     1          1\n",
       "     3          1\n",
       "     7          1\n",
       "     8          1\n",
       "     9          1\n",
       "Name: 자격증 개수, dtype: int64"
      ]
     },
     "execution_count": 26,
     "metadata": {},
     "output_type": "execute_result"
    }
   ],
   "source": [
    "jsysoo.groupby(\"학년\")[\"자격증 개수\"].value_counts()"
   ]
  },
  {
   "cell_type": "code",
   "execution_count": 27,
   "id": "4e34c8a6",
   "metadata": {},
   "outputs": [
    {
     "data": {
      "text/plain": [
       "<AxesSubplot:>"
      ]
     },
     "execution_count": 27,
     "metadata": {},
     "output_type": "execute_result"
    },
    {
     "data": {
      "image/png": "[encoded data removed]",
      "text/plain": [
       "<Figure size 640x480 with 1 Axes>"
      ]
     },
     "metadata": {},
     "output_type": "display_data"
    }
   ],
   "source": [
    "jsysoo[jsysoo[\"학년\"]==\"3학년\"][\"자격증 개수\"].value_counts().plot(kind=\"bar\")"
   ]
  },
  {
   "cell_type": "code",
   "execution_count": 24,
   "id": "792ea9e1",
   "metadata": {},
   "outputs": [
    {
     "data": {
      "text/plain": [
       "남자    190\n",
       "여자     97\n",
       "Name: 성별, dtype: int64"
      ]
     },
     "execution_count": 24,
     "metadata": {},
     "output_type": "execute_result"
    }
   ],
   "source": [
    "jsysoo[\"성별\"].value_counts()"
   ]
  },
  {
   "cell_type": "code",
   "execution_count": 25,
   "id": "aea47708",
   "metadata": {},
   "outputs": [],
   "source": [
    "male = jsysoo[jsysoo[\"성별\"]==\"남자\"].sample(n=90)\n",
    "female = jsysoo[jsysoo[\"성별\"]==\"여자\"]"
   ]
  },
  {
   "cell_type": "code",
   "execution_count": 26,
   "id": "c122be0c",
   "metadata": {},
   "outputs": [],
   "source": [
    "new_jsysoo = pd.concat([male,female])"
   ]
  },
  {
   "cell_type": "code",
   "execution_count": 27,
   "id": "0e97ebec",
   "metadata": {
    "scrolled": true
   },
   "outputs": [
    {
     "data": {
      "text/html": [
       "<div>\n",
       "<style scoped>\n",
       "    .dataframe tbody tr th:only-of-type {\n",
       "        vertical-align: middle;\n",
       "    }\n",
       "\n",
       "    .dataframe tbody tr th {\n",
       "        vertical-align: top;\n",
       "    }\n",
       "\n",
       "    .dataframe thead th {\n",
       "        text-align: right;\n",
       "    }\n",
       "</style>\n",
       "<table border=\"1\" class=\"dataframe\">\n",
       "  <thead>\n",
       "    <tr style=\"text-align: right;\">\n",
       "      <th></th>\n",
       "      <th>타임스탬프</th>\n",
       "      <th>학년</th>\n",
       "      <th>성별</th>\n",
       "      <th>학과(전공)</th>\n",
       "      <th>취미</th>\n",
       "      <th>평균 공부 시간</th>\n",
       "      <th>공부하는 시간</th>\n",
       "      <th>자격증 개수</th>\n",
       "      <th>출석</th>\n",
       "      <th>평균 수면 시간</th>\n",
       "      <th>...</th>\n",
       "      <th>희망 연봉</th>\n",
       "      <th>학과 만족 O/X</th>\n",
       "      <th>취업 선호도</th>\n",
       "      <th>소셜 미디어 사용시간</th>\n",
       "      <th>통학 시간</th>\n",
       "      <th>학업 스트레스</th>\n",
       "      <th>교우관계</th>\n",
       "      <th>알바 유무</th>\n",
       "      <th>방과후 유무</th>\n",
       "      <th>방과후 만족도</th>\n",
       "    </tr>\n",
       "  </thead>\n",
       "  <tbody>\n",
       "    <tr>\n",
       "      <th>219</th>\n",
       "      <td>2023. 10. 12 오후 8:05:32</td>\n",
       "      <td>2학년</td>\n",
       "      <td>남자</td>\n",
       "      <td>금융경영과</td>\n",
       "      <td>기타</td>\n",
       "      <td>1시간-2시간</td>\n",
       "      <td>방과후(저녁)</td>\n",
       "      <td>3</td>\n",
       "      <td>한달에 한두번 빠져요</td>\n",
       "      <td>6시간 이상 자요</td>\n",
       "      <td>...</td>\n",
       "      <td>4000</td>\n",
       "      <td>O</td>\n",
       "      <td>5</td>\n",
       "      <td>2시간-3시간 이상</td>\n",
       "      <td>10-30분</td>\n",
       "      <td>3</td>\n",
       "      <td>3</td>\n",
       "      <td>X</td>\n",
       "      <td>X</td>\n",
       "      <td>3.0</td>\n",
       "    </tr>\n",
       "    <tr>\n",
       "      <th>184</th>\n",
       "      <td>2023. 10. 12 오후 5:18:46</td>\n",
       "      <td>2학년</td>\n",
       "      <td>남자</td>\n",
       "      <td>금융경영과</td>\n",
       "      <td>게임</td>\n",
       "      <td>30분-1시간</td>\n",
       "      <td>밤</td>\n",
       "      <td>7</td>\n",
       "      <td>절대 안빠지죠</td>\n",
       "      <td>6시간 이상 자요</td>\n",
       "      <td>...</td>\n",
       "      <td>3000</td>\n",
       "      <td>O</td>\n",
       "      <td>10</td>\n",
       "      <td>0-30분</td>\n",
       "      <td>30-1시간</td>\n",
       "      <td>2</td>\n",
       "      <td>1</td>\n",
       "      <td>O</td>\n",
       "      <td>X</td>\n",
       "      <td>NaN</td>\n",
       "    </tr>\n",
       "    <tr>\n",
       "      <th>112</th>\n",
       "      <td>2023. 10. 12 오후 3:48:52</td>\n",
       "      <td>1학년</td>\n",
       "      <td>남자</td>\n",
       "      <td>금융경영과</td>\n",
       "      <td>운동</td>\n",
       "      <td>30분-1시간</td>\n",
       "      <td>방과후(저녁)</td>\n",
       "      <td>1</td>\n",
       "      <td>한달에 한두번 이상 빠져요</td>\n",
       "      <td>6시간 이상 자요</td>\n",
       "      <td>...</td>\n",
       "      <td>1000</td>\n",
       "      <td>X</td>\n",
       "      <td>6</td>\n",
       "      <td>1시간-2시간</td>\n",
       "      <td>10-30분</td>\n",
       "      <td>2</td>\n",
       "      <td>1</td>\n",
       "      <td>X</td>\n",
       "      <td>O(아래 질문에 답변해주세요!)</td>\n",
       "      <td>10.0</td>\n",
       "    </tr>\n",
       "    <tr>\n",
       "      <th>188</th>\n",
       "      <td>2023. 10. 12 오후 6:05:24</td>\n",
       "      <td>2학년</td>\n",
       "      <td>남자</td>\n",
       "      <td>소프트웨어개발과</td>\n",
       "      <td>예술</td>\n",
       "      <td>2시간-3시간 이상</td>\n",
       "      <td>밤</td>\n",
       "      <td>4</td>\n",
       "      <td>절대 안빠지죠</td>\n",
       "      <td>1시간 이하 자요</td>\n",
       "      <td>...</td>\n",
       "      <td>1000</td>\n",
       "      <td>O</td>\n",
       "      <td>10</td>\n",
       "      <td>2시간-3시간 이상</td>\n",
       "      <td>2시간 이상</td>\n",
       "      <td>2</td>\n",
       "      <td>2</td>\n",
       "      <td>O</td>\n",
       "      <td>O(아래 질문에 답변해주세요!)</td>\n",
       "      <td>10.0</td>\n",
       "    </tr>\n",
       "    <tr>\n",
       "      <th>61</th>\n",
       "      <td>2023. 10. 12 오후 1:51:20</td>\n",
       "      <td>1학년</td>\n",
       "      <td>남자</td>\n",
       "      <td>스마트웹콘텐츠과</td>\n",
       "      <td>게임</td>\n",
       "      <td>30분-1시간</td>\n",
       "      <td>방과후(저녁)</td>\n",
       "      <td>1</td>\n",
       "      <td>절대 안빠지죠</td>\n",
       "      <td>6시간 이상 자요</td>\n",
       "      <td>...</td>\n",
       "      <td>4000</td>\n",
       "      <td>O</td>\n",
       "      <td>10</td>\n",
       "      <td>30-1시간</td>\n",
       "      <td>10-30분</td>\n",
       "      <td>2</td>\n",
       "      <td>3</td>\n",
       "      <td>X</td>\n",
       "      <td>O(아래 질문에 답변해주세요!)</td>\n",
       "      <td>10.0</td>\n",
       "    </tr>\n",
       "    <tr>\n",
       "      <th>...</th>\n",
       "      <td>...</td>\n",
       "      <td>...</td>\n",
       "      <td>...</td>\n",
       "      <td>...</td>\n",
       "      <td>...</td>\n",
       "      <td>...</td>\n",
       "      <td>...</td>\n",
       "      <td>...</td>\n",
       "      <td>...</td>\n",
       "      <td>...</td>\n",
       "      <td>...</td>\n",
       "      <td>...</td>\n",
       "      <td>...</td>\n",
       "      <td>...</td>\n",
       "      <td>...</td>\n",
       "      <td>...</td>\n",
       "      <td>...</td>\n",
       "      <td>...</td>\n",
       "      <td>...</td>\n",
       "      <td>...</td>\n",
       "      <td>...</td>\n",
       "    </tr>\n",
       "    <tr>\n",
       "      <th>273</th>\n",
       "      <td>2023. 10. 17 오후 3:08:40</td>\n",
       "      <td>2학년</td>\n",
       "      <td>여자</td>\n",
       "      <td>스마트웹콘텐츠과</td>\n",
       "      <td>운동</td>\n",
       "      <td>1시간-2시간</td>\n",
       "      <td>방과후(저녁)</td>\n",
       "      <td>4</td>\n",
       "      <td>절대 안빠지죠</td>\n",
       "      <td>2~4시간 자요</td>\n",
       "      <td>...</td>\n",
       "      <td>2000</td>\n",
       "      <td>O</td>\n",
       "      <td>8</td>\n",
       "      <td>1시간-2시간</td>\n",
       "      <td>1시간-2시간</td>\n",
       "      <td>4</td>\n",
       "      <td>1</td>\n",
       "      <td>O</td>\n",
       "      <td>O(아래 질문에 답변해주세요!)</td>\n",
       "      <td>9.0</td>\n",
       "    </tr>\n",
       "    <tr>\n",
       "      <th>274</th>\n",
       "      <td>2023. 10. 17 오후 3:08:43</td>\n",
       "      <td>2학년</td>\n",
       "      <td>여자</td>\n",
       "      <td>스마트웹콘텐츠과</td>\n",
       "      <td>영상시청</td>\n",
       "      <td>30분-1시간</td>\n",
       "      <td>밤</td>\n",
       "      <td>4</td>\n",
       "      <td>한달에 한두번 빠져요</td>\n",
       "      <td>4~6시간 자요</td>\n",
       "      <td>...</td>\n",
       "      <td>8000</td>\n",
       "      <td>O</td>\n",
       "      <td>7</td>\n",
       "      <td>2시간-3시간 이상</td>\n",
       "      <td>30-1시간</td>\n",
       "      <td>3</td>\n",
       "      <td>1</td>\n",
       "      <td>X</td>\n",
       "      <td>O(아래 질문에 답변해주세요!)</td>\n",
       "      <td>5.0</td>\n",
       "    </tr>\n",
       "    <tr>\n",
       "      <th>277</th>\n",
       "      <td>2023. 10. 17 오후 3:13:28</td>\n",
       "      <td>2학년</td>\n",
       "      <td>여자</td>\n",
       "      <td>스마트웹콘텐츠과</td>\n",
       "      <td>운동</td>\n",
       "      <td>0-30분</td>\n",
       "      <td>밤</td>\n",
       "      <td>4</td>\n",
       "      <td>절대 안빠지죠</td>\n",
       "      <td>2~4시간 자요</td>\n",
       "      <td>...</td>\n",
       "      <td>?</td>\n",
       "      <td>X</td>\n",
       "      <td>5</td>\n",
       "      <td>2시간-3시간 이상</td>\n",
       "      <td>10-30분</td>\n",
       "      <td>3</td>\n",
       "      <td>2</td>\n",
       "      <td>X</td>\n",
       "      <td>X</td>\n",
       "      <td>9.0</td>\n",
       "    </tr>\n",
       "    <tr>\n",
       "      <th>281</th>\n",
       "      <td>2023. 10. 17 오후 3:23:18</td>\n",
       "      <td>2학년</td>\n",
       "      <td>여자</td>\n",
       "      <td>스마트웹콘텐츠과</td>\n",
       "      <td>게임</td>\n",
       "      <td>1시간-2시간</td>\n",
       "      <td>밤</td>\n",
       "      <td>4</td>\n",
       "      <td>한달에 한두번 빠져요</td>\n",
       "      <td>6시간 이상 자요</td>\n",
       "      <td>...</td>\n",
       "      <td>5000</td>\n",
       "      <td>O</td>\n",
       "      <td>3</td>\n",
       "      <td>1시간-2시간</td>\n",
       "      <td>1시간-2시간</td>\n",
       "      <td>2</td>\n",
       "      <td>2</td>\n",
       "      <td>X</td>\n",
       "      <td>X</td>\n",
       "      <td>3.0</td>\n",
       "    </tr>\n",
       "    <tr>\n",
       "      <th>286</th>\n",
       "      <td>2023. 10. 17 오후 4:33:30</td>\n",
       "      <td>2학년</td>\n",
       "      <td>여자</td>\n",
       "      <td>스마트웹콘텐츠과</td>\n",
       "      <td>게임</td>\n",
       "      <td>0-30분</td>\n",
       "      <td>밤</td>\n",
       "      <td>5</td>\n",
       "      <td>절대 안빠지죠</td>\n",
       "      <td>6시간 이상 자요</td>\n",
       "      <td>...</td>\n",
       "      <td>2000</td>\n",
       "      <td>O</td>\n",
       "      <td>7</td>\n",
       "      <td>30-1시간</td>\n",
       "      <td>30-1시간</td>\n",
       "      <td>2</td>\n",
       "      <td>2</td>\n",
       "      <td>O</td>\n",
       "      <td>O(아래 질문에 답변해주세요!)</td>\n",
       "      <td>8.0</td>\n",
       "    </tr>\n",
       "  </tbody>\n",
       "</table>\n",
       "<p>187 rows × 23 columns</p>\n",
       "</div>"
      ],
      "text/plain": [
       "                       타임스탬프   학년  성별    학과(전공)    취미    평균 공부 시간  공부하는 시간  \\\n",
       "219  2023. 10. 12 오후 8:05:32  2학년  남자     금융경영과    기타     1시간-2시간  방과후(저녁)   \n",
       "184  2023. 10. 12 오후 5:18:46  2학년  남자     금융경영과    게임     30분-1시간        밤   \n",
       "112  2023. 10. 12 오후 3:48:52  1학년  남자     금융경영과    운동     30분-1시간  방과후(저녁)   \n",
       "188  2023. 10. 12 오후 6:05:24  2학년  남자  소프트웨어개발과    예술  2시간-3시간 이상        밤   \n",
       "61   2023. 10. 12 오후 1:51:20  1학년  남자  스마트웹콘텐츠과    게임     30분-1시간  방과후(저녁)   \n",
       "..                       ...  ...  ..       ...   ...         ...      ...   \n",
       "273  2023. 10. 17 오후 3:08:40  2학년  여자  스마트웹콘텐츠과    운동     1시간-2시간  방과후(저녁)   \n",
       "274  2023. 10. 17 오후 3:08:43  2학년  여자  스마트웹콘텐츠과  영상시청     30분-1시간        밤   \n",
       "277  2023. 10. 17 오후 3:13:28  2학년  여자  스마트웹콘텐츠과    운동       0-30분        밤   \n",
       "281  2023. 10. 17 오후 3:23:18  2학년  여자  스마트웹콘텐츠과    게임     1시간-2시간        밤   \n",
       "286  2023. 10. 17 오후 4:33:30  2학년  여자  스마트웹콘텐츠과    게임       0-30분        밤   \n",
       "\n",
       "    자격증 개수              출석   평균 수면 시간  ... 희망 연봉  학과 만족 O/X  취업 선호도  \\\n",
       "219      3     한달에 한두번 빠져요  6시간 이상 자요  ...  4000          O       5   \n",
       "184      7         절대 안빠지죠  6시간 이상 자요  ...  3000          O      10   \n",
       "112      1  한달에 한두번 이상 빠져요  6시간 이상 자요  ...  1000          X       6   \n",
       "188      4         절대 안빠지죠  1시간 이하 자요  ...  1000          O      10   \n",
       "61       1         절대 안빠지죠  6시간 이상 자요  ...  4000          O      10   \n",
       "..     ...             ...        ...  ...   ...        ...     ...   \n",
       "273      4         절대 안빠지죠   2~4시간 자요  ...  2000          O       8   \n",
       "274      4     한달에 한두번 빠져요   4~6시간 자요  ...  8000          O       7   \n",
       "277      4         절대 안빠지죠   2~4시간 자요  ...     ?          X       5   \n",
       "281      4     한달에 한두번 빠져요  6시간 이상 자요  ...  5000          O       3   \n",
       "286      5         절대 안빠지죠  6시간 이상 자요  ...  2000          O       7   \n",
       "\n",
       "    소셜 미디어 사용시간    통학 시간  학업 스트레스 교우관계 알바 유무             방과후 유무  방과후 만족도  \n",
       "219  2시간-3시간 이상   10-30분        3    3     X                  X      3.0  \n",
       "184       0-30분   30-1시간        2    1     O                  X      NaN  \n",
       "112     1시간-2시간   10-30분        2    1     X  O(아래 질문에 답변해주세요!)     10.0  \n",
       "188  2시간-3시간 이상   2시간 이상        2    2     O  O(아래 질문에 답변해주세요!)     10.0  \n",
       "61       30-1시간   10-30분        2    3     X  O(아래 질문에 답변해주세요!)     10.0  \n",
       "..          ...      ...      ...  ...   ...                ...      ...  \n",
       "273     1시간-2시간  1시간-2시간        4    1     O  O(아래 질문에 답변해주세요!)      9.0  \n",
       "274  2시간-3시간 이상   30-1시간        3    1     X  O(아래 질문에 답변해주세요!)      5.0  \n",
       "277  2시간-3시간 이상   10-30분        3    2     X                  X      9.0  \n",
       "281     1시간-2시간  1시간-2시간        2    2     X                  X      3.0  \n",
       "286      30-1시간   30-1시간        2    2     O  O(아래 질문에 답변해주세요!)      8.0  \n",
       "\n",
       "[187 rows x 23 columns]"
      ]
     },
     "execution_count": 27,
     "metadata": {},
     "output_type": "execute_result"
    }
   ],
   "source": [
    "new_jsysoo"
   ]
  },
  {
   "cell_type": "code",
   "execution_count": 28,
   "id": "91e85f25",
   "metadata": {},
   "outputs": [],
   "source": [
    "new_jsysoo=pd.melt(new_jsysoo,id_vars=[\"학과(전공)\"],value_vars=[\"수업 집중도(전공)\"])"
   ]
  },
  {
   "cell_type": "code",
   "execution_count": 29,
   "id": "434743dc",
   "metadata": {},
   "outputs": [
    {
     "data": {
      "text/html": [
       "<div>\n",
       "<style scoped>\n",
       "    .dataframe tbody tr th:only-of-type {\n",
       "        vertical-align: middle;\n",
       "    }\n",
       "\n",
       "    .dataframe tbody tr th {\n",
       "        vertical-align: top;\n",
       "    }\n",
       "\n",
       "    .dataframe thead th {\n",
       "        text-align: right;\n",
       "    }\n",
       "</style>\n",
       "<table border=\"1\" class=\"dataframe\">\n",
       "  <thead>\n",
       "    <tr style=\"text-align: right;\">\n",
       "      <th></th>\n",
       "      <th>학과(전공)</th>\n",
       "      <th>variable</th>\n",
       "      <th>value</th>\n",
       "    </tr>\n",
       "  </thead>\n",
       "  <tbody>\n",
       "    <tr>\n",
       "      <th>0</th>\n",
       "      <td>금융경영과</td>\n",
       "      <td>수업 집중도(전공)</td>\n",
       "      <td>5</td>\n",
       "    </tr>\n",
       "    <tr>\n",
       "      <th>1</th>\n",
       "      <td>금융경영과</td>\n",
       "      <td>수업 집중도(전공)</td>\n",
       "      <td>10</td>\n",
       "    </tr>\n",
       "    <tr>\n",
       "      <th>2</th>\n",
       "      <td>금융경영과</td>\n",
       "      <td>수업 집중도(전공)</td>\n",
       "      <td>10</td>\n",
       "    </tr>\n",
       "    <tr>\n",
       "      <th>3</th>\n",
       "      <td>소프트웨어개발과</td>\n",
       "      <td>수업 집중도(전공)</td>\n",
       "      <td>10</td>\n",
       "    </tr>\n",
       "    <tr>\n",
       "      <th>4</th>\n",
       "      <td>스마트웹콘텐츠과</td>\n",
       "      <td>수업 집중도(전공)</td>\n",
       "      <td>10</td>\n",
       "    </tr>\n",
       "    <tr>\n",
       "      <th>...</th>\n",
       "      <td>...</td>\n",
       "      <td>...</td>\n",
       "      <td>...</td>\n",
       "    </tr>\n",
       "    <tr>\n",
       "      <th>182</th>\n",
       "      <td>스마트웹콘텐츠과</td>\n",
       "      <td>수업 집중도(전공)</td>\n",
       "      <td>4</td>\n",
       "    </tr>\n",
       "    <tr>\n",
       "      <th>183</th>\n",
       "      <td>스마트웹콘텐츠과</td>\n",
       "      <td>수업 집중도(전공)</td>\n",
       "      <td>7</td>\n",
       "    </tr>\n",
       "    <tr>\n",
       "      <th>184</th>\n",
       "      <td>스마트웹콘텐츠과</td>\n",
       "      <td>수업 집중도(전공)</td>\n",
       "      <td>2</td>\n",
       "    </tr>\n",
       "    <tr>\n",
       "      <th>185</th>\n",
       "      <td>스마트웹콘텐츠과</td>\n",
       "      <td>수업 집중도(전공)</td>\n",
       "      <td>4</td>\n",
       "    </tr>\n",
       "    <tr>\n",
       "      <th>186</th>\n",
       "      <td>스마트웹콘텐츠과</td>\n",
       "      <td>수업 집중도(전공)</td>\n",
       "      <td>9</td>\n",
       "    </tr>\n",
       "  </tbody>\n",
       "</table>\n",
       "<p>187 rows × 3 columns</p>\n",
       "</div>"
      ],
      "text/plain": [
       "       학과(전공)    variable  value\n",
       "0       금융경영과  수업 집중도(전공)      5\n",
       "1       금융경영과  수업 집중도(전공)     10\n",
       "2       금융경영과  수업 집중도(전공)     10\n",
       "3    소프트웨어개발과  수업 집중도(전공)     10\n",
       "4    스마트웹콘텐츠과  수업 집중도(전공)     10\n",
       "..        ...         ...    ...\n",
       "182  스마트웹콘텐츠과  수업 집중도(전공)      4\n",
       "183  스마트웹콘텐츠과  수업 집중도(전공)      7\n",
       "184  스마트웹콘텐츠과  수업 집중도(전공)      2\n",
       "185  스마트웹콘텐츠과  수업 집중도(전공)      4\n",
       "186  스마트웹콘텐츠과  수업 집중도(전공)      9\n",
       "\n",
       "[187 rows x 3 columns]"
      ]
     },
     "execution_count": 29,
     "metadata": {},
     "output_type": "execute_result"
    }
   ],
   "source": [
    "new_jsysoo"
   ]
  },
  {
   "cell_type": "code",
   "execution_count": 252,
   "id": "e444f65c",
   "metadata": {},
   "outputs": [
    {
     "data": {
      "text/plain": [
       "(1.0, 10.0)"
      ]
     },
     "execution_count": 252,
     "metadata": {},
     "output_type": "execute_result"
    },
    {
     "data": {
      "image/png": "[encoded data removed]",
      "text/plain": [
       "<Figure size 640x480 with 1 Axes>"
      ]
     },
     "metadata": {},
     "output_type": "display_data"
    }
   ],
   "source": [
    "sns.barplot(data=new_jsysoo, x=\"variable\", y=\"value\",hue=\"학년\", dodge=True)\n",
    "plt.xlabel(\"학생\")\n",
    "plt.ylabel(\"선호도\")\n",
    "plt.ylim(1,10)"
   ]
  },
  {
   "cell_type": "code",
   "execution_count": 264,
   "id": "c62289f3",
   "metadata": {},
   "outputs": [
    {
     "data": {
      "text/plain": [
       "(1.0, 10.0)"
      ]
     },
     "execution_count": 264,
     "metadata": {},
     "output_type": "execute_result"
    },
    {
     "data": {
      "image/png": "[encoded data removed]",
      "text/plain": [
       "<Figure size 800x800 with 1 Axes>"
      ]
     },
     "metadata": {},
     "output_type": "display_data"
    }
   ],
   "source": [
    "plt.figure(figsize=(8,8))\n",
    "sns.barplot(data=new_jsysoo, x=\"variable\", y=\"value\",hue=\"학과(전공)\", dodge=True)\n",
    "plt.xlabel(\"전공\")\n",
    "plt.ylabel(\"선호도\")\n",
    "plt.ylim(1,10)"
   ]
  },
  {
   "cell_type": "code",
   "execution_count": 278,
   "id": "f939d637",
   "metadata": {},
   "outputs": [
    {
     "data": {
      "text/plain": [
       "(1.0, 4.0)"
      ]
     },
     "execution_count": 278,
     "metadata": {},
     "output_type": "execute_result"
    },
    {
     "data": {
      "image/png": "[encoded data removed]",
      "text/plain": [
       "<Figure size 800x800 with 1 Axes>"
      ]
     },
     "metadata": {},
     "output_type": "display_data"
    }
   ],
   "source": [
    "plt.figure(figsize=(8,8))\n",
    "sns.barplot(data=new_jsysoo, x=\"variable\", y=\"value\",hue=\"학과(전공)\", dodge=True)\n",
    "plt.xlabel(\"전공\")\n",
    "plt.ylabel(\"높을수록 안좋음\")\n",
    "plt.ylim(1,4)"
   ]
  },
  {
   "cell_type": "code",
   "execution_count": 279,
   "id": "7115ddf4",
   "metadata": {},
   "outputs": [
    {
     "name": "stdout",
     "output_type": "stream",
     "text": [
      "<class 'pandas.core.frame.DataFrame'>\n",
      "RangeIndex: 267 entries, 0 to 266\n",
      "Data columns (total 23 columns):\n",
      " #   Column       Non-Null Count  Dtype  \n",
      "---  ------       --------------  -----  \n",
      " 0   타임스탬프        267 non-null    object \n",
      " 1   학년           267 non-null    object \n",
      " 2   성별           267 non-null    object \n",
      " 3   학과(전공)       267 non-null    object \n",
      " 4   취미           267 non-null    object \n",
      " 5   평균 공부 시간     267 non-null    object \n",
      " 6   공부하는 시간      267 non-null    object \n",
      " 7   자격증 개수       267 non-null    object \n",
      " 8   출석           267 non-null    object \n",
      " 9   평균 수면 시간     267 non-null    object \n",
      " 10  희망 진로        267 non-null    object \n",
      " 11  수업 집중도       267 non-null    int64  \n",
      " 12  수업 집중도(전공)   267 non-null    int64  \n",
      " 13  희망 연봉        267 non-null    object \n",
      " 14  학과 만족 O/X    267 non-null    object \n",
      " 15  취업 선호도       267 non-null    int64  \n",
      " 16  소셜 미디어 사용시간  267 non-null    object \n",
      " 17  통학 시간        267 non-null    object \n",
      " 18  학업 스트레스      267 non-null    int64  \n",
      " 19  교우관계         267 non-null    int64  \n",
      " 20  알바 유무        267 non-null    object \n",
      " 21  방과후 유무       267 non-null    object \n",
      " 22  방과후 만족도      180 non-null    float64\n",
      "dtypes: float64(1), int64(5), object(17)\n",
      "memory usage: 48.1+ KB\n"
     ]
    }
   ],
   "source": [
    "jsysoo.info()"
   ]
  },
  {
   "cell_type": "code",
   "execution_count": 284,
   "id": "8c8b9ebf",
   "metadata": {},
   "outputs": [
    {
     "data": {
      "text/plain": [
       "(1.0, 10.0)"
      ]
     },
     "execution_count": 284,
     "metadata": {},
     "output_type": "execute_result"
    },
    {
     "data": {
      "image/png": "[encoded data removed]",
      "text/plain": [
       "<Figure size 800x800 with 1 Axes>"
      ]
     },
     "metadata": {},
     "output_type": "display_data"
    }
   ],
   "source": [
    "plt.figure(figsize=(8,8))\n",
    "sns.barplot(data=new_jsysoo, x=\"variable\", y=\"value\",hue=\"학과(전공)\", dodge=True)\n",
    "plt.xlabel(\"전공\")\n",
    "plt.ylabel(\"높을수록 좋음\")\n",
    "plt.ylim(1,10)"
   ]
  },
  {
   "cell_type": "code",
   "execution_count": null,
   "id": "4b7fd746",
   "metadata": {},
   "outputs": [],
   "source": []
  }
 ],
 "metadata": {
  "kernelspec": {
   "display_name": "Python 3 (ipykernel)",
   "language": "python",
   "name": "python3"
  },
  "language_info": {
   "codemirror_mode": {
    "name": "ipython",
    "version": 3
   },
   "file_extension": ".py",
   "mimetype": "text/x-python",
   "name": "python",
   "nbconvert_exporter": "python",
   "pygments_lexer": "ipython3",
   "version": "3.11.4"
  }
 },
 "nbformat": 4,
 "nbformat_minor": 5
}
