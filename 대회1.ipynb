{
 "cells": [
  {
   "cell_type": "markdown",
   "id": "31cfcaa4",
   "metadata": {},
   "source": [
    "# jsysoo팀\n",
    "\n",
    "## 주제 : 학생들의 진로\n",
    "\n",
    "## 조원 : 최수혁(조장), 안윤지(부조장), 김지우, 황성대"
   ]
  },
  {
   "cell_type": "code",
   "execution_count": 1,
   "id": "e39f6c42",
   "metadata": {},
   "outputs": [
    {
     "name": "stdout",
     "output_type": "stream",
     "text": [
      "Requirement already satisfied: plotly in c:\\users\\win10\\anaconda3\\lib\\site-packages (5.9.0)\n",
      "Requirement already satisfied: tenacity>=6.2.0 in c:\\users\\win10\\anaconda3\\lib\\site-packages (from plotly) (8.0.1)\n",
      "Requirement already satisfied: cufflinks in c:\\users\\win10\\anaconda3\\lib\\site-packages (0.17.3)\n",
      "Requirement already satisfied: six>=1.9.0 in c:\\users\\win10\\anaconda3\\lib\\site-packages (from cufflinks) (1.16.0)\n",
      "Requirement already satisfied: numpy>=1.9.2 in c:\\users\\win10\\anaconda3\\lib\\site-packages (from cufflinks) (1.21.5)\n",
      "Requirement already satisfied: ipython>=5.3.0 in c:\\users\\win10\\anaconda3\\lib\\site-packages (from cufflinks) (7.31.1)\n",
      "Requirement already satisfied: colorlover>=0.2.1 in c:\\users\\win10\\anaconda3\\lib\\site-packages (from cufflinks) (0.3.0)\n",
      "Requirement already satisfied: setuptools>=34.4.1 in c:\\users\\win10\\anaconda3\\lib\\site-packages (from cufflinks) (63.4.1)\n",
      "Requirement already satisfied: pandas>=0.19.2 in c:\\users\\win10\\anaconda3\\lib\\site-packages (from cufflinks) (1.4.4)\n",
      "Requirement already satisfied: plotly>=4.1.1 in c:\\users\\win10\\anaconda3\\lib\\site-packages (from cufflinks) (5.9.0)\n",
      "Requirement already satisfied: ipywidgets>=7.0.0 in c:\\users\\win10\\anaconda3\\lib\\site-packages (from cufflinks) (7.6.5)\n",
      "Requirement already satisfied: pickleshare in c:\\users\\win10\\anaconda3\\lib\\site-packages (from ipython>=5.3.0->cufflinks) (0.7.5)\n",
      "Requirement already satisfied: backcall in c:\\users\\win10\\anaconda3\\lib\\site-packages (from ipython>=5.3.0->cufflinks) (0.2.0)\n",
      "Requirement already satisfied: pygments in c:\\users\\win10\\anaconda3\\lib\\site-packages (from ipython>=5.3.0->cufflinks) (2.11.2)\n",
      "Requirement already satisfied: jedi>=0.16 in c:\\users\\win10\\anaconda3\\lib\\site-packages (from ipython>=5.3.0->cufflinks) (0.18.1)\n",
      "Requirement already satisfied: prompt-toolkit!=3.0.0,!=3.0.1,<3.1.0,>=2.0.0 in c:\\users\\win10\\anaconda3\\lib\\site-packages (from ipython>=5.3.0->cufflinks) (3.0.20)\n",
      "Requirement already satisfied: matplotlib-inline in c:\\users\\win10\\anaconda3\\lib\\site-packages (from ipython>=5.3.0->cufflinks) (0.1.6)\n",
      "Requirement already satisfied: decorator in c:\\users\\win10\\anaconda3\\lib\\site-packages (from ipython>=5.3.0->cufflinks) (5.1.1)\n",
      "Requirement already satisfied: colorama in c:\\users\\win10\\anaconda3\\lib\\site-packages (from ipython>=5.3.0->cufflinks) (0.4.5)\n",
      "Requirement already satisfied: traitlets>=4.2 in c:\\users\\win10\\anaconda3\\lib\\site-packages (from ipython>=5.3.0->cufflinks) (5.1.1)\n",
      "Requirement already satisfied: jupyterlab-widgets>=1.0.0 in c:\\users\\win10\\anaconda3\\lib\\site-packages (from ipywidgets>=7.0.0->cufflinks) (1.0.0)\n",
      "Requirement already satisfied: widgetsnbextension~=3.5.0 in c:\\users\\win10\\anaconda3\\lib\\site-packages (from ipywidgets>=7.0.0->cufflinks) (3.5.2)\n",
      "Requirement already satisfied: ipython-genutils~=0.2.0 in c:\\users\\win10\\anaconda3\\lib\\site-packages (from ipywidgets>=7.0.0->cufflinks) (0.2.0)\n",
      "Requirement already satisfied: ipykernel>=4.5.1 in c:\\users\\win10\\anaconda3\\lib\\site-packages (from ipywidgets>=7.0.0->cufflinks) (6.15.2)\n",
      "Requirement already satisfied: nbformat>=4.2.0 in c:\\users\\win10\\anaconda3\\lib\\site-packages (from ipywidgets>=7.0.0->cufflinks) (5.5.0)\n",
      "Requirement already satisfied: python-dateutil>=2.8.1 in c:\\users\\win10\\anaconda3\\lib\\site-packages (from pandas>=0.19.2->cufflinks) (2.8.2)\n",
      "Requirement already satisfied: pytz>=2020.1 in c:\\users\\win10\\anaconda3\\lib\\site-packages (from pandas>=0.19.2->cufflinks) (2022.1)\n",
      "Requirement already satisfied: tenacity>=6.2.0 in c:\\users\\win10\\anaconda3\\lib\\site-packages (from plotly>=4.1.1->cufflinks) (8.0.1)\n",
      "Requirement already satisfied: tornado>=6.1 in c:\\users\\win10\\anaconda3\\lib\\site-packages (from ipykernel>=4.5.1->ipywidgets>=7.0.0->cufflinks) (6.1)\n",
      "Requirement already satisfied: psutil in c:\\users\\win10\\anaconda3\\lib\\site-packages (from ipykernel>=4.5.1->ipywidgets>=7.0.0->cufflinks) (5.9.0)\n",
      "Requirement already satisfied: pyzmq>=17 in c:\\users\\win10\\anaconda3\\lib\\site-packages (from ipykernel>=4.5.1->ipywidgets>=7.0.0->cufflinks) (23.2.0)\n",
      "Requirement already satisfied: jupyter-client>=6.1.12 in c:\\users\\win10\\anaconda3\\lib\\site-packages (from ipykernel>=4.5.1->ipywidgets>=7.0.0->cufflinks) (7.3.4)\n",
      "Requirement already satisfied: packaging in c:\\users\\win10\\anaconda3\\lib\\site-packages (from ipykernel>=4.5.1->ipywidgets>=7.0.0->cufflinks) (21.3)\n",
      "Requirement already satisfied: nest-asyncio in c:\\users\\win10\\anaconda3\\lib\\site-packages (from ipykernel>=4.5.1->ipywidgets>=7.0.0->cufflinks) (1.5.5)\n",
      "Requirement already satisfied: debugpy>=1.0 in c:\\users\\win10\\anaconda3\\lib\\site-packages (from ipykernel>=4.5.1->ipywidgets>=7.0.0->cufflinks) (1.5.1)\n",
      "Requirement already satisfied: parso<0.9.0,>=0.8.0 in c:\\users\\win10\\anaconda3\\lib\\site-packages (from jedi>=0.16->ipython>=5.3.0->cufflinks) (0.8.3)\n",
      "Requirement already satisfied: jsonschema>=2.6 in c:\\users\\win10\\anaconda3\\lib\\site-packages (from nbformat>=4.2.0->ipywidgets>=7.0.0->cufflinks) (4.16.0)\n",
      "Requirement already satisfied: fastjsonschema in c:\\users\\win10\\anaconda3\\lib\\site-packages (from nbformat>=4.2.0->ipywidgets>=7.0.0->cufflinks) (2.16.2)\n",
      "Requirement already satisfied: jupyter_core in c:\\users\\win10\\anaconda3\\lib\\site-packages (from nbformat>=4.2.0->ipywidgets>=7.0.0->cufflinks) (4.11.1)\n",
      "Requirement already satisfied: wcwidth in c:\\users\\win10\\anaconda3\\lib\\site-packages (from prompt-toolkit!=3.0.0,!=3.0.1,<3.1.0,>=2.0.0->ipython>=5.3.0->cufflinks) (0.2.5)\n",
      "Requirement already satisfied: notebook>=4.4.1 in c:\\users\\win10\\anaconda3\\lib\\site-packages (from widgetsnbextension~=3.5.0->ipywidgets>=7.0.0->cufflinks) (6.4.12)\n",
      "Requirement already satisfied: attrs>=17.4.0 in c:\\users\\win10\\anaconda3\\lib\\site-packages (from jsonschema>=2.6->nbformat>=4.2.0->ipywidgets>=7.0.0->cufflinks) (21.4.0)\n",
      "Requirement already satisfied: pyrsistent!=0.17.0,!=0.17.1,!=0.17.2,>=0.14.0 in c:\\users\\win10\\anaconda3\\lib\\site-packages (from jsonschema>=2.6->nbformat>=4.2.0->ipywidgets>=7.0.0->cufflinks) (0.18.0)\n",
      "Requirement already satisfied: entrypoints in c:\\users\\win10\\anaconda3\\lib\\site-packages (from jupyter-client>=6.1.12->ipykernel>=4.5.1->ipywidgets>=7.0.0->cufflinks) (0.4)\n",
      "Requirement already satisfied: pywin32>=1.0 in c:\\users\\win10\\anaconda3\\lib\\site-packages (from jupyter_core->nbformat>=4.2.0->ipywidgets>=7.0.0->cufflinks) (302)\n",
      "Requirement already satisfied: terminado>=0.8.3 in c:\\users\\win10\\anaconda3\\lib\\site-packages (from notebook>=4.4.1->widgetsnbextension~=3.5.0->ipywidgets>=7.0.0->cufflinks) (0.13.1)\n",
      "Requirement already satisfied: prometheus-client in c:\\users\\win10\\anaconda3\\lib\\site-packages (from notebook>=4.4.1->widgetsnbextension~=3.5.0->ipywidgets>=7.0.0->cufflinks) (0.14.1)\n",
      "Requirement already satisfied: Send2Trash>=1.8.0 in c:\\users\\win10\\anaconda3\\lib\\site-packages (from notebook>=4.4.1->widgetsnbextension~=3.5.0->ipywidgets>=7.0.0->cufflinks) (1.8.0)\n",
      "Requirement already satisfied: nbconvert>=5 in c:\\users\\win10\\anaconda3\\lib\\site-packages (from notebook>=4.4.1->widgetsnbextension~=3.5.0->ipywidgets>=7.0.0->cufflinks) (6.4.4)\n",
      "Requirement already satisfied: argon2-cffi in c:\\users\\win10\\anaconda3\\lib\\site-packages (from notebook>=4.4.1->widgetsnbextension~=3.5.0->ipywidgets>=7.0.0->cufflinks) (21.3.0)\n",
      "Requirement already satisfied: jinja2 in c:\\users\\win10\\anaconda3\\lib\\site-packages (from notebook>=4.4.1->widgetsnbextension~=3.5.0->ipywidgets>=7.0.0->cufflinks) (2.11.3)\n",
      "Requirement already satisfied: pyparsing!=3.0.5,>=2.0.2 in c:\\users\\win10\\anaconda3\\lib\\site-packages (from packaging->ipykernel>=4.5.1->ipywidgets>=7.0.0->cufflinks) (3.0.9)\n",
      "Requirement already satisfied: defusedxml in c:\\users\\win10\\anaconda3\\lib\\site-packages (from nbconvert>=5->notebook>=4.4.1->widgetsnbextension~=3.5.0->ipywidgets>=7.0.0->cufflinks) (0.7.1)\n",
      "Requirement already satisfied: beautifulsoup4 in c:\\users\\win10\\anaconda3\\lib\\site-packages (from nbconvert>=5->notebook>=4.4.1->widgetsnbextension~=3.5.0->ipywidgets>=7.0.0->cufflinks) (4.11.1)\n",
      "Requirement already satisfied: testpath in c:\\users\\win10\\anaconda3\\lib\\site-packages (from nbconvert>=5->notebook>=4.4.1->widgetsnbextension~=3.5.0->ipywidgets>=7.0.0->cufflinks) (0.6.0)\n",
      "Requirement already satisfied: pandocfilters>=1.4.1 in c:\\users\\win10\\anaconda3\\lib\\site-packages (from nbconvert>=5->notebook>=4.4.1->widgetsnbextension~=3.5.0->ipywidgets>=7.0.0->cufflinks) (1.5.0)\n",
      "Requirement already satisfied: nbclient<0.6.0,>=0.5.0 in c:\\users\\win10\\anaconda3\\lib\\site-packages (from nbconvert>=5->notebook>=4.4.1->widgetsnbextension~=3.5.0->ipywidgets>=7.0.0->cufflinks) (0.5.13)\n",
      "Requirement already satisfied: jupyterlab-pygments in c:\\users\\win10\\anaconda3\\lib\\site-packages (from nbconvert>=5->notebook>=4.4.1->widgetsnbextension~=3.5.0->ipywidgets>=7.0.0->cufflinks) (0.1.2)\n",
      "Requirement already satisfied: bleach in c:\\users\\win10\\anaconda3\\lib\\site-packages (from nbconvert>=5->notebook>=4.4.1->widgetsnbextension~=3.5.0->ipywidgets>=7.0.0->cufflinks) (4.1.0)\n",
      "Requirement already satisfied: mistune<2,>=0.8.1 in c:\\users\\win10\\anaconda3\\lib\\site-packages (from nbconvert>=5->notebook>=4.4.1->widgetsnbextension~=3.5.0->ipywidgets>=7.0.0->cufflinks) (0.8.4)\n",
      "Requirement already satisfied: MarkupSafe>=0.23 in c:\\users\\win10\\anaconda3\\lib\\site-packages (from jinja2->notebook>=4.4.1->widgetsnbextension~=3.5.0->ipywidgets>=7.0.0->cufflinks) (2.0.1)\n",
      "Requirement already satisfied: pywinpty>=1.1.0 in c:\\users\\win10\\anaconda3\\lib\\site-packages (from terminado>=0.8.3->notebook>=4.4.1->widgetsnbextension~=3.5.0->ipywidgets>=7.0.0->cufflinks) (2.0.2)\n",
      "Requirement already satisfied: argon2-cffi-bindings in c:\\users\\win10\\anaconda3\\lib\\site-packages (from argon2-cffi->notebook>=4.4.1->widgetsnbextension~=3.5.0->ipywidgets>=7.0.0->cufflinks) (21.2.0)\n",
      "Requirement already satisfied: cffi>=1.0.1 in c:\\users\\win10\\anaconda3\\lib\\site-packages (from argon2-cffi-bindings->argon2-cffi->notebook>=4.4.1->widgetsnbextension~=3.5.0->ipywidgets>=7.0.0->cufflinks) (1.15.1)\n",
      "Requirement already satisfied: soupsieve>1.2 in c:\\users\\win10\\anaconda3\\lib\\site-packages (from beautifulsoup4->nbconvert>=5->notebook>=4.4.1->widgetsnbextension~=3.5.0->ipywidgets>=7.0.0->cufflinks) (2.3.1)\n",
      "Requirement already satisfied: webencodings in c:\\users\\win10\\anaconda3\\lib\\site-packages (from bleach->nbconvert>=5->notebook>=4.4.1->widgetsnbextension~=3.5.0->ipywidgets>=7.0.0->cufflinks) (0.5.1)\n",
      "Requirement already satisfied: pycparser in c:\\users\\win10\\anaconda3\\lib\\site-packages (from cffi>=1.0.1->argon2-cffi-bindings->argon2-cffi->notebook>=4.4.1->widgetsnbextension~=3.5.0->ipywidgets>=7.0.0->cufflinks) (2.21)\n"
     ]
    }
   ],
   "source": [
    "!pip install plotly\n",
    "!pip install cufflinks"
   ]
  },
  {
   "cell_type": "code",
   "execution_count": 2,
   "id": "748b1132",
   "metadata": {},
   "outputs": [],
   "source": [
    "import pandas as pd\n",
    "import numpy as np\n",
    "import matplotlib.pyplot as plt\n",
    "import seaborn as sns\n",
    "from matplotlib import style\n",
    "import plotly.graph_objects as go\n",
    "from plotly.subplots import make_subplots\n",
    "import warnings\n",
    "\n",
    "%matplotlib inline"
   ]
  },
  {
   "cell_type": "code",
   "execution_count": 7,
   "id": "eb6c5815",
   "metadata": {},
   "outputs": [],
   "source": [
    "plt.rcParams[\"font.family\"] = \"Malgun Gothic\"\n",
    "plt.rcParams[\"axes.unicode_minus\"] = False\n",
    "df = pd.read_csv(\"data/school_report_ver2.csv\", encoding=\"cp949\")"
   ]
  },
  {
   "cell_type": "code",
   "execution_count": 6,
   "id": "addeae34",
   "metadata": {},
   "outputs": [
    {
     "data": {
      "text/html": [
       "<div>\n",
       "<style scoped>\n",
       "    .dataframe tbody tr th:only-of-type {\n",
       "        vertical-align: middle;\n",
       "    }\n",
       "\n",
       "    .dataframe tbody tr th {\n",
       "        vertical-align: top;\n",
       "    }\n",
       "\n",
       "    .dataframe thead th {\n",
       "        text-align: right;\n",
       "    }\n",
       "</style>\n",
       "<table border=\"1\" class=\"dataframe\">\n",
       "  <thead>\n",
       "    <tr style=\"text-align: right;\">\n",
       "      <th></th>\n",
       "      <th>성별</th>\n",
       "      <th>전공</th>\n",
       "      <th>신장</th>\n",
       "      <th>몸무게</th>\n",
       "      <th>1학년평균성적</th>\n",
       "      <th>2학년평균성적</th>\n",
       "      <th>3학년평균성적</th>\n",
       "      <th>취미</th>\n",
       "      <th>일평균학습시간</th>\n",
       "      <th>집중공부시간</th>\n",
       "      <th>기대연봉</th>\n",
       "      <th>전공만족여부</th>\n",
       "      <th>전공관련취업선호도</th>\n",
       "      <th>일평균소셜미디어사용시간</th>\n",
       "      <th>통학시간</th>\n",
       "      <th>학업스트레스</th>\n",
       "      <th>교우관계스트레스</th>\n",
       "      <th>아르바이트여부</th>\n",
       "      <th>방과후수업여부</th>\n",
       "    </tr>\n",
       "  </thead>\n",
       "  <tbody>\n",
       "    <tr>\n",
       "      <th>0</th>\n",
       "      <td>Male</td>\n",
       "      <td>BCA</td>\n",
       "      <td>100.0</td>\n",
       "      <td>58.0</td>\n",
       "      <td>79.0</td>\n",
       "      <td>65.0</td>\n",
       "      <td>80.0</td>\n",
       "      <td>Video Games</td>\n",
       "      <td>0 - 30 minute</td>\n",
       "      <td>Morning</td>\n",
       "      <td>40000</td>\n",
       "      <td>No</td>\n",
       "      <td>50%</td>\n",
       "      <td>1.30 - 2 hour</td>\n",
       "      <td>30 - 60 minutes</td>\n",
       "      <td>나쁨</td>\n",
       "      <td>나쁨</td>\n",
       "      <td>No</td>\n",
       "      <td>No</td>\n",
       "    </tr>\n",
       "    <tr>\n",
       "      <th>1</th>\n",
       "      <td>Female</td>\n",
       "      <td>BCA</td>\n",
       "      <td>90.0</td>\n",
       "      <td>40.0</td>\n",
       "      <td>70.0</td>\n",
       "      <td>80.0</td>\n",
       "      <td>70.0</td>\n",
       "      <td>Cinema</td>\n",
       "      <td>30 - 60 minute</td>\n",
       "      <td>Morning</td>\n",
       "      <td>15000</td>\n",
       "      <td>Yes</td>\n",
       "      <td>75%</td>\n",
       "      <td>1 - 1.30 hour</td>\n",
       "      <td>0 - 30 minutes</td>\n",
       "      <td>나쁨</td>\n",
       "      <td>나쁨</td>\n",
       "      <td>No</td>\n",
       "      <td>No</td>\n",
       "    </tr>\n",
       "    <tr>\n",
       "      <th>2</th>\n",
       "      <td>Male</td>\n",
       "      <td>BCA</td>\n",
       "      <td>159.0</td>\n",
       "      <td>78.0</td>\n",
       "      <td>69.5</td>\n",
       "      <td>61.0</td>\n",
       "      <td>55.0</td>\n",
       "      <td>Cinema</td>\n",
       "      <td>1 - 2 Hour</td>\n",
       "      <td>Anytime</td>\n",
       "      <td>13000</td>\n",
       "      <td>Yes</td>\n",
       "      <td>50%</td>\n",
       "      <td>More than 2 hour</td>\n",
       "      <td>30 - 60 minutes</td>\n",
       "      <td>끔찍함</td>\n",
       "      <td>나쁨</td>\n",
       "      <td>No</td>\n",
       "      <td>Yes</td>\n",
       "    </tr>\n",
       "    <tr>\n",
       "      <th>3</th>\n",
       "      <td>Female</td>\n",
       "      <td>BCA</td>\n",
       "      <td>147.0</td>\n",
       "      <td>20.0</td>\n",
       "      <td>70.0</td>\n",
       "      <td>59.0</td>\n",
       "      <td>58.0</td>\n",
       "      <td>Reading books</td>\n",
       "      <td>1 - 2 Hour</td>\n",
       "      <td>Anytime</td>\n",
       "      <td>1500000</td>\n",
       "      <td>No</td>\n",
       "      <td>50%</td>\n",
       "      <td>1.30 - 2 hour</td>\n",
       "      <td>0 - 30 minutes</td>\n",
       "      <td>나쁨</td>\n",
       "      <td>좋음</td>\n",
       "      <td>No</td>\n",
       "      <td>Yes</td>\n",
       "    </tr>\n",
       "    <tr>\n",
       "      <th>4</th>\n",
       "      <td>Male</td>\n",
       "      <td>BCA</td>\n",
       "      <td>170.0</td>\n",
       "      <td>54.0</td>\n",
       "      <td>40.0</td>\n",
       "      <td>65.0</td>\n",
       "      <td>30.0</td>\n",
       "      <td>Video Games</td>\n",
       "      <td>30 - 60 minute</td>\n",
       "      <td>Morning</td>\n",
       "      <td>50000</td>\n",
       "      <td>Yes</td>\n",
       "      <td>25%</td>\n",
       "      <td>1.30 - 2 hour</td>\n",
       "      <td>30 - 60 minutes</td>\n",
       "      <td>좋음</td>\n",
       "      <td>좋음</td>\n",
       "      <td>No</td>\n",
       "      <td>No</td>\n",
       "    </tr>\n",
       "  </tbody>\n",
       "</table>\n",
       "</div>"
      ],
      "text/plain": [
       "       성별   전공     신장   몸무게  1학년평균성적  2학년평균성적  3학년평균성적             취미  \\\n",
       "0    Male  BCA  100.0  58.0     79.0     65.0     80.0    Video Games   \n",
       "1  Female  BCA   90.0  40.0     70.0     80.0     70.0         Cinema   \n",
       "2    Male  BCA  159.0  78.0     69.5     61.0     55.0         Cinema   \n",
       "3  Female  BCA  147.0  20.0     70.0     59.0     58.0  Reading books   \n",
       "4    Male  BCA  170.0  54.0     40.0     65.0     30.0    Video Games   \n",
       "\n",
       "          일평균학습시간   집중공부시간     기대연봉 전공만족여부 전공관련취업선호도      일평균소셜미디어사용시간  \\\n",
       "0   0 - 30 minute  Morning    40000     No       50%     1.30 - 2 hour   \n",
       "1  30 - 60 minute  Morning    15000    Yes       75%     1 - 1.30 hour   \n",
       "2      1 - 2 Hour  Anytime    13000    Yes       50%  More than 2 hour   \n",
       "3      1 - 2 Hour  Anytime  1500000     No       50%     1.30 - 2 hour   \n",
       "4  30 - 60 minute  Morning    50000    Yes       25%     1.30 - 2 hour   \n",
       "\n",
       "              통학시간 학업스트레스 교우관계스트레스 아르바이트여부 방과후수업여부  \n",
       "0  30 - 60 minutes     나쁨       나쁨      No      No  \n",
       "1   0 - 30 minutes     나쁨       나쁨      No      No  \n",
       "2  30 - 60 minutes    끔찍함       나쁨      No     Yes  \n",
       "3   0 - 30 minutes     나쁨       좋음      No     Yes  \n",
       "4  30 - 60 minutes     좋음       좋음      No      No  "
      ]
     },
     "execution_count": 6,
     "metadata": {},
     "output_type": "execute_result"
    }
   ],
   "source": [
    "df.head()"
   ]
  },
  {
   "cell_type": "code",
   "execution_count": 10,
   "id": "1d58b208",
   "metadata": {},
   "outputs": [],
   "source": [
    "jsysoo = pd.read_csv(\"data/대회 설문조사지.csv\", encoding = \"cp949\")\n",
    "jsysoo[\"희망 연봉\"]=jsysoo[\"희망 연봉\"].replace([\"?\"],[None]).astype(\"float\")"
   ]
  },
  {
   "cell_type": "markdown",
   "id": "d437b877",
   "metadata": {},
   "source": [
    "# 대회 데이터\n",
    "\n",
    "학생의 진로와 관련된 데이터를 알아내기 위해 아래와 같은 데이터를 구했습니다.\n",
    "주로 학생의 학년, 성별, 학과(전공), 희망 연봉, 자격증 개수와 같은 데이터를 구했고,\n",
    "다른 데이터를 추가로 구해 데이터를 가공했습니다."
   ]
  },
  {
   "cell_type": "code",
   "execution_count": 11,
   "id": "6f352e0c",
   "metadata": {},
   "outputs": [
    {
     "data": {
      "text/html": [
       "<div>\n",
       "<style scoped>\n",
       "    .dataframe tbody tr th:only-of-type {\n",
       "        vertical-align: middle;\n",
       "    }\n",
       "\n",
       "    .dataframe tbody tr th {\n",
       "        vertical-align: top;\n",
       "    }\n",
       "\n",
       "    .dataframe thead th {\n",
       "        text-align: right;\n",
       "    }\n",
       "</style>\n",
       "<table border=\"1\" class=\"dataframe\">\n",
       "  <thead>\n",
       "    <tr style=\"text-align: right;\">\n",
       "      <th></th>\n",
       "      <th>타임스탬프</th>\n",
       "      <th>학년</th>\n",
       "      <th>성별</th>\n",
       "      <th>학과(전공)</th>\n",
       "      <th>취미</th>\n",
       "      <th>평균 공부 시간</th>\n",
       "      <th>공부하는 시간</th>\n",
       "      <th>자격증 개수</th>\n",
       "      <th>출석</th>\n",
       "      <th>평균 수면 시간</th>\n",
       "      <th>...</th>\n",
       "      <th>희망 연봉</th>\n",
       "      <th>학과 만족 O/X</th>\n",
       "      <th>취업 선호도</th>\n",
       "      <th>소셜 미디어 사용시간</th>\n",
       "      <th>통학 시간</th>\n",
       "      <th>학업 스트레스</th>\n",
       "      <th>교우관계</th>\n",
       "      <th>알바 유무</th>\n",
       "      <th>방과후 유무</th>\n",
       "      <th>방과후 만족도</th>\n",
       "    </tr>\n",
       "  </thead>\n",
       "  <tbody>\n",
       "    <tr>\n",
       "      <th>0</th>\n",
       "      <td>2023. 10. 12 오후 12:21:46</td>\n",
       "      <td>2학년</td>\n",
       "      <td>남자</td>\n",
       "      <td>창업마케팅과</td>\n",
       "      <td>운동</td>\n",
       "      <td>1시간-2시간</td>\n",
       "      <td>방과후(저녁)</td>\n",
       "      <td>4</td>\n",
       "      <td>절대 안빠지죠</td>\n",
       "      <td>6시간 이상 자요</td>\n",
       "      <td>...</td>\n",
       "      <td>3000.0</td>\n",
       "      <td>O</td>\n",
       "      <td>5</td>\n",
       "      <td>1시간-2시간</td>\n",
       "      <td>10-30분</td>\n",
       "      <td>2</td>\n",
       "      <td>3</td>\n",
       "      <td>X</td>\n",
       "      <td>O(아래 질문에 답변해주세요!)</td>\n",
       "      <td>8.0</td>\n",
       "    </tr>\n",
       "    <tr>\n",
       "      <th>1</th>\n",
       "      <td>2023. 10. 12 오후 12:21:49</td>\n",
       "      <td>2학년</td>\n",
       "      <td>남자</td>\n",
       "      <td>창업마케팅과</td>\n",
       "      <td>게임</td>\n",
       "      <td>0-30분</td>\n",
       "      <td>기타</td>\n",
       "      <td>4</td>\n",
       "      <td>반년에 한두번 빠져요</td>\n",
       "      <td>4~6시간 자요</td>\n",
       "      <td>...</td>\n",
       "      <td>2000.0</td>\n",
       "      <td>O</td>\n",
       "      <td>5</td>\n",
       "      <td>2시간-3시간 이상</td>\n",
       "      <td>10-30분</td>\n",
       "      <td>3</td>\n",
       "      <td>2</td>\n",
       "      <td>X</td>\n",
       "      <td>O(아래 질문에 답변해주세요!)</td>\n",
       "      <td>5.0</td>\n",
       "    </tr>\n",
       "    <tr>\n",
       "      <th>2</th>\n",
       "      <td>2023. 10. 12 오후 12:23:07</td>\n",
       "      <td>3학년</td>\n",
       "      <td>남자</td>\n",
       "      <td>소프트웨어개발과</td>\n",
       "      <td>게임</td>\n",
       "      <td>0-30분</td>\n",
       "      <td>기타</td>\n",
       "      <td>6</td>\n",
       "      <td>절대 안빠지죠</td>\n",
       "      <td>6시간 이상 자요</td>\n",
       "      <td>...</td>\n",
       "      <td>3000.0</td>\n",
       "      <td>O</td>\n",
       "      <td>7</td>\n",
       "      <td>1시간-2시간</td>\n",
       "      <td>10-30분</td>\n",
       "      <td>2</td>\n",
       "      <td>1</td>\n",
       "      <td>X</td>\n",
       "      <td>X</td>\n",
       "      <td>NaN</td>\n",
       "    </tr>\n",
       "    <tr>\n",
       "      <th>3</th>\n",
       "      <td>2023. 10. 12 오후 12:23:25</td>\n",
       "      <td>3학년</td>\n",
       "      <td>남자</td>\n",
       "      <td>소프트웨어개발과</td>\n",
       "      <td>게임</td>\n",
       "      <td>0-30분</td>\n",
       "      <td>밤</td>\n",
       "      <td>5</td>\n",
       "      <td>절대 안빠지죠</td>\n",
       "      <td>4~6시간 자요</td>\n",
       "      <td>...</td>\n",
       "      <td>3000.0</td>\n",
       "      <td>O</td>\n",
       "      <td>5</td>\n",
       "      <td>0-30분</td>\n",
       "      <td>10-30분</td>\n",
       "      <td>3</td>\n",
       "      <td>1</td>\n",
       "      <td>X</td>\n",
       "      <td>X</td>\n",
       "      <td>1.0</td>\n",
       "    </tr>\n",
       "    <tr>\n",
       "      <th>4</th>\n",
       "      <td>2023. 10. 12 오후 12:23:28</td>\n",
       "      <td>2학년</td>\n",
       "      <td>남자</td>\n",
       "      <td>창업마케팅과</td>\n",
       "      <td>음악</td>\n",
       "      <td>0-30분</td>\n",
       "      <td>기타</td>\n",
       "      <td>6</td>\n",
       "      <td>한달에 한두번 빠져요</td>\n",
       "      <td>2~4시간 자요</td>\n",
       "      <td>...</td>\n",
       "      <td>NaN</td>\n",
       "      <td>O</td>\n",
       "      <td>5</td>\n",
       "      <td>2시간-3시간 이상</td>\n",
       "      <td>1시간-2시간</td>\n",
       "      <td>1</td>\n",
       "      <td>1</td>\n",
       "      <td>O</td>\n",
       "      <td>X</td>\n",
       "      <td>NaN</td>\n",
       "    </tr>\n",
       "    <tr>\n",
       "      <th>...</th>\n",
       "      <td>...</td>\n",
       "      <td>...</td>\n",
       "      <td>...</td>\n",
       "      <td>...</td>\n",
       "      <td>...</td>\n",
       "      <td>...</td>\n",
       "      <td>...</td>\n",
       "      <td>...</td>\n",
       "      <td>...</td>\n",
       "      <td>...</td>\n",
       "      <td>...</td>\n",
       "      <td>...</td>\n",
       "      <td>...</td>\n",
       "      <td>...</td>\n",
       "      <td>...</td>\n",
       "      <td>...</td>\n",
       "      <td>...</td>\n",
       "      <td>...</td>\n",
       "      <td>...</td>\n",
       "      <td>...</td>\n",
       "      <td>...</td>\n",
       "    </tr>\n",
       "    <tr>\n",
       "      <th>282</th>\n",
       "      <td>2023. 10. 17 오후 3:24:40</td>\n",
       "      <td>2학년</td>\n",
       "      <td>남자</td>\n",
       "      <td>스마트웹콘텐츠과</td>\n",
       "      <td>게임</td>\n",
       "      <td>0-30분</td>\n",
       "      <td>방과후(저녁)</td>\n",
       "      <td>4</td>\n",
       "      <td>한달에 한두번 이상 빠져요</td>\n",
       "      <td>6시간 이상 자요</td>\n",
       "      <td>...</td>\n",
       "      <td>4000.0</td>\n",
       "      <td>O</td>\n",
       "      <td>7</td>\n",
       "      <td>2시간-3시간 이상</td>\n",
       "      <td>10-30분</td>\n",
       "      <td>3</td>\n",
       "      <td>1</td>\n",
       "      <td>X</td>\n",
       "      <td>X</td>\n",
       "      <td>NaN</td>\n",
       "    </tr>\n",
       "    <tr>\n",
       "      <th>283</th>\n",
       "      <td>2023. 10. 17 오후 3:27:17</td>\n",
       "      <td>2학년</td>\n",
       "      <td>남자</td>\n",
       "      <td>스마트웹콘텐츠과</td>\n",
       "      <td>게임</td>\n",
       "      <td>0-30분</td>\n",
       "      <td>방과후(저녁)</td>\n",
       "      <td>4</td>\n",
       "      <td>절대 안빠지죠</td>\n",
       "      <td>6시간 이상 자요</td>\n",
       "      <td>...</td>\n",
       "      <td>NaN</td>\n",
       "      <td>O</td>\n",
       "      <td>5</td>\n",
       "      <td>2시간-3시간 이상</td>\n",
       "      <td>10-30분</td>\n",
       "      <td>3</td>\n",
       "      <td>1</td>\n",
       "      <td>X</td>\n",
       "      <td>X</td>\n",
       "      <td>1.0</td>\n",
       "    </tr>\n",
       "    <tr>\n",
       "      <th>284</th>\n",
       "      <td>2023. 10. 17 오후 3:27:41</td>\n",
       "      <td>2학년</td>\n",
       "      <td>남자</td>\n",
       "      <td>스마트웹콘텐츠과</td>\n",
       "      <td>운동</td>\n",
       "      <td>2시간-3시간 이상</td>\n",
       "      <td>방과후(저녁)</td>\n",
       "      <td>4</td>\n",
       "      <td>절대 안빠지죠</td>\n",
       "      <td>4~6시간 자요</td>\n",
       "      <td>...</td>\n",
       "      <td>NaN</td>\n",
       "      <td>O</td>\n",
       "      <td>4</td>\n",
       "      <td>1시간-2시간</td>\n",
       "      <td>30-1시간</td>\n",
       "      <td>3</td>\n",
       "      <td>1</td>\n",
       "      <td>X</td>\n",
       "      <td>O(아래 질문에 답변해주세요!)</td>\n",
       "      <td>8.0</td>\n",
       "    </tr>\n",
       "    <tr>\n",
       "      <th>285</th>\n",
       "      <td>2023. 10. 17 오후 3:28:23</td>\n",
       "      <td>2학년</td>\n",
       "      <td>남자</td>\n",
       "      <td>스마트웹콘텐츠과</td>\n",
       "      <td>운동</td>\n",
       "      <td>30분-1시간</td>\n",
       "      <td>밤</td>\n",
       "      <td>2</td>\n",
       "      <td>한달에 한두번 빠져요</td>\n",
       "      <td>6시간 이상 자요</td>\n",
       "      <td>...</td>\n",
       "      <td>5000.0</td>\n",
       "      <td>O</td>\n",
       "      <td>5</td>\n",
       "      <td>1시간-2시간</td>\n",
       "      <td>30-1시간</td>\n",
       "      <td>3</td>\n",
       "      <td>3</td>\n",
       "      <td>O</td>\n",
       "      <td>X</td>\n",
       "      <td>NaN</td>\n",
       "    </tr>\n",
       "    <tr>\n",
       "      <th>286</th>\n",
       "      <td>2023. 10. 17 오후 4:33:30</td>\n",
       "      <td>2학년</td>\n",
       "      <td>여자</td>\n",
       "      <td>스마트웹콘텐츠과</td>\n",
       "      <td>게임</td>\n",
       "      <td>0-30분</td>\n",
       "      <td>밤</td>\n",
       "      <td>5</td>\n",
       "      <td>절대 안빠지죠</td>\n",
       "      <td>6시간 이상 자요</td>\n",
       "      <td>...</td>\n",
       "      <td>2000.0</td>\n",
       "      <td>O</td>\n",
       "      <td>7</td>\n",
       "      <td>30-1시간</td>\n",
       "      <td>30-1시간</td>\n",
       "      <td>2</td>\n",
       "      <td>2</td>\n",
       "      <td>O</td>\n",
       "      <td>O(아래 질문에 답변해주세요!)</td>\n",
       "      <td>8.0</td>\n",
       "    </tr>\n",
       "  </tbody>\n",
       "</table>\n",
       "<p>287 rows × 23 columns</p>\n",
       "</div>"
      ],
      "text/plain": [
       "                        타임스탬프   학년  성별    학과(전공)  취미    평균 공부 시간  공부하는 시간  \\\n",
       "0    2023. 10. 12 오후 12:21:46  2학년  남자    창업마케팅과  운동     1시간-2시간  방과후(저녁)   \n",
       "1    2023. 10. 12 오후 12:21:49  2학년  남자    창업마케팅과  게임       0-30분       기타   \n",
       "2    2023. 10. 12 오후 12:23:07  3학년  남자  소프트웨어개발과  게임       0-30분       기타   \n",
       "3    2023. 10. 12 오후 12:23:25  3학년  남자  소프트웨어개발과  게임       0-30분        밤   \n",
       "4    2023. 10. 12 오후 12:23:28  2학년  남자    창업마케팅과  음악       0-30분       기타   \n",
       "..                        ...  ...  ..       ...  ..         ...      ...   \n",
       "282   2023. 10. 17 오후 3:24:40  2학년  남자  스마트웹콘텐츠과  게임       0-30분  방과후(저녁)   \n",
       "283   2023. 10. 17 오후 3:27:17  2학년  남자  스마트웹콘텐츠과  게임       0-30분  방과후(저녁)   \n",
       "284   2023. 10. 17 오후 3:27:41  2학년  남자  스마트웹콘텐츠과  운동  2시간-3시간 이상  방과후(저녁)   \n",
       "285   2023. 10. 17 오후 3:28:23  2학년  남자  스마트웹콘텐츠과  운동     30분-1시간        밤   \n",
       "286   2023. 10. 17 오후 4:33:30  2학년  여자  스마트웹콘텐츠과  게임       0-30분        밤   \n",
       "\n",
       "    자격증 개수              출석   평균 수면 시간  ...   희망 연봉  학과 만족 O/X  취업 선호도  \\\n",
       "0        4         절대 안빠지죠  6시간 이상 자요  ...  3000.0          O       5   \n",
       "1        4     반년에 한두번 빠져요   4~6시간 자요  ...  2000.0          O       5   \n",
       "2        6         절대 안빠지죠  6시간 이상 자요  ...  3000.0          O       7   \n",
       "3        5         절대 안빠지죠   4~6시간 자요  ...  3000.0          O       5   \n",
       "4        6     한달에 한두번 빠져요   2~4시간 자요  ...     NaN          O       5   \n",
       "..     ...             ...        ...  ...     ...        ...     ...   \n",
       "282      4  한달에 한두번 이상 빠져요  6시간 이상 자요  ...  4000.0          O       7   \n",
       "283      4         절대 안빠지죠  6시간 이상 자요  ...     NaN          O       5   \n",
       "284      4         절대 안빠지죠   4~6시간 자요  ...     NaN          O       4   \n",
       "285      2     한달에 한두번 빠져요  6시간 이상 자요  ...  5000.0          O       5   \n",
       "286      5         절대 안빠지죠  6시간 이상 자요  ...  2000.0          O       7   \n",
       "\n",
       "     소셜 미디어 사용시간    통학 시간  학업 스트레스 교우관계 알바 유무             방과후 유무  방과후 만족도  \n",
       "0        1시간-2시간   10-30분        2    3     X  O(아래 질문에 답변해주세요!)      8.0  \n",
       "1     2시간-3시간 이상   10-30분        3    2     X  O(아래 질문에 답변해주세요!)      5.0  \n",
       "2        1시간-2시간   10-30분        2    1     X                  X      NaN  \n",
       "3          0-30분   10-30분        3    1     X                  X      1.0  \n",
       "4     2시간-3시간 이상  1시간-2시간        1    1     O                  X      NaN  \n",
       "..           ...      ...      ...  ...   ...                ...      ...  \n",
       "282   2시간-3시간 이상   10-30분        3    1     X                  X      NaN  \n",
       "283   2시간-3시간 이상   10-30분        3    1     X                  X      1.0  \n",
       "284      1시간-2시간   30-1시간        3    1     X  O(아래 질문에 답변해주세요!)      8.0  \n",
       "285      1시간-2시간   30-1시간        3    3     O                  X      NaN  \n",
       "286       30-1시간   30-1시간        2    2     O  O(아래 질문에 답변해주세요!)      8.0  \n",
       "\n",
       "[287 rows x 23 columns]"
      ]
     },
     "execution_count": 11,
     "metadata": {},
     "output_type": "execute_result"
    }
   ],
   "source": [
    "jsysoo"
   ]
  },
  {
   "cell_type": "code",
   "execution_count": 7,
   "id": "0bc9b35e",
   "metadata": {},
   "outputs": [
    {
     "data": {
      "text/plain": [
       "Index(['성별', '전공', '신장', '몸무게', '1학년평균성적', '2학년평균성적', '3학년평균성적', '취미',\n",
       "       '일평균학습시간', '집중공부시간', '기대연봉', '전공만족여부', '전공관련취업선호도', '일평균소셜미디어사용시간',\n",
       "       '통학시간', '학업스트레스', '교우관계스트레스', '아르바이트여부', '방과후수업여부'],\n",
       "      dtype='object')"
      ]
     },
     "execution_count": 7,
     "metadata": {},
     "output_type": "execute_result"
    }
   ],
   "source": [
    "df.columns"
   ]
  },
  {
   "cell_type": "code",
   "execution_count": 8,
   "id": "92af4c8f",
   "metadata": {},
   "outputs": [
    {
     "data": {
      "text/plain": [
       "(235, 19)"
      ]
     },
     "execution_count": 8,
     "metadata": {},
     "output_type": "execute_result"
    }
   ],
   "source": [
    "df.shape"
   ]
  },
  {
   "cell_type": "code",
   "execution_count": 9,
   "id": "1c905ce3",
   "metadata": {},
   "outputs": [
    {
     "data": {
      "text/plain": [
       "성별              0\n",
       "전공              0\n",
       "신장              0\n",
       "몸무게             0\n",
       "1학년평균성적         0\n",
       "2학년평균성적         0\n",
       "3학년평균성적         0\n",
       "취미              0\n",
       "일평균학습시간         0\n",
       "집중공부시간          0\n",
       "기대연봉            0\n",
       "전공만족여부          0\n",
       "전공관련취업선호도       0\n",
       "일평균소셜미디어사용시간    0\n",
       "통학시간            0\n",
       "학업스트레스          0\n",
       "교우관계스트레스        0\n",
       "아르바이트여부         0\n",
       "방과후수업여부         0\n",
       "dtype: int64"
      ]
     },
     "execution_count": 9,
     "metadata": {},
     "output_type": "execute_result"
    }
   ],
   "source": [
    "df.isnull().sum()"
   ]
  },
  {
   "cell_type": "code",
   "execution_count": 10,
   "id": "b547b9fc",
   "metadata": {},
   "outputs": [
    {
     "data": {
      "text/plain": [
       "Index(['타임스탬프', '학년', '성별', '학과(전공)', '취미', '평균 공부 시간', '공부하는 시간', '자격증 개수',\n",
       "       '출석', '평균 수면 시간', '희망 진로', '수업 집중도', '수업 집중도(전공)', '희망 연봉', '학과 만족 O/X',\n",
       "       '취업 선호도', '소셜 미디어 사용시간', '통학 시간', '학업 스트레스', '교우관계', '알바 유무', '방과후 유무',\n",
       "       '방과후 만족도'],\n",
       "      dtype='object')"
      ]
     },
     "execution_count": 10,
     "metadata": {},
     "output_type": "execute_result"
    }
   ],
   "source": [
    "jsysoo.columns"
   ]
  },
  {
   "cell_type": "code",
   "execution_count": 11,
   "id": "63574825",
   "metadata": {},
   "outputs": [
    {
     "data": {
      "text/plain": [
       "(267, 23)"
      ]
     },
     "execution_count": 11,
     "metadata": {},
     "output_type": "execute_result"
    }
   ],
   "source": [
    "jsysoo.shape"
   ]
  },
  {
   "cell_type": "code",
   "execution_count": 12,
   "id": "5d254969",
   "metadata": {},
   "outputs": [
    {
     "data": {
      "text/plain": [
       "타임스탬프           0\n",
       "학년              0\n",
       "성별              0\n",
       "학과(전공)          0\n",
       "취미              0\n",
       "평균 공부 시간        0\n",
       "공부하는 시간         0\n",
       "자격증 개수          0\n",
       "출석              0\n",
       "평균 수면 시간        0\n",
       "희망 진로           0\n",
       "수업 집중도          0\n",
       "수업 집중도(전공)      0\n",
       "희망 연봉           0\n",
       "학과 만족 O/X       0\n",
       "취업 선호도          0\n",
       "소셜 미디어 사용시간     0\n",
       "통학 시간           0\n",
       "학업 스트레스         0\n",
       "교우관계            0\n",
       "알바 유무           0\n",
       "방과후 유무          0\n",
       "방과후 만족도        87\n",
       "dtype: int64"
      ]
     },
     "execution_count": 12,
     "metadata": {},
     "output_type": "execute_result"
    }
   ],
   "source": [
    "jsysoo.isnull().sum()"
   ]
  },
  {
   "cell_type": "markdown",
   "id": "80340515",
   "metadata": {},
   "source": [
    "부족한 데이터는 삭제하고, 채워지지 않은 데이터는 평균으로 채움\n",
    "다시금 조사할 수 없으니 빠르게 평균으로 처리함"
   ]
  },
  {
   "cell_type": "code",
   "execution_count": 13,
   "id": "13140d4e",
   "metadata": {},
   "outputs": [
    {
     "name": "stdout",
     "output_type": "stream",
     "text": [
      "<class 'pandas.core.frame.DataFrame'>\n",
      "RangeIndex: 235 entries, 0 to 234\n",
      "Data columns (total 19 columns):\n",
      " #   Column        Non-Null Count  Dtype  \n",
      "---  ------        --------------  -----  \n",
      " 0   성별            235 non-null    object \n",
      " 1   전공            235 non-null    object \n",
      " 2   신장            235 non-null    float64\n",
      " 3   몸무게           235 non-null    float64\n",
      " 4   1학년평균성적       235 non-null    float64\n",
      " 5   2학년평균성적       235 non-null    float64\n",
      " 6   3학년평균성적       235 non-null    float64\n",
      " 7   취미            235 non-null    object \n",
      " 8   일평균학습시간       235 non-null    object \n",
      " 9   집중공부시간        235 non-null    object \n",
      " 10  기대연봉          235 non-null    int64  \n",
      " 11  전공만족여부        235 non-null    object \n",
      " 12  전공관련취업선호도     235 non-null    object \n",
      " 13  일평균소셜미디어사용시간  235 non-null    object \n",
      " 14  통학시간          235 non-null    object \n",
      " 15  학업스트레스        235 non-null    object \n",
      " 16  교우관계스트레스      235 non-null    object \n",
      " 17  아르바이트여부       235 non-null    object \n",
      " 18  방과후수업여부       235 non-null    object \n",
      "dtypes: float64(5), int64(1), object(13)\n",
      "memory usage: 35.0+ KB\n"
     ]
    }
   ],
   "source": [
    "df.info()"
   ]
  },
  {
   "cell_type": "code",
   "execution_count": 14,
   "id": "bb1ebee7",
   "metadata": {},
   "outputs": [
    {
     "data": {
      "text/html": [
       "<div>\n",
       "<style scoped>\n",
       "    .dataframe tbody tr th:only-of-type {\n",
       "        vertical-align: middle;\n",
       "    }\n",
       "\n",
       "    .dataframe tbody tr th {\n",
       "        vertical-align: top;\n",
       "    }\n",
       "\n",
       "    .dataframe thead th {\n",
       "        text-align: right;\n",
       "    }\n",
       "</style>\n",
       "<table border=\"1\" class=\"dataframe\">\n",
       "  <thead>\n",
       "    <tr style=\"text-align: right;\">\n",
       "      <th></th>\n",
       "      <th>신장</th>\n",
       "      <th>몸무게</th>\n",
       "      <th>1학년평균성적</th>\n",
       "      <th>2학년평균성적</th>\n",
       "      <th>3학년평균성적</th>\n",
       "      <th>기대연봉</th>\n",
       "    </tr>\n",
       "  </thead>\n",
       "  <tbody>\n",
       "    <tr>\n",
       "      <th>count</th>\n",
       "      <td>235.000000</td>\n",
       "      <td>235.000000</td>\n",
       "      <td>235.000000</td>\n",
       "      <td>235.000000</td>\n",
       "      <td>235.000000</td>\n",
       "      <td>2.350000e+02</td>\n",
       "    </tr>\n",
       "    <tr>\n",
       "      <th>mean</th>\n",
       "      <td>157.402128</td>\n",
       "      <td>60.803830</td>\n",
       "      <td>76.842128</td>\n",
       "      <td>68.780128</td>\n",
       "      <td>70.660553</td>\n",
       "      <td>3.248168e+04</td>\n",
       "    </tr>\n",
       "    <tr>\n",
       "      <th>std</th>\n",
       "      <td>21.510805</td>\n",
       "      <td>14.895844</td>\n",
       "      <td>13.050800</td>\n",
       "      <td>11.016533</td>\n",
       "      <td>15.727446</td>\n",
       "      <td>1.113146e+05</td>\n",
       "    </tr>\n",
       "    <tr>\n",
       "      <th>min</th>\n",
       "      <td>4.500000</td>\n",
       "      <td>20.000000</td>\n",
       "      <td>7.400000</td>\n",
       "      <td>45.000000</td>\n",
       "      <td>1.000000</td>\n",
       "      <td>0.000000e+00</td>\n",
       "    </tr>\n",
       "    <tr>\n",
       "      <th>25%</th>\n",
       "      <td>152.000000</td>\n",
       "      <td>50.000000</td>\n",
       "      <td>70.000000</td>\n",
       "      <td>60.000000</td>\n",
       "      <td>60.000000</td>\n",
       "      <td>1.500000e+04</td>\n",
       "    </tr>\n",
       "    <tr>\n",
       "      <th>50%</th>\n",
       "      <td>160.000000</td>\n",
       "      <td>60.000000</td>\n",
       "      <td>80.000000</td>\n",
       "      <td>69.000000</td>\n",
       "      <td>70.000000</td>\n",
       "      <td>2.000000e+04</td>\n",
       "    </tr>\n",
       "    <tr>\n",
       "      <th>75%</th>\n",
       "      <td>170.000000</td>\n",
       "      <td>70.000000</td>\n",
       "      <td>86.250000</td>\n",
       "      <td>76.000000</td>\n",
       "      <td>80.000000</td>\n",
       "      <td>2.500000e+04</td>\n",
       "    </tr>\n",
       "    <tr>\n",
       "      <th>max</th>\n",
       "      <td>192.000000</td>\n",
       "      <td>106.000000</td>\n",
       "      <td>98.000000</td>\n",
       "      <td>94.000000</td>\n",
       "      <td>100.000000</td>\n",
       "      <td>1.500000e+06</td>\n",
       "    </tr>\n",
       "  </tbody>\n",
       "</table>\n",
       "</div>"
      ],
      "text/plain": [
       "               신장         몸무게     1학년평균성적     2학년평균성적     3학년평균성적  \\\n",
       "count  235.000000  235.000000  235.000000  235.000000  235.000000   \n",
       "mean   157.402128   60.803830   76.842128   68.780128   70.660553   \n",
       "std     21.510805   14.895844   13.050800   11.016533   15.727446   \n",
       "min      4.500000   20.000000    7.400000   45.000000    1.000000   \n",
       "25%    152.000000   50.000000   70.000000   60.000000   60.000000   \n",
       "50%    160.000000   60.000000   80.000000   69.000000   70.000000   \n",
       "75%    170.000000   70.000000   86.250000   76.000000   80.000000   \n",
       "max    192.000000  106.000000   98.000000   94.000000  100.000000   \n",
       "\n",
       "               기대연봉  \n",
       "count  2.350000e+02  \n",
       "mean   3.248168e+04  \n",
       "std    1.113146e+05  \n",
       "min    0.000000e+00  \n",
       "25%    1.500000e+04  \n",
       "50%    2.000000e+04  \n",
       "75%    2.500000e+04  \n",
       "max    1.500000e+06  "
      ]
     },
     "execution_count": 14,
     "metadata": {},
     "output_type": "execute_result"
    }
   ],
   "source": [
    "df.describe()"
   ]
  },
  {
   "cell_type": "code",
   "execution_count": 15,
   "id": "0959da2a",
   "metadata": {},
   "outputs": [
    {
     "name": "stdout",
     "output_type": "stream",
     "text": [
      "<class 'pandas.core.frame.DataFrame'>\n",
      "RangeIndex: 267 entries, 0 to 266\n",
      "Data columns (total 23 columns):\n",
      " #   Column       Non-Null Count  Dtype  \n",
      "---  ------       --------------  -----  \n",
      " 0   타임스탬프        267 non-null    object \n",
      " 1   학년           267 non-null    object \n",
      " 2   성별           267 non-null    object \n",
      " 3   학과(전공)       267 non-null    object \n",
      " 4   취미           267 non-null    object \n",
      " 5   평균 공부 시간     267 non-null    object \n",
      " 6   공부하는 시간      267 non-null    object \n",
      " 7   자격증 개수       267 non-null    object \n",
      " 8   출석           267 non-null    object \n",
      " 9   평균 수면 시간     267 non-null    object \n",
      " 10  희망 진로        267 non-null    object \n",
      " 11  수업 집중도       267 non-null    int64  \n",
      " 12  수업 집중도(전공)   267 non-null    int64  \n",
      " 13  희망 연봉        267 non-null    object \n",
      " 14  학과 만족 O/X    267 non-null    object \n",
      " 15  취업 선호도       267 non-null    int64  \n",
      " 16  소셜 미디어 사용시간  267 non-null    object \n",
      " 17  통학 시간        267 non-null    object \n",
      " 18  학업 스트레스      267 non-null    int64  \n",
      " 19  교우관계         267 non-null    int64  \n",
      " 20  알바 유무        267 non-null    object \n",
      " 21  방과후 유무       267 non-null    object \n",
      " 22  방과후 만족도      180 non-null    float64\n",
      "dtypes: float64(1), int64(5), object(17)\n",
      "memory usage: 48.1+ KB\n"
     ]
    }
   ],
   "source": [
    "jsysoo.info()"
   ]
  },
  {
   "cell_type": "code",
   "execution_count": 16,
   "id": "002effcb",
   "metadata": {},
   "outputs": [
    {
     "data": {
      "text/html": [
       "<div>\n",
       "<style scoped>\n",
       "    .dataframe tbody tr th:only-of-type {\n",
       "        vertical-align: middle;\n",
       "    }\n",
       "\n",
       "    .dataframe tbody tr th {\n",
       "        vertical-align: top;\n",
       "    }\n",
       "\n",
       "    .dataframe thead th {\n",
       "        text-align: right;\n",
       "    }\n",
       "</style>\n",
       "<table border=\"1\" class=\"dataframe\">\n",
       "  <thead>\n",
       "    <tr style=\"text-align: right;\">\n",
       "      <th></th>\n",
       "      <th>수업 집중도</th>\n",
       "      <th>수업 집중도(전공)</th>\n",
       "      <th>취업 선호도</th>\n",
       "      <th>학업 스트레스</th>\n",
       "      <th>교우관계</th>\n",
       "      <th>방과후 만족도</th>\n",
       "    </tr>\n",
       "  </thead>\n",
       "  <tbody>\n",
       "    <tr>\n",
       "      <th>count</th>\n",
       "      <td>267.000000</td>\n",
       "      <td>267.000000</td>\n",
       "      <td>267.000000</td>\n",
       "      <td>267.00000</td>\n",
       "      <td>267.000000</td>\n",
       "      <td>180.000000</td>\n",
       "    </tr>\n",
       "    <tr>\n",
       "      <th>mean</th>\n",
       "      <td>6.865169</td>\n",
       "      <td>7.303371</td>\n",
       "      <td>6.584270</td>\n",
       "      <td>2.52809</td>\n",
       "      <td>2.044944</td>\n",
       "      <td>6.511111</td>\n",
       "    </tr>\n",
       "    <tr>\n",
       "      <th>std</th>\n",
       "      <td>2.160084</td>\n",
       "      <td>2.271453</td>\n",
       "      <td>2.604835</td>\n",
       "      <td>0.92285</td>\n",
       "      <td>0.987632</td>\n",
       "      <td>2.747246</td>\n",
       "    </tr>\n",
       "    <tr>\n",
       "      <th>min</th>\n",
       "      <td>1.000000</td>\n",
       "      <td>1.000000</td>\n",
       "      <td>0.000000</td>\n",
       "      <td>1.00000</td>\n",
       "      <td>1.000000</td>\n",
       "      <td>1.000000</td>\n",
       "    </tr>\n",
       "    <tr>\n",
       "      <th>25%</th>\n",
       "      <td>5.000000</td>\n",
       "      <td>6.000000</td>\n",
       "      <td>5.000000</td>\n",
       "      <td>2.00000</td>\n",
       "      <td>1.000000</td>\n",
       "      <td>5.000000</td>\n",
       "    </tr>\n",
       "    <tr>\n",
       "      <th>50%</th>\n",
       "      <td>7.000000</td>\n",
       "      <td>8.000000</td>\n",
       "      <td>7.000000</td>\n",
       "      <td>2.00000</td>\n",
       "      <td>2.000000</td>\n",
       "      <td>7.000000</td>\n",
       "    </tr>\n",
       "    <tr>\n",
       "      <th>75%</th>\n",
       "      <td>8.500000</td>\n",
       "      <td>9.000000</td>\n",
       "      <td>9.000000</td>\n",
       "      <td>3.00000</td>\n",
       "      <td>3.000000</td>\n",
       "      <td>9.000000</td>\n",
       "    </tr>\n",
       "    <tr>\n",
       "      <th>max</th>\n",
       "      <td>10.000000</td>\n",
       "      <td>10.000000</td>\n",
       "      <td>10.000000</td>\n",
       "      <td>4.00000</td>\n",
       "      <td>4.000000</td>\n",
       "      <td>10.000000</td>\n",
       "    </tr>\n",
       "  </tbody>\n",
       "</table>\n",
       "</div>"
      ],
      "text/plain": [
       "           수업 집중도  수업 집중도(전공)      취업 선호도    학업 스트레스        교우관계     방과후 만족도\n",
       "count  267.000000  267.000000  267.000000  267.00000  267.000000  180.000000\n",
       "mean     6.865169    7.303371    6.584270    2.52809    2.044944    6.511111\n",
       "std      2.160084    2.271453    2.604835    0.92285    0.987632    2.747246\n",
       "min      1.000000    1.000000    0.000000    1.00000    1.000000    1.000000\n",
       "25%      5.000000    6.000000    5.000000    2.00000    1.000000    5.000000\n",
       "50%      7.000000    8.000000    7.000000    2.00000    2.000000    7.000000\n",
       "75%      8.500000    9.000000    9.000000    3.00000    3.000000    9.000000\n",
       "max     10.000000   10.000000   10.000000    4.00000    4.000000   10.000000"
      ]
     },
     "execution_count": 16,
     "metadata": {},
     "output_type": "execute_result"
    }
   ],
   "source": [
    "jsysoo.describe()"
   ]
  },
  {
   "cell_type": "code",
   "execution_count": 17,
   "id": "6ae2811b",
   "metadata": {},
   "outputs": [
    {
     "data": {
      "text/plain": [
       "학년   희망 진로  \n",
       "1학년  취업         65\n",
       "     아직 모르겠다    44\n",
       "     대학교 진학     20\n",
       "2학년  취업         66\n",
       "     아직 모르겠다    27\n",
       "     대학교 진학     16\n",
       "3학년  대학교 진학     12\n",
       "     취업         10\n",
       "     아직 모르겠다     7\n",
       "Name: 희망 진로, dtype: int64"
      ]
     },
     "execution_count": 17,
     "metadata": {},
     "output_type": "execute_result"
    }
   ],
   "source": [
    "jsysoo.groupby(\"학년\")[\"희망 진로\"].value_counts()"
   ]
  },
  {
   "cell_type": "code",
   "execution_count": 18,
   "id": "b2568619",
   "metadata": {},
   "outputs": [
    {
     "data": {
      "text/plain": [
       "<AxesSubplot:xlabel='학년,희망 진로'>"
      ]
     },
     "execution_count": 18,
     "metadata": {},
     "output_type": "execute_result"
    },
    {
     "data": {
      "image/png": "[encoded data removed]",
      "text/plain": [
       "<Figure size 640x480 with 1 Axes>"
      ]
     },
     "metadata": {},
     "output_type": "display_data"
    }
   ],
   "source": [
    "jsysoo.groupby(\"학년\")[\"희망 진로\"].value_counts().plot(kind=\"bar\")"
   ]
  },
  {
   "cell_type": "code",
   "execution_count": 19,
   "id": "1eed1861",
   "metadata": {},
   "outputs": [
    {
     "data": {
      "text/plain": [
       "<AxesSubplot:xlabel='학과(전공),희망 진로'>"
      ]
     },
     "execution_count": 19,
     "metadata": {},
     "output_type": "execute_result"
    },
    {
     "data": {
      "image/png": "[encoded data removed]",
      "text/plain": [
       "<Figure size 640x480 with 1 Axes>"
      ]
     },
     "metadata": {},
     "output_type": "display_data"
    }
   ],
   "source": [
    "jsysoo.groupby(\"학과(전공)\")[\"희망 진로\"].value_counts().plot(kind=\"bar\")"
   ]
  },
  {
   "cell_type": "code",
   "execution_count": 20,
   "id": "c09e5a39",
   "metadata": {},
   "outputs": [
    {
     "data": {
      "text/plain": [
       "성별\n",
       "남자    9\n",
       "여자    9\n",
       "Name: 자격증 개수, dtype: object"
      ]
     },
     "execution_count": 20,
     "metadata": {},
     "output_type": "execute_result"
    }
   ],
   "source": [
    "jsysoo.groupby(\"성별\")[\"자격증 개수\"].max()"
   ]
  },
  {
   "cell_type": "code",
   "execution_count": 21,
   "id": "abbc846f",
   "metadata": {},
   "outputs": [
    {
     "data": {
      "text/plain": [
       "자격증 개수  성별\n",
       "1       남자    29\n",
       "        여자    23\n",
       "10      남자     1\n",
       "10개 이상  남자     4\n",
       "        여자     3\n",
       "2       남자    41\n",
       "        여자    27\n",
       "3       남자    40\n",
       "        여자    12\n",
       "4       남자    40\n",
       "        여자    10\n",
       "5       남자    14\n",
       "        여자     8\n",
       "6       남자     4\n",
       "        여자     2\n",
       "7       남자     2\n",
       "        여자     1\n",
       "8       여자     3\n",
       "        남자     1\n",
       "9       남자     1\n",
       "        여자     1\n",
       "Name: 성별, dtype: int64"
      ]
     },
     "execution_count": 21,
     "metadata": {},
     "output_type": "execute_result"
    }
   ],
   "source": [
    "jsysoo.groupby(\"자격증 개수\")[\"성별\"].value_counts()"
   ]
  },
  {
   "cell_type": "code",
   "execution_count": 22,
   "id": "fbc10381",
   "metadata": {},
   "outputs": [
    {
     "data": {
      "text/plain": [
       "성별  자격증 개수\n",
       "남자  2         41\n",
       "    3         40\n",
       "    4         40\n",
       "    1         29\n",
       "    5         14\n",
       "    10개 이상     4\n",
       "    6          4\n",
       "    7          2\n",
       "    10         1\n",
       "    8          1\n",
       "    9          1\n",
       "여자  2         27\n",
       "    1         23\n",
       "    3         12\n",
       "    4         10\n",
       "    5          8\n",
       "    10개 이상     3\n",
       "    8          3\n",
       "    6          2\n",
       "    7          1\n",
       "    9          1\n",
       "Name: 자격증 개수, dtype: int64"
      ]
     },
     "execution_count": 22,
     "metadata": {},
     "output_type": "execute_result"
    }
   ],
   "source": [
    "jsysoo.groupby(\"성별\")[\"자격증 개수\"].value_counts()"
   ]
  },
  {
   "cell_type": "code",
   "execution_count": 23,
   "id": "94eb0866",
   "metadata": {},
   "outputs": [
    {
     "data": {
      "text/plain": [
       "<AxesSubplot:xlabel='성별,자격증 개수'>"
      ]
     },
     "execution_count": 23,
     "metadata": {},
     "output_type": "execute_result"
    },
    {
     "data": {
      "image/png": "[encoded data removed]",
      "text/plain": [
       "<Figure size 640x480 with 1 Axes>"
      ]
     },
     "metadata": {},
     "output_type": "display_data"
    }
   ],
   "source": [
    "jsysoo.groupby(\"성별\")[\"자격증 개수\"].value_counts().plot(kind=\"bar\")"
   ]
  },
  {
   "cell_type": "code",
   "execution_count": 24,
   "id": "eac57f4b",
   "metadata": {},
   "outputs": [
    {
     "data": {
      "text/plain": [
       "<AxesSubplot:>"
      ]
     },
     "execution_count": 24,
     "metadata": {},
     "output_type": "execute_result"
    },
    {
     "data": {
      "image/png": "[encoded data removed]",
      "text/plain": [
       "<Figure size 640x480 with 1 Axes>"
      ]
     },
     "metadata": {},
     "output_type": "display_data"
    }
   ],
   "source": [
    "jsysoo[jsysoo[\"성별\"]==\"남자\"][\"자격증 개수\"].value_counts().plot(kind=\"bar\")"
   ]
  },
  {
   "cell_type": "code",
   "execution_count": 25,
   "id": "776d88cb",
   "metadata": {},
   "outputs": [
    {
     "data": {
      "text/plain": [
       "<AxesSubplot:>"
      ]
     },
     "execution_count": 25,
     "metadata": {},
     "output_type": "execute_result"
    },
    {
     "data": {
      "image/png": "[encoded data removed]",
      "text/plain": [
       "<Figure size 640x480 with 1 Axes>"
      ]
     },
     "metadata": {},
     "output_type": "display_data"
    }
   ],
   "source": [
    "jsysoo[jsysoo[\"성별\"]==\"여자\"][\"자격증 개수\"].value_counts().plot(kind=\"bar\")"
   ]
  },
  {
   "cell_type": "code",
   "execution_count": 26,
   "id": "35e7d589",
   "metadata": {},
   "outputs": [
    {
     "data": {
      "text/plain": [
       "학년   자격증 개수\n",
       "1학년  2         52\n",
       "     1         43\n",
       "     3         24\n",
       "     4          6\n",
       "     5          4\n",
       "2학년  4         35\n",
       "     3         27\n",
       "     2         14\n",
       "     5          9\n",
       "     1          8\n",
       "     10개 이상     5\n",
       "     6          4\n",
       "     8          3\n",
       "     7          2\n",
       "     10         1\n",
       "     9          1\n",
       "3학년  4          9\n",
       "     5          9\n",
       "     10개 이상     2\n",
       "     2          2\n",
       "     6          2\n",
       "     1          1\n",
       "     3          1\n",
       "     7          1\n",
       "     8          1\n",
       "     9          1\n",
       "Name: 자격증 개수, dtype: int64"
      ]
     },
     "execution_count": 26,
     "metadata": {},
     "output_type": "execute_result"
    }
   ],
   "source": [
    "jsysoo.groupby(\"학년\")[\"자격증 개수\"].value_counts()"
   ]
  },
  {
   "cell_type": "code",
   "execution_count": 27,
   "id": "4e34c8a6",
   "metadata": {},
   "outputs": [
    {
     "data": {
      "text/plain": [
       "<AxesSubplot:>"
      ]
     },
     "execution_count": 27,
     "metadata": {},
     "output_type": "execute_result"
    },
    {
     "data": {
      "image/png": "[encoded data removed]",
      "text/plain": [
       "<Figure size 640x480 with 1 Axes>"
      ]
     },
     "metadata": {},
     "output_type": "display_data"
    }
   ],
   "source": [
    "jsysoo[jsysoo[\"학년\"]==\"3학년\"][\"자격증 개수\"].value_counts().plot(kind=\"bar\")"
   ]
  },
  {
   "cell_type": "markdown",
   "id": "fbf33bae",
   "metadata": {},
   "source": [
    "# 10월 17일"
   ]
  },
  {
   "cell_type": "code",
   "execution_count": 12,
   "id": "b88d58be",
   "metadata": {
    "scrolled": true
   },
   "outputs": [
    {
     "data": {
      "text/plain": [
       "Text(0, 0.5, '성적')"
      ]
     },
     "execution_count": 12,
     "metadata": {},
     "output_type": "execute_result"
    },
    {
     "data": {
      "image/png": "[encoded data removed]",
      "text/plain": [
       "<Figure size 640x480 with 1 Axes>"
      ]
     },
     "metadata": {},
     "output_type": "display_data"
    }
   ],
   "source": [
    "df[[\"1학년평균성적\",\"2학년평균성적\",\"3학년평균성적\"]].mean().plot(kind='bar',\n",
    "                                               title=\"학년별 학교 성적\")\n",
    "plt.xlabel(\"학년\", fontsize=20)\n",
    "plt.ylabel(\"성적\",fontsize=20)"
   ]
  },
  {
   "cell_type": "code",
   "execution_count": 13,
   "id": "fbec2b2d",
   "metadata": {},
   "outputs": [
    {
     "data": {
      "text/plain": [
       "Male      156\n",
       "Female     79\n",
       "Name: 성별, dtype: int64"
      ]
     },
     "execution_count": 13,
     "metadata": {},
     "output_type": "execute_result"
    }
   ],
   "source": [
    "df[\"성별\"].value_counts()"
   ]
  },
  {
   "cell_type": "code",
   "execution_count": 14,
   "id": "ef9144e9",
   "metadata": {},
   "outputs": [
    {
     "data": {
      "text/plain": [
       "235"
      ]
     },
     "execution_count": 14,
     "metadata": {},
     "output_type": "execute_result"
    }
   ],
   "source": [
    "df[\"성별\"].size"
   ]
  },
  {
   "cell_type": "code",
   "execution_count": 15,
   "id": "2029b38a",
   "metadata": {},
   "outputs": [],
   "source": [
    "df = df.astype({\"1학년평균성적\":\"int\", \"2학년평균성적\":\"int\", \"3학년평균성적\":\"int\"})"
   ]
  },
  {
   "cell_type": "code",
   "execution_count": 16,
   "id": "87bf23ec",
   "metadata": {},
   "outputs": [
    {
     "name": "stdout",
     "output_type": "stream",
     "text": [
      "<class 'pandas.core.frame.DataFrame'>\n",
      "RangeIndex: 235 entries, 0 to 234\n",
      "Data columns (total 19 columns):\n",
      " #   Column        Non-Null Count  Dtype  \n",
      "---  ------        --------------  -----  \n",
      " 0   성별            235 non-null    object \n",
      " 1   전공            235 non-null    object \n",
      " 2   신장            235 non-null    float64\n",
      " 3   몸무게           235 non-null    float64\n",
      " 4   1학년평균성적       235 non-null    int32  \n",
      " 5   2학년평균성적       235 non-null    int32  \n",
      " 6   3학년평균성적       235 non-null    int32  \n",
      " 7   취미            235 non-null    object \n",
      " 8   일평균학습시간       235 non-null    object \n",
      " 9   집중공부시간        235 non-null    object \n",
      " 10  기대연봉          235 non-null    int64  \n",
      " 11  전공만족여부        235 non-null    object \n",
      " 12  전공관련취업선호도     235 non-null    object \n",
      " 13  일평균소셜미디어사용시간  235 non-null    object \n",
      " 14  통학시간          235 non-null    object \n",
      " 15  학업스트레스        235 non-null    object \n",
      " 16  교우관계스트레스      235 non-null    object \n",
      " 17  아르바이트여부       235 non-null    object \n",
      " 18  방과후수업여부       235 non-null    object \n",
      "dtypes: float64(2), int32(3), int64(1), object(13)\n",
      "memory usage: 32.3+ KB\n"
     ]
    }
   ],
   "source": [
    "df.info()"
   ]
  },
  {
   "cell_type": "code",
   "execution_count": 17,
   "id": "2b9e7c94",
   "metadata": {},
   "outputs": [
    {
     "data": {
      "text/plain": [
       "Male      156\n",
       "Female     79\n",
       "Name: 성별, dtype: int64"
      ]
     },
     "execution_count": 17,
     "metadata": {},
     "output_type": "execute_result"
    }
   ],
   "source": [
    "df[\"성별\"].value_counts()"
   ]
  },
  {
   "cell_type": "code",
   "execution_count": 106,
   "id": "08ffdbe8",
   "metadata": {},
   "outputs": [],
   "source": [
    "male = df[df[\"성별\"]==\"Male\"].sample(n=79) # random sampling\n"
   ]
  },
  {
   "cell_type": "code",
   "execution_count": 19,
   "id": "9d228167",
   "metadata": {},
   "outputs": [
    {
     "data": {
      "text/html": [
       "<div>\n",
       "<style scoped>\n",
       "    .dataframe tbody tr th:only-of-type {\n",
       "        vertical-align: middle;\n",
       "    }\n",
       "\n",
       "    .dataframe tbody tr th {\n",
       "        vertical-align: top;\n",
       "    }\n",
       "\n",
       "    .dataframe thead th {\n",
       "        text-align: right;\n",
       "    }\n",
       "</style>\n",
       "<table border=\"1\" class=\"dataframe\">\n",
       "  <thead>\n",
       "    <tr style=\"text-align: right;\">\n",
       "      <th></th>\n",
       "      <th>성별</th>\n",
       "      <th>전공</th>\n",
       "      <th>신장</th>\n",
       "      <th>몸무게</th>\n",
       "      <th>1학년평균성적</th>\n",
       "      <th>2학년평균성적</th>\n",
       "      <th>3학년평균성적</th>\n",
       "      <th>취미</th>\n",
       "      <th>일평균학습시간</th>\n",
       "      <th>집중공부시간</th>\n",
       "      <th>기대연봉</th>\n",
       "      <th>전공만족여부</th>\n",
       "      <th>전공관련취업선호도</th>\n",
       "      <th>일평균소셜미디어사용시간</th>\n",
       "      <th>통학시간</th>\n",
       "      <th>학업스트레스</th>\n",
       "      <th>교우관계스트레스</th>\n",
       "      <th>아르바이트여부</th>\n",
       "      <th>방과후수업여부</th>\n",
       "    </tr>\n",
       "  </thead>\n",
       "  <tbody>\n",
       "    <tr>\n",
       "      <th>73</th>\n",
       "      <td>Male</td>\n",
       "      <td>BCA</td>\n",
       "      <td>190.0</td>\n",
       "      <td>70.0</td>\n",
       "      <td>89</td>\n",
       "      <td>63</td>\n",
       "      <td>73</td>\n",
       "      <td>Sports</td>\n",
       "      <td>0 - 30 minute</td>\n",
       "      <td>Anytime</td>\n",
       "      <td>50000</td>\n",
       "      <td>Yes</td>\n",
       "      <td>50%</td>\n",
       "      <td>30 - 60 Minute</td>\n",
       "      <td>1 - 1.30 hour</td>\n",
       "      <td>나쁨</td>\n",
       "      <td>좋음</td>\n",
       "      <td>No</td>\n",
       "      <td>Yes</td>\n",
       "    </tr>\n",
       "    <tr>\n",
       "      <th>198</th>\n",
       "      <td>Male</td>\n",
       "      <td>B.com ISM</td>\n",
       "      <td>170.0</td>\n",
       "      <td>65.0</td>\n",
       "      <td>79</td>\n",
       "      <td>62</td>\n",
       "      <td>60</td>\n",
       "      <td>Cinema</td>\n",
       "      <td>1 - 2 Hour</td>\n",
       "      <td>Morning</td>\n",
       "      <td>25000</td>\n",
       "      <td>Yes</td>\n",
       "      <td>75%</td>\n",
       "      <td>1 - 30 Minute</td>\n",
       "      <td>0 - 30 minutes</td>\n",
       "      <td>좋음</td>\n",
       "      <td>좋음</td>\n",
       "      <td>No</td>\n",
       "      <td>Yes</td>\n",
       "    </tr>\n",
       "    <tr>\n",
       "      <th>59</th>\n",
       "      <td>Male</td>\n",
       "      <td>B.com Accounting and Finance</td>\n",
       "      <td>152.0</td>\n",
       "      <td>50.0</td>\n",
       "      <td>90</td>\n",
       "      <td>80</td>\n",
       "      <td>95</td>\n",
       "      <td>Sports</td>\n",
       "      <td>3 - 4 hour</td>\n",
       "      <td>Anytime</td>\n",
       "      <td>50000</td>\n",
       "      <td>Yes</td>\n",
       "      <td>75%</td>\n",
       "      <td>1 - 1.30 hour</td>\n",
       "      <td>30 - 60 minutes</td>\n",
       "      <td>나쁨</td>\n",
       "      <td>나쁨</td>\n",
       "      <td>Yes</td>\n",
       "      <td>Yes</td>\n",
       "    </tr>\n",
       "    <tr>\n",
       "      <th>184</th>\n",
       "      <td>Male</td>\n",
       "      <td>B.com ISM</td>\n",
       "      <td>150.0</td>\n",
       "      <td>48.0</td>\n",
       "      <td>46</td>\n",
       "      <td>48</td>\n",
       "      <td>60</td>\n",
       "      <td>Sports</td>\n",
       "      <td>1 - 2 Hour</td>\n",
       "      <td>Anytime</td>\n",
       "      <td>30000</td>\n",
       "      <td>Yes</td>\n",
       "      <td>50%</td>\n",
       "      <td>1 - 30 Minute</td>\n",
       "      <td>1 - 1.30 hour</td>\n",
       "      <td>나쁨</td>\n",
       "      <td>나쁨</td>\n",
       "      <td>No</td>\n",
       "      <td>No</td>\n",
       "    </tr>\n",
       "    <tr>\n",
       "      <th>107</th>\n",
       "      <td>Male</td>\n",
       "      <td>BCA</td>\n",
       "      <td>183.0</td>\n",
       "      <td>80.0</td>\n",
       "      <td>80</td>\n",
       "      <td>60</td>\n",
       "      <td>70</td>\n",
       "      <td>Video Games</td>\n",
       "      <td>0 - 30 minute</td>\n",
       "      <td>Anytime</td>\n",
       "      <td>10000</td>\n",
       "      <td>Yes</td>\n",
       "      <td>50%</td>\n",
       "      <td>1 - 30 Minute</td>\n",
       "      <td>0 - 30 minutes</td>\n",
       "      <td>좋음</td>\n",
       "      <td>나쁨</td>\n",
       "      <td>No</td>\n",
       "      <td>Yes</td>\n",
       "    </tr>\n",
       "    <tr>\n",
       "      <th>...</th>\n",
       "      <td>...</td>\n",
       "      <td>...</td>\n",
       "      <td>...</td>\n",
       "      <td>...</td>\n",
       "      <td>...</td>\n",
       "      <td>...</td>\n",
       "      <td>...</td>\n",
       "      <td>...</td>\n",
       "      <td>...</td>\n",
       "      <td>...</td>\n",
       "      <td>...</td>\n",
       "      <td>...</td>\n",
       "      <td>...</td>\n",
       "      <td>...</td>\n",
       "      <td>...</td>\n",
       "      <td>...</td>\n",
       "      <td>...</td>\n",
       "      <td>...</td>\n",
       "      <td>...</td>\n",
       "    </tr>\n",
       "    <tr>\n",
       "      <th>83</th>\n",
       "      <td>Male</td>\n",
       "      <td>BCA</td>\n",
       "      <td>170.0</td>\n",
       "      <td>67.0</td>\n",
       "      <td>81</td>\n",
       "      <td>69</td>\n",
       "      <td>75</td>\n",
       "      <td>Cinema</td>\n",
       "      <td>30 - 60 minute</td>\n",
       "      <td>Anytime</td>\n",
       "      <td>25000</td>\n",
       "      <td>No</td>\n",
       "      <td>100%</td>\n",
       "      <td>1.30 - 2 hour</td>\n",
       "      <td>0 - 30 minutes</td>\n",
       "      <td>좋음</td>\n",
       "      <td>끔찍함</td>\n",
       "      <td>Yes</td>\n",
       "      <td>Yes</td>\n",
       "    </tr>\n",
       "    <tr>\n",
       "      <th>129</th>\n",
       "      <td>Male</td>\n",
       "      <td>BCA</td>\n",
       "      <td>170.0</td>\n",
       "      <td>65.0</td>\n",
       "      <td>82</td>\n",
       "      <td>55</td>\n",
       "      <td>75</td>\n",
       "      <td>Cinema</td>\n",
       "      <td>30 - 60 minute</td>\n",
       "      <td>Anytime</td>\n",
       "      <td>25000</td>\n",
       "      <td>Yes</td>\n",
       "      <td>50%</td>\n",
       "      <td>30 - 60 Minute</td>\n",
       "      <td>30 - 60 minutes</td>\n",
       "      <td>좋음</td>\n",
       "      <td>나쁨</td>\n",
       "      <td>No</td>\n",
       "      <td>No</td>\n",
       "    </tr>\n",
       "    <tr>\n",
       "      <th>38</th>\n",
       "      <td>Male</td>\n",
       "      <td>BCA</td>\n",
       "      <td>185.0</td>\n",
       "      <td>72.0</td>\n",
       "      <td>79</td>\n",
       "      <td>65</td>\n",
       "      <td>75</td>\n",
       "      <td>Video Games</td>\n",
       "      <td>30 - 60 minute</td>\n",
       "      <td>Morning</td>\n",
       "      <td>40000</td>\n",
       "      <td>Yes</td>\n",
       "      <td>75%</td>\n",
       "      <td>More than 2 hour</td>\n",
       "      <td>30 - 60 minutes</td>\n",
       "      <td>좋음</td>\n",
       "      <td>나쁨</td>\n",
       "      <td>No</td>\n",
       "      <td>Yes</td>\n",
       "    </tr>\n",
       "    <tr>\n",
       "      <th>137</th>\n",
       "      <td>Male</td>\n",
       "      <td>BCA</td>\n",
       "      <td>159.0</td>\n",
       "      <td>51.0</td>\n",
       "      <td>86</td>\n",
       "      <td>72</td>\n",
       "      <td>80</td>\n",
       "      <td>Reading books</td>\n",
       "      <td>More Than 4 hour</td>\n",
       "      <td>Morning</td>\n",
       "      <td>12500</td>\n",
       "      <td>No</td>\n",
       "      <td>75%</td>\n",
       "      <td>30 - 60 Minute</td>\n",
       "      <td>1 - 1.30 hour</td>\n",
       "      <td>좋음</td>\n",
       "      <td>나쁨</td>\n",
       "      <td>No</td>\n",
       "      <td>No</td>\n",
       "    </tr>\n",
       "    <tr>\n",
       "      <th>15</th>\n",
       "      <td>Male</td>\n",
       "      <td>BCA</td>\n",
       "      <td>156.0</td>\n",
       "      <td>68.0</td>\n",
       "      <td>54</td>\n",
       "      <td>48</td>\n",
       "      <td>60</td>\n",
       "      <td>Video Games</td>\n",
       "      <td>30 - 60 minute</td>\n",
       "      <td>Anytime</td>\n",
       "      <td>18000</td>\n",
       "      <td>Yes</td>\n",
       "      <td>75%</td>\n",
       "      <td>1 - 1.30 hour</td>\n",
       "      <td>more than 3 hour</td>\n",
       "      <td>좋음</td>\n",
       "      <td>나쁨</td>\n",
       "      <td>No</td>\n",
       "      <td>Yes</td>\n",
       "    </tr>\n",
       "  </tbody>\n",
       "</table>\n",
       "<p>79 rows × 19 columns</p>\n",
       "</div>"
      ],
      "text/plain": [
       "       성별                             전공     신장   몸무게  1학년평균성적  2학년평균성적  \\\n",
       "73   Male                            BCA  190.0  70.0       89       63   \n",
       "198  Male                      B.com ISM  170.0  65.0       79       62   \n",
       "59   Male  B.com Accounting and Finance   152.0  50.0       90       80   \n",
       "184  Male                      B.com ISM  150.0  48.0       46       48   \n",
       "107  Male                            BCA  183.0  80.0       80       60   \n",
       "..    ...                            ...    ...   ...      ...      ...   \n",
       "83   Male                            BCA  170.0  67.0       81       69   \n",
       "129  Male                            BCA  170.0  65.0       82       55   \n",
       "38   Male                            BCA  185.0  72.0       79       65   \n",
       "137  Male                            BCA  159.0  51.0       86       72   \n",
       "15   Male                            BCA  156.0  68.0       54       48   \n",
       "\n",
       "     3학년평균성적             취미           일평균학습시간   집중공부시간   기대연봉 전공만족여부  \\\n",
       "73        73         Sports     0 - 30 minute  Anytime  50000    Yes   \n",
       "198       60         Cinema        1 - 2 Hour  Morning  25000    Yes   \n",
       "59        95         Sports        3 - 4 hour  Anytime  50000    Yes   \n",
       "184       60         Sports        1 - 2 Hour  Anytime  30000    Yes   \n",
       "107       70    Video Games     0 - 30 minute  Anytime  10000    Yes   \n",
       "..       ...            ...               ...      ...    ...    ...   \n",
       "83        75         Cinema    30 - 60 minute  Anytime  25000     No   \n",
       "129       75         Cinema    30 - 60 minute  Anytime  25000    Yes   \n",
       "38        75    Video Games    30 - 60 minute  Morning  40000    Yes   \n",
       "137       80  Reading books  More Than 4 hour  Morning  12500     No   \n",
       "15        60    Video Games    30 - 60 minute  Anytime  18000    Yes   \n",
       "\n",
       "    전공관련취업선호도      일평균소셜미디어사용시간              통학시간 학업스트레스 교우관계스트레스 아르바이트여부  \\\n",
       "73        50%    30 - 60 Minute     1 - 1.30 hour     나쁨       좋음      No   \n",
       "198       75%     1 - 30 Minute    0 - 30 minutes     좋음       좋음      No   \n",
       "59        75%     1 - 1.30 hour   30 - 60 minutes     나쁨       나쁨     Yes   \n",
       "184       50%     1 - 30 Minute     1 - 1.30 hour     나쁨       나쁨      No   \n",
       "107       50%     1 - 30 Minute    0 - 30 minutes     좋음       나쁨      No   \n",
       "..        ...               ...               ...    ...      ...     ...   \n",
       "83       100%     1.30 - 2 hour    0 - 30 minutes     좋음      끔찍함     Yes   \n",
       "129       50%    30 - 60 Minute   30 - 60 minutes     좋음       나쁨      No   \n",
       "38        75%  More than 2 hour   30 - 60 minutes     좋음       나쁨      No   \n",
       "137       75%    30 - 60 Minute     1 - 1.30 hour     좋음       나쁨      No   \n",
       "15        75%     1 - 1.30 hour  more than 3 hour     좋음       나쁨      No   \n",
       "\n",
       "    방과후수업여부  \n",
       "73      Yes  \n",
       "198     Yes  \n",
       "59      Yes  \n",
       "184      No  \n",
       "107     Yes  \n",
       "..      ...  \n",
       "83      Yes  \n",
       "129      No  \n",
       "38      Yes  \n",
       "137      No  \n",
       "15      Yes  \n",
       "\n",
       "[79 rows x 19 columns]"
      ]
     },
     "execution_count": 19,
     "metadata": {},
     "output_type": "execute_result"
    }
   ],
   "source": [
    "male"
   ]
  },
  {
   "cell_type": "code",
   "execution_count": 107,
   "id": "0b4d3a62",
   "metadata": {},
   "outputs": [],
   "source": [
    "female = df[df[\"성별\"]==\"Female\"]"
   ]
  },
  {
   "cell_type": "code",
   "execution_count": 108,
   "id": "aa8b6a18",
   "metadata": {},
   "outputs": [],
   "source": [
    "new_df = pd.concat([male,female])"
   ]
  },
  {
   "cell_type": "code",
   "execution_count": 22,
   "id": "1b28da7a",
   "metadata": {
    "scrolled": false
   },
   "outputs": [
    {
     "data": {
      "text/html": [
       "<div>\n",
       "<style scoped>\n",
       "    .dataframe tbody tr th:only-of-type {\n",
       "        vertical-align: middle;\n",
       "    }\n",
       "\n",
       "    .dataframe tbody tr th {\n",
       "        vertical-align: top;\n",
       "    }\n",
       "\n",
       "    .dataframe thead th {\n",
       "        text-align: right;\n",
       "    }\n",
       "</style>\n",
       "<table border=\"1\" class=\"dataframe\">\n",
       "  <thead>\n",
       "    <tr style=\"text-align: right;\">\n",
       "      <th></th>\n",
       "      <th>성별</th>\n",
       "      <th>전공</th>\n",
       "      <th>신장</th>\n",
       "      <th>몸무게</th>\n",
       "      <th>1학년평균성적</th>\n",
       "      <th>2학년평균성적</th>\n",
       "      <th>3학년평균성적</th>\n",
       "      <th>취미</th>\n",
       "      <th>일평균학습시간</th>\n",
       "      <th>집중공부시간</th>\n",
       "      <th>기대연봉</th>\n",
       "      <th>전공만족여부</th>\n",
       "      <th>전공관련취업선호도</th>\n",
       "      <th>일평균소셜미디어사용시간</th>\n",
       "      <th>통학시간</th>\n",
       "      <th>학업스트레스</th>\n",
       "      <th>교우관계스트레스</th>\n",
       "      <th>아르바이트여부</th>\n",
       "      <th>방과후수업여부</th>\n",
       "    </tr>\n",
       "  </thead>\n",
       "  <tbody>\n",
       "    <tr>\n",
       "      <th>73</th>\n",
       "      <td>Male</td>\n",
       "      <td>BCA</td>\n",
       "      <td>190.0</td>\n",
       "      <td>70.0</td>\n",
       "      <td>89</td>\n",
       "      <td>63</td>\n",
       "      <td>73</td>\n",
       "      <td>Sports</td>\n",
       "      <td>0 - 30 minute</td>\n",
       "      <td>Anytime</td>\n",
       "      <td>50000</td>\n",
       "      <td>Yes</td>\n",
       "      <td>50%</td>\n",
       "      <td>30 - 60 Minute</td>\n",
       "      <td>1 - 1.30 hour</td>\n",
       "      <td>나쁨</td>\n",
       "      <td>좋음</td>\n",
       "      <td>No</td>\n",
       "      <td>Yes</td>\n",
       "    </tr>\n",
       "    <tr>\n",
       "      <th>198</th>\n",
       "      <td>Male</td>\n",
       "      <td>B.com ISM</td>\n",
       "      <td>170.0</td>\n",
       "      <td>65.0</td>\n",
       "      <td>79</td>\n",
       "      <td>62</td>\n",
       "      <td>60</td>\n",
       "      <td>Cinema</td>\n",
       "      <td>1 - 2 Hour</td>\n",
       "      <td>Morning</td>\n",
       "      <td>25000</td>\n",
       "      <td>Yes</td>\n",
       "      <td>75%</td>\n",
       "      <td>1 - 30 Minute</td>\n",
       "      <td>0 - 30 minutes</td>\n",
       "      <td>좋음</td>\n",
       "      <td>좋음</td>\n",
       "      <td>No</td>\n",
       "      <td>Yes</td>\n",
       "    </tr>\n",
       "    <tr>\n",
       "      <th>59</th>\n",
       "      <td>Male</td>\n",
       "      <td>B.com Accounting and Finance</td>\n",
       "      <td>152.0</td>\n",
       "      <td>50.0</td>\n",
       "      <td>90</td>\n",
       "      <td>80</td>\n",
       "      <td>95</td>\n",
       "      <td>Sports</td>\n",
       "      <td>3 - 4 hour</td>\n",
       "      <td>Anytime</td>\n",
       "      <td>50000</td>\n",
       "      <td>Yes</td>\n",
       "      <td>75%</td>\n",
       "      <td>1 - 1.30 hour</td>\n",
       "      <td>30 - 60 minutes</td>\n",
       "      <td>나쁨</td>\n",
       "      <td>나쁨</td>\n",
       "      <td>Yes</td>\n",
       "      <td>Yes</td>\n",
       "    </tr>\n",
       "    <tr>\n",
       "      <th>184</th>\n",
       "      <td>Male</td>\n",
       "      <td>B.com ISM</td>\n",
       "      <td>150.0</td>\n",
       "      <td>48.0</td>\n",
       "      <td>46</td>\n",
       "      <td>48</td>\n",
       "      <td>60</td>\n",
       "      <td>Sports</td>\n",
       "      <td>1 - 2 Hour</td>\n",
       "      <td>Anytime</td>\n",
       "      <td>30000</td>\n",
       "      <td>Yes</td>\n",
       "      <td>50%</td>\n",
       "      <td>1 - 30 Minute</td>\n",
       "      <td>1 - 1.30 hour</td>\n",
       "      <td>나쁨</td>\n",
       "      <td>나쁨</td>\n",
       "      <td>No</td>\n",
       "      <td>No</td>\n",
       "    </tr>\n",
       "    <tr>\n",
       "      <th>107</th>\n",
       "      <td>Male</td>\n",
       "      <td>BCA</td>\n",
       "      <td>183.0</td>\n",
       "      <td>80.0</td>\n",
       "      <td>80</td>\n",
       "      <td>60</td>\n",
       "      <td>70</td>\n",
       "      <td>Video Games</td>\n",
       "      <td>0 - 30 minute</td>\n",
       "      <td>Anytime</td>\n",
       "      <td>10000</td>\n",
       "      <td>Yes</td>\n",
       "      <td>50%</td>\n",
       "      <td>1 - 30 Minute</td>\n",
       "      <td>0 - 30 minutes</td>\n",
       "      <td>좋음</td>\n",
       "      <td>나쁨</td>\n",
       "      <td>No</td>\n",
       "      <td>Yes</td>\n",
       "    </tr>\n",
       "    <tr>\n",
       "      <th>...</th>\n",
       "      <td>...</td>\n",
       "      <td>...</td>\n",
       "      <td>...</td>\n",
       "      <td>...</td>\n",
       "      <td>...</td>\n",
       "      <td>...</td>\n",
       "      <td>...</td>\n",
       "      <td>...</td>\n",
       "      <td>...</td>\n",
       "      <td>...</td>\n",
       "      <td>...</td>\n",
       "      <td>...</td>\n",
       "      <td>...</td>\n",
       "      <td>...</td>\n",
       "      <td>...</td>\n",
       "      <td>...</td>\n",
       "      <td>...</td>\n",
       "      <td>...</td>\n",
       "      <td>...</td>\n",
       "    </tr>\n",
       "    <tr>\n",
       "      <th>53</th>\n",
       "      <td>Female</td>\n",
       "      <td>Commerce</td>\n",
       "      <td>159.0</td>\n",
       "      <td>67.0</td>\n",
       "      <td>98</td>\n",
       "      <td>80</td>\n",
       "      <td>85</td>\n",
       "      <td>Reading books</td>\n",
       "      <td>1 - 2 Hour</td>\n",
       "      <td>Anytime</td>\n",
       "      <td>15000</td>\n",
       "      <td>Yes</td>\n",
       "      <td>100%</td>\n",
       "      <td>1.30 - 2 hour</td>\n",
       "      <td>more than 3 hour</td>\n",
       "      <td>좋음</td>\n",
       "      <td>나쁨</td>\n",
       "      <td>No</td>\n",
       "      <td>Yes</td>\n",
       "    </tr>\n",
       "    <tr>\n",
       "      <th>54</th>\n",
       "      <td>Female</td>\n",
       "      <td>Commerce</td>\n",
       "      <td>180.0</td>\n",
       "      <td>43.0</td>\n",
       "      <td>86</td>\n",
       "      <td>78</td>\n",
       "      <td>85</td>\n",
       "      <td>Reading books</td>\n",
       "      <td>1 - 2 Hour</td>\n",
       "      <td>Anytime</td>\n",
       "      <td>10000</td>\n",
       "      <td>Yes</td>\n",
       "      <td>75%</td>\n",
       "      <td>1.30 - 2 hour</td>\n",
       "      <td>30 - 60 minutes</td>\n",
       "      <td>나쁨</td>\n",
       "      <td>좋음</td>\n",
       "      <td>No</td>\n",
       "      <td>Yes</td>\n",
       "    </tr>\n",
       "    <tr>\n",
       "      <th>56</th>\n",
       "      <td>Female</td>\n",
       "      <td>Commerce</td>\n",
       "      <td>156.0</td>\n",
       "      <td>52.0</td>\n",
       "      <td>82</td>\n",
       "      <td>70</td>\n",
       "      <td>80</td>\n",
       "      <td>Reading books</td>\n",
       "      <td>2 - 3 hour</td>\n",
       "      <td>Morning</td>\n",
       "      <td>15000</td>\n",
       "      <td>Yes</td>\n",
       "      <td>100%</td>\n",
       "      <td>1 - 30 Minute</td>\n",
       "      <td>0 - 30 minutes</td>\n",
       "      <td>너무 좋음</td>\n",
       "      <td>나쁨</td>\n",
       "      <td>Yes</td>\n",
       "      <td>Yes</td>\n",
       "    </tr>\n",
       "    <tr>\n",
       "      <th>57</th>\n",
       "      <td>Female</td>\n",
       "      <td>Commerce</td>\n",
       "      <td>167.0</td>\n",
       "      <td>62.0</td>\n",
       "      <td>80</td>\n",
       "      <td>60</td>\n",
       "      <td>60</td>\n",
       "      <td>Sports</td>\n",
       "      <td>1 - 2 Hour</td>\n",
       "      <td>Morning</td>\n",
       "      <td>18000</td>\n",
       "      <td>Yes</td>\n",
       "      <td>75%</td>\n",
       "      <td>1 - 1.30 hour</td>\n",
       "      <td>1 - 1.30 hour</td>\n",
       "      <td>좋음</td>\n",
       "      <td>좋음</td>\n",
       "      <td>No</td>\n",
       "      <td>Yes</td>\n",
       "    </tr>\n",
       "    <tr>\n",
       "      <th>58</th>\n",
       "      <td>Female</td>\n",
       "      <td>Commerce</td>\n",
       "      <td>152.0</td>\n",
       "      <td>60.0</td>\n",
       "      <td>93</td>\n",
       "      <td>85</td>\n",
       "      <td>93</td>\n",
       "      <td>Sports</td>\n",
       "      <td>1 - 2 Hour</td>\n",
       "      <td>Anytime</td>\n",
       "      <td>20000</td>\n",
       "      <td>Yes</td>\n",
       "      <td>100%</td>\n",
       "      <td>1 - 30 Minute</td>\n",
       "      <td>0 - 30 minutes</td>\n",
       "      <td>좋음</td>\n",
       "      <td>좋음</td>\n",
       "      <td>No</td>\n",
       "      <td>Yes</td>\n",
       "    </tr>\n",
       "  </tbody>\n",
       "</table>\n",
       "<p>100 rows × 19 columns</p>\n",
       "</div>"
      ],
      "text/plain": [
       "         성별                             전공     신장   몸무게  1학년평균성적  2학년평균성적  \\\n",
       "73     Male                            BCA  190.0  70.0       89       63   \n",
       "198    Male                      B.com ISM  170.0  65.0       79       62   \n",
       "59     Male  B.com Accounting and Finance   152.0  50.0       90       80   \n",
       "184    Male                      B.com ISM  150.0  48.0       46       48   \n",
       "107    Male                            BCA  183.0  80.0       80       60   \n",
       "..      ...                            ...    ...   ...      ...      ...   \n",
       "53   Female                       Commerce  159.0  67.0       98       80   \n",
       "54   Female                       Commerce  180.0  43.0       86       78   \n",
       "56   Female                       Commerce  156.0  52.0       82       70   \n",
       "57   Female                       Commerce  167.0  62.0       80       60   \n",
       "58   Female                       Commerce  152.0  60.0       93       85   \n",
       "\n",
       "     3학년평균성적             취미        일평균학습시간   집중공부시간   기대연봉 전공만족여부 전공관련취업선호도  \\\n",
       "73        73         Sports  0 - 30 minute  Anytime  50000    Yes       50%   \n",
       "198       60         Cinema     1 - 2 Hour  Morning  25000    Yes       75%   \n",
       "59        95         Sports     3 - 4 hour  Anytime  50000    Yes       75%   \n",
       "184       60         Sports     1 - 2 Hour  Anytime  30000    Yes       50%   \n",
       "107       70    Video Games  0 - 30 minute  Anytime  10000    Yes       50%   \n",
       "..       ...            ...            ...      ...    ...    ...       ...   \n",
       "53        85  Reading books     1 - 2 Hour  Anytime  15000    Yes      100%   \n",
       "54        85  Reading books     1 - 2 Hour  Anytime  10000    Yes       75%   \n",
       "56        80  Reading books     2 - 3 hour  Morning  15000    Yes      100%   \n",
       "57        60         Sports     1 - 2 Hour  Morning  18000    Yes       75%   \n",
       "58        93         Sports     1 - 2 Hour  Anytime  20000    Yes      100%   \n",
       "\n",
       "       일평균소셜미디어사용시간              통학시간 학업스트레스 교우관계스트레스 아르바이트여부 방과후수업여부  \n",
       "73   30 - 60 Minute     1 - 1.30 hour     나쁨       좋음      No     Yes  \n",
       "198   1 - 30 Minute    0 - 30 minutes     좋음       좋음      No     Yes  \n",
       "59    1 - 1.30 hour   30 - 60 minutes     나쁨       나쁨     Yes     Yes  \n",
       "184   1 - 30 Minute     1 - 1.30 hour     나쁨       나쁨      No      No  \n",
       "107   1 - 30 Minute    0 - 30 minutes     좋음       나쁨      No     Yes  \n",
       "..              ...               ...    ...      ...     ...     ...  \n",
       "53    1.30 - 2 hour  more than 3 hour     좋음       나쁨      No     Yes  \n",
       "54    1.30 - 2 hour   30 - 60 minutes     나쁨       좋음      No     Yes  \n",
       "56    1 - 30 Minute    0 - 30 minutes  너무 좋음       나쁨     Yes     Yes  \n",
       "57    1 - 1.30 hour     1 - 1.30 hour     좋음       좋음      No     Yes  \n",
       "58    1 - 30 Minute    0 - 30 minutes     좋음       좋음      No     Yes  \n",
       "\n",
       "[100 rows x 19 columns]"
      ]
     },
     "execution_count": 22,
     "metadata": {},
     "output_type": "execute_result"
    }
   ],
   "source": [
    "new_df.head(100)"
   ]
  },
  {
   "cell_type": "code",
   "execution_count": 23,
   "id": "605fb3e6",
   "metadata": {},
   "outputs": [],
   "source": [
    "new_df[\"1\"]= new_df[\"1학년평균성적\"].mean()\n",
    "new_df[\"2\"]= new_df[\"2학년평균성적\"].mean()\n",
    "new_df[\"3\"]= new_df[\"3학년평균성적\"].mean()"
   ]
  },
  {
   "cell_type": "code",
   "execution_count": 24,
   "id": "21931b12",
   "metadata": {
    "scrolled": false
   },
   "outputs": [
    {
     "data": {
      "text/plain": [
       "<AxesSubplot:ylabel='1학년평균성적'>"
      ]
     },
     "execution_count": 24,
     "metadata": {},
     "output_type": "execute_result"
    },
    {
     "data": {
      "image/png": "[encoded data removed]",
      "text/plain": [
       "<Figure size 640x480 with 1 Axes>"
      ]
     },
     "metadata": {},
     "output_type": "display_data"
    }
   ],
   "source": [
    "sns.barplot(data=df, y=\"1학년평균성적\", hue=\"성별\")"
   ]
  },
  {
   "cell_type": "code",
   "execution_count": 25,
   "id": "f995dda3",
   "metadata": {},
   "outputs": [],
   "source": [
    "new_df[\"성적\"]=100"
   ]
  },
  {
   "cell_type": "code",
   "execution_count": 26,
   "id": "3a66200b",
   "metadata": {},
   "outputs": [
    {
     "data": {
      "text/html": [
       "<div>\n",
       "<style scoped>\n",
       "    .dataframe tbody tr th:only-of-type {\n",
       "        vertical-align: middle;\n",
       "    }\n",
       "\n",
       "    .dataframe tbody tr th {\n",
       "        vertical-align: top;\n",
       "    }\n",
       "\n",
       "    .dataframe thead th {\n",
       "        text-align: right;\n",
       "    }\n",
       "</style>\n",
       "<table border=\"1\" class=\"dataframe\">\n",
       "  <thead>\n",
       "    <tr style=\"text-align: right;\">\n",
       "      <th></th>\n",
       "      <th>성별</th>\n",
       "      <th>전공</th>\n",
       "      <th>신장</th>\n",
       "      <th>몸무게</th>\n",
       "      <th>1학년평균성적</th>\n",
       "      <th>2학년평균성적</th>\n",
       "      <th>3학년평균성적</th>\n",
       "      <th>취미</th>\n",
       "      <th>일평균학습시간</th>\n",
       "      <th>집중공부시간</th>\n",
       "      <th>...</th>\n",
       "      <th>일평균소셜미디어사용시간</th>\n",
       "      <th>통학시간</th>\n",
       "      <th>학업스트레스</th>\n",
       "      <th>교우관계스트레스</th>\n",
       "      <th>아르바이트여부</th>\n",
       "      <th>방과후수업여부</th>\n",
       "      <th>1</th>\n",
       "      <th>2</th>\n",
       "      <th>3</th>\n",
       "      <th>성적</th>\n",
       "    </tr>\n",
       "  </thead>\n",
       "  <tbody>\n",
       "    <tr>\n",
       "      <th>73</th>\n",
       "      <td>Male</td>\n",
       "      <td>BCA</td>\n",
       "      <td>190.0</td>\n",
       "      <td>70.0</td>\n",
       "      <td>89</td>\n",
       "      <td>63</td>\n",
       "      <td>73</td>\n",
       "      <td>Sports</td>\n",
       "      <td>0 - 30 minute</td>\n",
       "      <td>Anytime</td>\n",
       "      <td>...</td>\n",
       "      <td>30 - 60 Minute</td>\n",
       "      <td>1 - 1.30 hour</td>\n",
       "      <td>나쁨</td>\n",
       "      <td>좋음</td>\n",
       "      <td>No</td>\n",
       "      <td>Yes</td>\n",
       "      <td>77.689873</td>\n",
       "      <td>69.556962</td>\n",
       "      <td>72.968354</td>\n",
       "      <td>100</td>\n",
       "    </tr>\n",
       "    <tr>\n",
       "      <th>198</th>\n",
       "      <td>Male</td>\n",
       "      <td>B.com ISM</td>\n",
       "      <td>170.0</td>\n",
       "      <td>65.0</td>\n",
       "      <td>79</td>\n",
       "      <td>62</td>\n",
       "      <td>60</td>\n",
       "      <td>Cinema</td>\n",
       "      <td>1 - 2 Hour</td>\n",
       "      <td>Morning</td>\n",
       "      <td>...</td>\n",
       "      <td>1 - 30 Minute</td>\n",
       "      <td>0 - 30 minutes</td>\n",
       "      <td>좋음</td>\n",
       "      <td>좋음</td>\n",
       "      <td>No</td>\n",
       "      <td>Yes</td>\n",
       "      <td>77.689873</td>\n",
       "      <td>69.556962</td>\n",
       "      <td>72.968354</td>\n",
       "      <td>100</td>\n",
       "    </tr>\n",
       "    <tr>\n",
       "      <th>59</th>\n",
       "      <td>Male</td>\n",
       "      <td>B.com Accounting and Finance</td>\n",
       "      <td>152.0</td>\n",
       "      <td>50.0</td>\n",
       "      <td>90</td>\n",
       "      <td>80</td>\n",
       "      <td>95</td>\n",
       "      <td>Sports</td>\n",
       "      <td>3 - 4 hour</td>\n",
       "      <td>Anytime</td>\n",
       "      <td>...</td>\n",
       "      <td>1 - 1.30 hour</td>\n",
       "      <td>30 - 60 minutes</td>\n",
       "      <td>나쁨</td>\n",
       "      <td>나쁨</td>\n",
       "      <td>Yes</td>\n",
       "      <td>Yes</td>\n",
       "      <td>77.689873</td>\n",
       "      <td>69.556962</td>\n",
       "      <td>72.968354</td>\n",
       "      <td>100</td>\n",
       "    </tr>\n",
       "    <tr>\n",
       "      <th>184</th>\n",
       "      <td>Male</td>\n",
       "      <td>B.com ISM</td>\n",
       "      <td>150.0</td>\n",
       "      <td>48.0</td>\n",
       "      <td>46</td>\n",
       "      <td>48</td>\n",
       "      <td>60</td>\n",
       "      <td>Sports</td>\n",
       "      <td>1 - 2 Hour</td>\n",
       "      <td>Anytime</td>\n",
       "      <td>...</td>\n",
       "      <td>1 - 30 Minute</td>\n",
       "      <td>1 - 1.30 hour</td>\n",
       "      <td>나쁨</td>\n",
       "      <td>나쁨</td>\n",
       "      <td>No</td>\n",
       "      <td>No</td>\n",
       "      <td>77.689873</td>\n",
       "      <td>69.556962</td>\n",
       "      <td>72.968354</td>\n",
       "      <td>100</td>\n",
       "    </tr>\n",
       "    <tr>\n",
       "      <th>107</th>\n",
       "      <td>Male</td>\n",
       "      <td>BCA</td>\n",
       "      <td>183.0</td>\n",
       "      <td>80.0</td>\n",
       "      <td>80</td>\n",
       "      <td>60</td>\n",
       "      <td>70</td>\n",
       "      <td>Video Games</td>\n",
       "      <td>0 - 30 minute</td>\n",
       "      <td>Anytime</td>\n",
       "      <td>...</td>\n",
       "      <td>1 - 30 Minute</td>\n",
       "      <td>0 - 30 minutes</td>\n",
       "      <td>좋음</td>\n",
       "      <td>나쁨</td>\n",
       "      <td>No</td>\n",
       "      <td>Yes</td>\n",
       "      <td>77.689873</td>\n",
       "      <td>69.556962</td>\n",
       "      <td>72.968354</td>\n",
       "      <td>100</td>\n",
       "    </tr>\n",
       "    <tr>\n",
       "      <th>...</th>\n",
       "      <td>...</td>\n",
       "      <td>...</td>\n",
       "      <td>...</td>\n",
       "      <td>...</td>\n",
       "      <td>...</td>\n",
       "      <td>...</td>\n",
       "      <td>...</td>\n",
       "      <td>...</td>\n",
       "      <td>...</td>\n",
       "      <td>...</td>\n",
       "      <td>...</td>\n",
       "      <td>...</td>\n",
       "      <td>...</td>\n",
       "      <td>...</td>\n",
       "      <td>...</td>\n",
       "      <td>...</td>\n",
       "      <td>...</td>\n",
       "      <td>...</td>\n",
       "      <td>...</td>\n",
       "      <td>...</td>\n",
       "      <td>...</td>\n",
       "    </tr>\n",
       "    <tr>\n",
       "      <th>226</th>\n",
       "      <td>Female</td>\n",
       "      <td>Commerce</td>\n",
       "      <td>167.0</td>\n",
       "      <td>65.0</td>\n",
       "      <td>93</td>\n",
       "      <td>85</td>\n",
       "      <td>90</td>\n",
       "      <td>Reading books</td>\n",
       "      <td>1 - 2 Hour</td>\n",
       "      <td>Night</td>\n",
       "      <td>...</td>\n",
       "      <td>30 - 60 Minute</td>\n",
       "      <td>30 - 60 minutes</td>\n",
       "      <td>좋음</td>\n",
       "      <td>좋음</td>\n",
       "      <td>No</td>\n",
       "      <td>Yes</td>\n",
       "      <td>77.689873</td>\n",
       "      <td>69.556962</td>\n",
       "      <td>72.968354</td>\n",
       "      <td>100</td>\n",
       "    </tr>\n",
       "    <tr>\n",
       "      <th>229</th>\n",
       "      <td>Female</td>\n",
       "      <td>B.com ISM</td>\n",
       "      <td>153.0</td>\n",
       "      <td>60.0</td>\n",
       "      <td>60</td>\n",
       "      <td>70</td>\n",
       "      <td>70</td>\n",
       "      <td>Sports</td>\n",
       "      <td>1 - 2 Hour</td>\n",
       "      <td>Anytime</td>\n",
       "      <td>...</td>\n",
       "      <td>1 - 1.30 hour</td>\n",
       "      <td>0 - 30 minutes</td>\n",
       "      <td>좋음</td>\n",
       "      <td>나쁨</td>\n",
       "      <td>No</td>\n",
       "      <td>No</td>\n",
       "      <td>77.689873</td>\n",
       "      <td>69.556962</td>\n",
       "      <td>72.968354</td>\n",
       "      <td>100</td>\n",
       "    </tr>\n",
       "    <tr>\n",
       "      <th>232</th>\n",
       "      <td>Female</td>\n",
       "      <td>BCA</td>\n",
       "      <td>139.0</td>\n",
       "      <td>33.0</td>\n",
       "      <td>90</td>\n",
       "      <td>75</td>\n",
       "      <td>70</td>\n",
       "      <td>Cinema</td>\n",
       "      <td>30 - 60 minute</td>\n",
       "      <td>Night</td>\n",
       "      <td>...</td>\n",
       "      <td>30 - 60 Minute</td>\n",
       "      <td>2.30 - 3 hour</td>\n",
       "      <td>나쁨</td>\n",
       "      <td>좋음</td>\n",
       "      <td>No</td>\n",
       "      <td>Yes</td>\n",
       "      <td>77.689873</td>\n",
       "      <td>69.556962</td>\n",
       "      <td>72.968354</td>\n",
       "      <td>100</td>\n",
       "    </tr>\n",
       "    <tr>\n",
       "      <th>233</th>\n",
       "      <td>Female</td>\n",
       "      <td>Commerce</td>\n",
       "      <td>153.0</td>\n",
       "      <td>58.0</td>\n",
       "      <td>85</td>\n",
       "      <td>74</td>\n",
       "      <td>75</td>\n",
       "      <td>Cinema</td>\n",
       "      <td>0 - 30 minute</td>\n",
       "      <td>Anytime</td>\n",
       "      <td>...</td>\n",
       "      <td>More than 2 hour</td>\n",
       "      <td>2.30 - 3 hour</td>\n",
       "      <td>끔찍함</td>\n",
       "      <td>좋음</td>\n",
       "      <td>No</td>\n",
       "      <td>Yes</td>\n",
       "      <td>77.689873</td>\n",
       "      <td>69.556962</td>\n",
       "      <td>72.968354</td>\n",
       "      <td>100</td>\n",
       "    </tr>\n",
       "    <tr>\n",
       "      <th>234</th>\n",
       "      <td>Female</td>\n",
       "      <td>B.com ISM</td>\n",
       "      <td>155.0</td>\n",
       "      <td>39.0</td>\n",
       "      <td>45</td>\n",
       "      <td>45</td>\n",
       "      <td>50</td>\n",
       "      <td>Sports</td>\n",
       "      <td>3 - 4 hour</td>\n",
       "      <td>Night</td>\n",
       "      <td>...</td>\n",
       "      <td>30 - 60 Minute</td>\n",
       "      <td>2.30 - 3 hour</td>\n",
       "      <td>너무 좋음</td>\n",
       "      <td>좋음</td>\n",
       "      <td>No</td>\n",
       "      <td>No</td>\n",
       "      <td>77.689873</td>\n",
       "      <td>69.556962</td>\n",
       "      <td>72.968354</td>\n",
       "      <td>100</td>\n",
       "    </tr>\n",
       "  </tbody>\n",
       "</table>\n",
       "<p>158 rows × 23 columns</p>\n",
       "</div>"
      ],
      "text/plain": [
       "         성별                             전공     신장   몸무게  1학년평균성적  2학년평균성적  \\\n",
       "73     Male                            BCA  190.0  70.0       89       63   \n",
       "198    Male                      B.com ISM  170.0  65.0       79       62   \n",
       "59     Male  B.com Accounting and Finance   152.0  50.0       90       80   \n",
       "184    Male                      B.com ISM  150.0  48.0       46       48   \n",
       "107    Male                            BCA  183.0  80.0       80       60   \n",
       "..      ...                            ...    ...   ...      ...      ...   \n",
       "226  Female                       Commerce  167.0  65.0       93       85   \n",
       "229  Female                      B.com ISM  153.0  60.0       60       70   \n",
       "232  Female                            BCA  139.0  33.0       90       75   \n",
       "233  Female                       Commerce  153.0  58.0       85       74   \n",
       "234  Female                      B.com ISM  155.0  39.0       45       45   \n",
       "\n",
       "     3학년평균성적             취미         일평균학습시간   집중공부시간  ...      일평균소셜미디어사용시간  \\\n",
       "73        73         Sports   0 - 30 minute  Anytime  ...    30 - 60 Minute   \n",
       "198       60         Cinema      1 - 2 Hour  Morning  ...     1 - 30 Minute   \n",
       "59        95         Sports      3 - 4 hour  Anytime  ...     1 - 1.30 hour   \n",
       "184       60         Sports      1 - 2 Hour  Anytime  ...     1 - 30 Minute   \n",
       "107       70    Video Games   0 - 30 minute  Anytime  ...     1 - 30 Minute   \n",
       "..       ...            ...             ...      ...  ...               ...   \n",
       "226       90  Reading books      1 - 2 Hour    Night  ...    30 - 60 Minute   \n",
       "229       70         Sports      1 - 2 Hour  Anytime  ...     1 - 1.30 hour   \n",
       "232       70         Cinema  30 - 60 minute    Night  ...    30 - 60 Minute   \n",
       "233       75         Cinema   0 - 30 minute  Anytime  ...  More than 2 hour   \n",
       "234       50         Sports      3 - 4 hour    Night  ...    30 - 60 Minute   \n",
       "\n",
       "                통학시간 학업스트레스 교우관계스트레스 아르바이트여부 방과후수업여부          1          2  \\\n",
       "73     1 - 1.30 hour     나쁨       좋음      No     Yes  77.689873  69.556962   \n",
       "198   0 - 30 minutes     좋음       좋음      No     Yes  77.689873  69.556962   \n",
       "59   30 - 60 minutes     나쁨       나쁨     Yes     Yes  77.689873  69.556962   \n",
       "184    1 - 1.30 hour     나쁨       나쁨      No      No  77.689873  69.556962   \n",
       "107   0 - 30 minutes     좋음       나쁨      No     Yes  77.689873  69.556962   \n",
       "..               ...    ...      ...     ...     ...        ...        ...   \n",
       "226  30 - 60 minutes     좋음       좋음      No     Yes  77.689873  69.556962   \n",
       "229   0 - 30 minutes     좋음       나쁨      No      No  77.689873  69.556962   \n",
       "232    2.30 - 3 hour     나쁨       좋음      No     Yes  77.689873  69.556962   \n",
       "233    2.30 - 3 hour    끔찍함       좋음      No     Yes  77.689873  69.556962   \n",
       "234    2.30 - 3 hour  너무 좋음       좋음      No      No  77.689873  69.556962   \n",
       "\n",
       "             3   성적  \n",
       "73   72.968354  100  \n",
       "198  72.968354  100  \n",
       "59   72.968354  100  \n",
       "184  72.968354  100  \n",
       "107  72.968354  100  \n",
       "..         ...  ...  \n",
       "226  72.968354  100  \n",
       "229  72.968354  100  \n",
       "232  72.968354  100  \n",
       "233  72.968354  100  \n",
       "234  72.968354  100  \n",
       "\n",
       "[158 rows x 23 columns]"
      ]
     },
     "execution_count": 26,
     "metadata": {},
     "output_type": "execute_result"
    }
   ],
   "source": [
    "new_df"
   ]
  },
  {
   "cell_type": "code",
   "execution_count": 27,
   "id": "889e3b03",
   "metadata": {
    "scrolled": false
   },
   "outputs": [],
   "source": [
    "new_df=pd.melt(new_df,id_vars=[\"성별\"],value_vars=[\"1학년평균성적\",\"2학년평균성적\",\"3학년평균성적\"])"
   ]
  },
  {
   "cell_type": "code",
   "execution_count": 28,
   "id": "181d4687",
   "metadata": {},
   "outputs": [
    {
     "data": {
      "image/png": "[encoded data removed]",
      "text/plain": [
       "<Figure size 800x600 with 1 Axes>"
      ]
     },
     "metadata": {},
     "output_type": "display_data"
    }
   ],
   "source": [
    "plt.figure(figsize=(8,6))\n",
    "\n",
    "sns.barplot(data=new_df,x=\"variable\",y=\"value\",dodge=True)\n",
    "plt.rc(\"font\", family=\"Malgun Gothic\")\n",
    "plt.yticks([0,20,40,60,80,100])\n",
    "plt.ylabel('성적',fontsize = 20)\n",
    "plt.xlabel('학년',fontsize = 20)\n",
    "plt.show()"
   ]
  },
  {
   "cell_type": "code",
   "execution_count": 29,
   "id": "0d76f487",
   "metadata": {},
   "outputs": [
    {
     "data": {
      "image/png": "[encoded data removed]",
      "text/plain": [
       "<Figure size 800x600 with 1 Axes>"
      ]
     },
     "metadata": {},
     "output_type": "display_data"
    }
   ],
   "source": [
    "plt.figure(figsize=(8,6))\n",
    "\n",
    "sns.barplot(data=new_df,x=\"variable\",y=\"value\",hue=\"성별\",dodge=True)\n",
    "plt.rc(\"font\", family=\"Malgun Gothic\")\n",
    "plt.yticks([0,20,40,60,80,100])\n",
    "plt.ylabel('성적',fontsize = 20)\n",
    "plt.xlabel('학년',fontsize = 20)\n",
    "plt.show()"
   ]
  },
  {
   "cell_type": "code",
   "execution_count": 30,
   "id": "9657fe78",
   "metadata": {},
   "outputs": [
    {
     "data": {
      "text/html": [
       "<div>\n",
       "<style scoped>\n",
       "    .dataframe tbody tr th:only-of-type {\n",
       "        vertical-align: middle;\n",
       "    }\n",
       "\n",
       "    .dataframe tbody tr th {\n",
       "        vertical-align: top;\n",
       "    }\n",
       "\n",
       "    .dataframe thead th {\n",
       "        text-align: right;\n",
       "    }\n",
       "</style>\n",
       "<table border=\"1\" class=\"dataframe\">\n",
       "  <thead>\n",
       "    <tr style=\"text-align: right;\">\n",
       "      <th></th>\n",
       "      <th>성별</th>\n",
       "      <th>variable</th>\n",
       "      <th>value</th>\n",
       "    </tr>\n",
       "  </thead>\n",
       "  <tbody>\n",
       "    <tr>\n",
       "      <th>0</th>\n",
       "      <td>Male</td>\n",
       "      <td>1학년평균성적</td>\n",
       "      <td>89</td>\n",
       "    </tr>\n",
       "    <tr>\n",
       "      <th>1</th>\n",
       "      <td>Male</td>\n",
       "      <td>1학년평균성적</td>\n",
       "      <td>79</td>\n",
       "    </tr>\n",
       "    <tr>\n",
       "      <th>2</th>\n",
       "      <td>Male</td>\n",
       "      <td>1학년평균성적</td>\n",
       "      <td>90</td>\n",
       "    </tr>\n",
       "    <tr>\n",
       "      <th>3</th>\n",
       "      <td>Male</td>\n",
       "      <td>1학년평균성적</td>\n",
       "      <td>46</td>\n",
       "    </tr>\n",
       "    <tr>\n",
       "      <th>4</th>\n",
       "      <td>Male</td>\n",
       "      <td>1학년평균성적</td>\n",
       "      <td>80</td>\n",
       "    </tr>\n",
       "    <tr>\n",
       "      <th>...</th>\n",
       "      <td>...</td>\n",
       "      <td>...</td>\n",
       "      <td>...</td>\n",
       "    </tr>\n",
       "    <tr>\n",
       "      <th>469</th>\n",
       "      <td>Female</td>\n",
       "      <td>3학년평균성적</td>\n",
       "      <td>90</td>\n",
       "    </tr>\n",
       "    <tr>\n",
       "      <th>470</th>\n",
       "      <td>Female</td>\n",
       "      <td>3학년평균성적</td>\n",
       "      <td>70</td>\n",
       "    </tr>\n",
       "    <tr>\n",
       "      <th>471</th>\n",
       "      <td>Female</td>\n",
       "      <td>3학년평균성적</td>\n",
       "      <td>70</td>\n",
       "    </tr>\n",
       "    <tr>\n",
       "      <th>472</th>\n",
       "      <td>Female</td>\n",
       "      <td>3학년평균성적</td>\n",
       "      <td>75</td>\n",
       "    </tr>\n",
       "    <tr>\n",
       "      <th>473</th>\n",
       "      <td>Female</td>\n",
       "      <td>3학년평균성적</td>\n",
       "      <td>50</td>\n",
       "    </tr>\n",
       "  </tbody>\n",
       "</table>\n",
       "<p>474 rows × 3 columns</p>\n",
       "</div>"
      ],
      "text/plain": [
       "         성별 variable  value\n",
       "0      Male  1학년평균성적     89\n",
       "1      Male  1학년평균성적     79\n",
       "2      Male  1학년평균성적     90\n",
       "3      Male  1학년평균성적     46\n",
       "4      Male  1학년평균성적     80\n",
       "..      ...      ...    ...\n",
       "469  Female  3학년평균성적     90\n",
       "470  Female  3학년평균성적     70\n",
       "471  Female  3학년평균성적     70\n",
       "472  Female  3학년평균성적     75\n",
       "473  Female  3학년평균성적     50\n",
       "\n",
       "[474 rows x 3 columns]"
      ]
     },
     "execution_count": 30,
     "metadata": {},
     "output_type": "execute_result"
    }
   ],
   "source": [
    "new_df"
   ]
  },
  {
   "cell_type": "code",
   "execution_count": 31,
   "id": "792ea9e1",
   "metadata": {},
   "outputs": [
    {
     "data": {
      "text/plain": [
       "남자    190\n",
       "여자     97\n",
       "Name: 성별, dtype: int64"
      ]
     },
     "execution_count": 31,
     "metadata": {},
     "output_type": "execute_result"
    }
   ],
   "source": [
    "jsysoo[\"성별\"].value_counts()"
   ]
  },
  {
   "cell_type": "code",
   "execution_count": 78,
   "id": "aea47708",
   "metadata": {},
   "outputs": [],
   "source": [
    "male = jsysoo[jsysoo[\"성별\"]==\"남자\"].sample(n=97)\n",
    "female = jsysoo[jsysoo[\"성별\"]==\"여자\"]"
   ]
  },
  {
   "cell_type": "code",
   "execution_count": 79,
   "id": "c122be0c",
   "metadata": {},
   "outputs": [],
   "source": [
    "new_jsysoo = pd.concat([male,female])"
   ]
  },
  {
   "cell_type": "code",
   "execution_count": 68,
   "id": "0e97ebec",
   "metadata": {},
   "outputs": [
    {
     "data": {
      "text/html": [
       "<div>\n",
       "<style scoped>\n",
       "    .dataframe tbody tr th:only-of-type {\n",
       "        vertical-align: middle;\n",
       "    }\n",
       "\n",
       "    .dataframe tbody tr th {\n",
       "        vertical-align: top;\n",
       "    }\n",
       "\n",
       "    .dataframe thead th {\n",
       "        text-align: right;\n",
       "    }\n",
       "</style>\n",
       "<table border=\"1\" class=\"dataframe\">\n",
       "  <thead>\n",
       "    <tr style=\"text-align: right;\">\n",
       "      <th></th>\n",
       "      <th>타임스탬프</th>\n",
       "      <th>학년</th>\n",
       "      <th>성별</th>\n",
       "      <th>학과(전공)</th>\n",
       "      <th>취미</th>\n",
       "      <th>평균 공부 시간</th>\n",
       "      <th>공부하는 시간</th>\n",
       "      <th>자격증 개수</th>\n",
       "      <th>출석</th>\n",
       "      <th>평균 수면 시간</th>\n",
       "      <th>...</th>\n",
       "      <th>희망 연봉</th>\n",
       "      <th>학과 만족 O/X</th>\n",
       "      <th>취업 선호도</th>\n",
       "      <th>소셜 미디어 사용시간</th>\n",
       "      <th>통학 시간</th>\n",
       "      <th>학업 스트레스</th>\n",
       "      <th>교우관계</th>\n",
       "      <th>알바 유무</th>\n",
       "      <th>방과후 유무</th>\n",
       "      <th>방과후 만족도</th>\n",
       "    </tr>\n",
       "  </thead>\n",
       "  <tbody>\n",
       "    <tr>\n",
       "      <th>119</th>\n",
       "      <td>2023. 10. 12 오후 3:49:47</td>\n",
       "      <td>1학년</td>\n",
       "      <td>남자</td>\n",
       "      <td>소프트웨어개발과</td>\n",
       "      <td>게임</td>\n",
       "      <td>30분-1시간</td>\n",
       "      <td>방과후(저녁)</td>\n",
       "      <td>2</td>\n",
       "      <td>절대 안빠지죠</td>\n",
       "      <td>6시간 이상 자요</td>\n",
       "      <td>...</td>\n",
       "      <td>2000.0</td>\n",
       "      <td>O</td>\n",
       "      <td>10</td>\n",
       "      <td>0-30분</td>\n",
       "      <td>1시간-2시간</td>\n",
       "      <td>1</td>\n",
       "      <td>1</td>\n",
       "      <td>X</td>\n",
       "      <td>O(아래 질문에 답변해주세요!)</td>\n",
       "      <td>10.0</td>\n",
       "    </tr>\n",
       "    <tr>\n",
       "      <th>5</th>\n",
       "      <td>2023. 10. 12 오후 12:23:29</td>\n",
       "      <td>3학년</td>\n",
       "      <td>남자</td>\n",
       "      <td>소프트웨어개발과</td>\n",
       "      <td>게임</td>\n",
       "      <td>30분-1시간</td>\n",
       "      <td>기타</td>\n",
       "      <td>5</td>\n",
       "      <td>절대 안빠지죠</td>\n",
       "      <td>2~4시간 자요</td>\n",
       "      <td>...</td>\n",
       "      <td>NaN</td>\n",
       "      <td>X</td>\n",
       "      <td>5</td>\n",
       "      <td>30-1시간</td>\n",
       "      <td>10-30분</td>\n",
       "      <td>3</td>\n",
       "      <td>3</td>\n",
       "      <td>X</td>\n",
       "      <td>X</td>\n",
       "      <td>5.0</td>\n",
       "    </tr>\n",
       "    <tr>\n",
       "      <th>184</th>\n",
       "      <td>2023. 10. 12 오후 5:18:46</td>\n",
       "      <td>2학년</td>\n",
       "      <td>남자</td>\n",
       "      <td>금융경영과</td>\n",
       "      <td>게임</td>\n",
       "      <td>30분-1시간</td>\n",
       "      <td>밤</td>\n",
       "      <td>7</td>\n",
       "      <td>절대 안빠지죠</td>\n",
       "      <td>6시간 이상 자요</td>\n",
       "      <td>...</td>\n",
       "      <td>3000.0</td>\n",
       "      <td>O</td>\n",
       "      <td>10</td>\n",
       "      <td>0-30분</td>\n",
       "      <td>30-1시간</td>\n",
       "      <td>2</td>\n",
       "      <td>1</td>\n",
       "      <td>O</td>\n",
       "      <td>X</td>\n",
       "      <td>NaN</td>\n",
       "    </tr>\n",
       "    <tr>\n",
       "      <th>194</th>\n",
       "      <td>2023. 10. 12 오후 6:11:46</td>\n",
       "      <td>2학년</td>\n",
       "      <td>남자</td>\n",
       "      <td>소프트웨어개발과</td>\n",
       "      <td>음악</td>\n",
       "      <td>0-30분</td>\n",
       "      <td>방과후(저녁)</td>\n",
       "      <td>4</td>\n",
       "      <td>절대 안빠지죠</td>\n",
       "      <td>4~6시간 자요</td>\n",
       "      <td>...</td>\n",
       "      <td>3000.0</td>\n",
       "      <td>O</td>\n",
       "      <td>5</td>\n",
       "      <td>1시간-2시간</td>\n",
       "      <td>30-1시간</td>\n",
       "      <td>2</td>\n",
       "      <td>1</td>\n",
       "      <td>X</td>\n",
       "      <td>O(아래 질문에 답변해주세요!)</td>\n",
       "      <td>5.0</td>\n",
       "    </tr>\n",
       "    <tr>\n",
       "      <th>69</th>\n",
       "      <td>2023. 10. 12 오후 2:05:00</td>\n",
       "      <td>2학년</td>\n",
       "      <td>남자</td>\n",
       "      <td>소프트웨어개발과</td>\n",
       "      <td>게임</td>\n",
       "      <td>2시간-3시간 이상</td>\n",
       "      <td>밤</td>\n",
       "      <td>4</td>\n",
       "      <td>절대 안빠지죠</td>\n",
       "      <td>4~6시간 자요</td>\n",
       "      <td>...</td>\n",
       "      <td>NaN</td>\n",
       "      <td>O</td>\n",
       "      <td>7</td>\n",
       "      <td>1시간-2시간</td>\n",
       "      <td>30-1시간</td>\n",
       "      <td>3</td>\n",
       "      <td>1</td>\n",
       "      <td>X</td>\n",
       "      <td>O(아래 질문에 답변해주세요!)</td>\n",
       "      <td>7.0</td>\n",
       "    </tr>\n",
       "    <tr>\n",
       "      <th>...</th>\n",
       "      <td>...</td>\n",
       "      <td>...</td>\n",
       "      <td>...</td>\n",
       "      <td>...</td>\n",
       "      <td>...</td>\n",
       "      <td>...</td>\n",
       "      <td>...</td>\n",
       "      <td>...</td>\n",
       "      <td>...</td>\n",
       "      <td>...</td>\n",
       "      <td>...</td>\n",
       "      <td>...</td>\n",
       "      <td>...</td>\n",
       "      <td>...</td>\n",
       "      <td>...</td>\n",
       "      <td>...</td>\n",
       "      <td>...</td>\n",
       "      <td>...</td>\n",
       "      <td>...</td>\n",
       "      <td>...</td>\n",
       "      <td>...</td>\n",
       "    </tr>\n",
       "    <tr>\n",
       "      <th>273</th>\n",
       "      <td>2023. 10. 17 오후 3:08:40</td>\n",
       "      <td>2학년</td>\n",
       "      <td>여자</td>\n",
       "      <td>스마트웹콘텐츠과</td>\n",
       "      <td>운동</td>\n",
       "      <td>1시간-2시간</td>\n",
       "      <td>방과후(저녁)</td>\n",
       "      <td>4</td>\n",
       "      <td>절대 안빠지죠</td>\n",
       "      <td>2~4시간 자요</td>\n",
       "      <td>...</td>\n",
       "      <td>2000.0</td>\n",
       "      <td>O</td>\n",
       "      <td>8</td>\n",
       "      <td>1시간-2시간</td>\n",
       "      <td>1시간-2시간</td>\n",
       "      <td>4</td>\n",
       "      <td>1</td>\n",
       "      <td>O</td>\n",
       "      <td>O(아래 질문에 답변해주세요!)</td>\n",
       "      <td>9.0</td>\n",
       "    </tr>\n",
       "    <tr>\n",
       "      <th>274</th>\n",
       "      <td>2023. 10. 17 오후 3:08:43</td>\n",
       "      <td>2학년</td>\n",
       "      <td>여자</td>\n",
       "      <td>스마트웹콘텐츠과</td>\n",
       "      <td>영상시청</td>\n",
       "      <td>30분-1시간</td>\n",
       "      <td>밤</td>\n",
       "      <td>4</td>\n",
       "      <td>한달에 한두번 빠져요</td>\n",
       "      <td>4~6시간 자요</td>\n",
       "      <td>...</td>\n",
       "      <td>8000.0</td>\n",
       "      <td>O</td>\n",
       "      <td>7</td>\n",
       "      <td>2시간-3시간 이상</td>\n",
       "      <td>30-1시간</td>\n",
       "      <td>3</td>\n",
       "      <td>1</td>\n",
       "      <td>X</td>\n",
       "      <td>O(아래 질문에 답변해주세요!)</td>\n",
       "      <td>5.0</td>\n",
       "    </tr>\n",
       "    <tr>\n",
       "      <th>277</th>\n",
       "      <td>2023. 10. 17 오후 3:13:28</td>\n",
       "      <td>2학년</td>\n",
       "      <td>여자</td>\n",
       "      <td>스마트웹콘텐츠과</td>\n",
       "      <td>운동</td>\n",
       "      <td>0-30분</td>\n",
       "      <td>밤</td>\n",
       "      <td>4</td>\n",
       "      <td>절대 안빠지죠</td>\n",
       "      <td>2~4시간 자요</td>\n",
       "      <td>...</td>\n",
       "      <td>NaN</td>\n",
       "      <td>X</td>\n",
       "      <td>5</td>\n",
       "      <td>2시간-3시간 이상</td>\n",
       "      <td>10-30분</td>\n",
       "      <td>3</td>\n",
       "      <td>2</td>\n",
       "      <td>X</td>\n",
       "      <td>X</td>\n",
       "      <td>9.0</td>\n",
       "    </tr>\n",
       "    <tr>\n",
       "      <th>281</th>\n",
       "      <td>2023. 10. 17 오후 3:23:18</td>\n",
       "      <td>2학년</td>\n",
       "      <td>여자</td>\n",
       "      <td>스마트웹콘텐츠과</td>\n",
       "      <td>게임</td>\n",
       "      <td>1시간-2시간</td>\n",
       "      <td>밤</td>\n",
       "      <td>4</td>\n",
       "      <td>한달에 한두번 빠져요</td>\n",
       "      <td>6시간 이상 자요</td>\n",
       "      <td>...</td>\n",
       "      <td>5000.0</td>\n",
       "      <td>O</td>\n",
       "      <td>3</td>\n",
       "      <td>1시간-2시간</td>\n",
       "      <td>1시간-2시간</td>\n",
       "      <td>2</td>\n",
       "      <td>2</td>\n",
       "      <td>X</td>\n",
       "      <td>X</td>\n",
       "      <td>3.0</td>\n",
       "    </tr>\n",
       "    <tr>\n",
       "      <th>286</th>\n",
       "      <td>2023. 10. 17 오후 4:33:30</td>\n",
       "      <td>2학년</td>\n",
       "      <td>여자</td>\n",
       "      <td>스마트웹콘텐츠과</td>\n",
       "      <td>게임</td>\n",
       "      <td>0-30분</td>\n",
       "      <td>밤</td>\n",
       "      <td>5</td>\n",
       "      <td>절대 안빠지죠</td>\n",
       "      <td>6시간 이상 자요</td>\n",
       "      <td>...</td>\n",
       "      <td>2000.0</td>\n",
       "      <td>O</td>\n",
       "      <td>7</td>\n",
       "      <td>30-1시간</td>\n",
       "      <td>30-1시간</td>\n",
       "      <td>2</td>\n",
       "      <td>2</td>\n",
       "      <td>O</td>\n",
       "      <td>O(아래 질문에 답변해주세요!)</td>\n",
       "      <td>8.0</td>\n",
       "    </tr>\n",
       "  </tbody>\n",
       "</table>\n",
       "<p>194 rows × 23 columns</p>\n",
       "</div>"
      ],
      "text/plain": [
       "                        타임스탬프   학년  성별    학과(전공)    취미    평균 공부 시간  공부하는 시간  \\\n",
       "119   2023. 10. 12 오후 3:49:47  1학년  남자  소프트웨어개발과    게임     30분-1시간  방과후(저녁)   \n",
       "5    2023. 10. 12 오후 12:23:29  3학년  남자  소프트웨어개발과    게임     30분-1시간       기타   \n",
       "184   2023. 10. 12 오후 5:18:46  2학년  남자     금융경영과    게임     30분-1시간        밤   \n",
       "194   2023. 10. 12 오후 6:11:46  2학년  남자  소프트웨어개발과    음악       0-30분  방과후(저녁)   \n",
       "69    2023. 10. 12 오후 2:05:00  2학년  남자  소프트웨어개발과    게임  2시간-3시간 이상        밤   \n",
       "..                        ...  ...  ..       ...   ...         ...      ...   \n",
       "273   2023. 10. 17 오후 3:08:40  2학년  여자  스마트웹콘텐츠과    운동     1시간-2시간  방과후(저녁)   \n",
       "274   2023. 10. 17 오후 3:08:43  2학년  여자  스마트웹콘텐츠과  영상시청     30분-1시간        밤   \n",
       "277   2023. 10. 17 오후 3:13:28  2학년  여자  스마트웹콘텐츠과    운동       0-30분        밤   \n",
       "281   2023. 10. 17 오후 3:23:18  2학년  여자  스마트웹콘텐츠과    게임     1시간-2시간        밤   \n",
       "286   2023. 10. 17 오후 4:33:30  2학년  여자  스마트웹콘텐츠과    게임       0-30분        밤   \n",
       "\n",
       "    자격증 개수           출석   평균 수면 시간  ...   희망 연봉  학과 만족 O/X  취업 선호도  \\\n",
       "119      2      절대 안빠지죠  6시간 이상 자요  ...  2000.0          O      10   \n",
       "5        5      절대 안빠지죠   2~4시간 자요  ...     NaN          X       5   \n",
       "184      7      절대 안빠지죠  6시간 이상 자요  ...  3000.0          O      10   \n",
       "194      4      절대 안빠지죠   4~6시간 자요  ...  3000.0          O       5   \n",
       "69       4      절대 안빠지죠   4~6시간 자요  ...     NaN          O       7   \n",
       "..     ...          ...        ...  ...     ...        ...     ...   \n",
       "273      4      절대 안빠지죠   2~4시간 자요  ...  2000.0          O       8   \n",
       "274      4  한달에 한두번 빠져요   4~6시간 자요  ...  8000.0          O       7   \n",
       "277      4      절대 안빠지죠   2~4시간 자요  ...     NaN          X       5   \n",
       "281      4  한달에 한두번 빠져요  6시간 이상 자요  ...  5000.0          O       3   \n",
       "286      5      절대 안빠지죠  6시간 이상 자요  ...  2000.0          O       7   \n",
       "\n",
       "     소셜 미디어 사용시간    통학 시간  학업 스트레스 교우관계 알바 유무             방과후 유무  방과후 만족도  \n",
       "119        0-30분  1시간-2시간        1    1     X  O(아래 질문에 답변해주세요!)     10.0  \n",
       "5         30-1시간   10-30분        3    3     X                  X      5.0  \n",
       "184        0-30분   30-1시간        2    1     O                  X      NaN  \n",
       "194      1시간-2시간   30-1시간        2    1     X  O(아래 질문에 답변해주세요!)      5.0  \n",
       "69       1시간-2시간   30-1시간        3    1     X  O(아래 질문에 답변해주세요!)      7.0  \n",
       "..           ...      ...      ...  ...   ...                ...      ...  \n",
       "273      1시간-2시간  1시간-2시간        4    1     O  O(아래 질문에 답변해주세요!)      9.0  \n",
       "274   2시간-3시간 이상   30-1시간        3    1     X  O(아래 질문에 답변해주세요!)      5.0  \n",
       "277   2시간-3시간 이상   10-30분        3    2     X                  X      9.0  \n",
       "281      1시간-2시간  1시간-2시간        2    2     X                  X      3.0  \n",
       "286       30-1시간   30-1시간        2    2     O  O(아래 질문에 답변해주세요!)      8.0  \n",
       "\n",
       "[194 rows x 23 columns]"
      ]
     },
     "execution_count": 68,
     "metadata": {},
     "output_type": "execute_result"
    }
   ],
   "source": [
    "new_jsysoo"
   ]
  },
  {
   "cell_type": "code",
   "execution_count": 71,
   "id": "91e85f25",
   "metadata": {},
   "outputs": [],
   "source": [
    "new_jsysoo=pd.melt(new_jsysoo,id_vars=[\"학과(전공)\"],value_vars=[\"희망 연봉\"])"
   ]
  },
  {
   "cell_type": "code",
   "execution_count": 46,
   "id": "434743dc",
   "metadata": {},
   "outputs": [
    {
     "data": {
      "text/html": [
       "<div>\n",
       "<style scoped>\n",
       "    .dataframe tbody tr th:only-of-type {\n",
       "        vertical-align: middle;\n",
       "    }\n",
       "\n",
       "    .dataframe tbody tr th {\n",
       "        vertical-align: top;\n",
       "    }\n",
       "\n",
       "    .dataframe thead th {\n",
       "        text-align: right;\n",
       "    }\n",
       "</style>\n",
       "<table border=\"1\" class=\"dataframe\">\n",
       "  <thead>\n",
       "    <tr style=\"text-align: right;\">\n",
       "      <th></th>\n",
       "      <th>학과(전공)</th>\n",
       "      <th>variable</th>\n",
       "      <th>value</th>\n",
       "    </tr>\n",
       "  </thead>\n",
       "  <tbody>\n",
       "    <tr>\n",
       "      <th>0</th>\n",
       "      <td>스마트웹콘텐츠과</td>\n",
       "      <td>희망 연봉</td>\n",
       "      <td>2000.0</td>\n",
       "    </tr>\n",
       "    <tr>\n",
       "      <th>1</th>\n",
       "      <td>소프트웨어개발과</td>\n",
       "      <td>희망 연봉</td>\n",
       "      <td>4000.0</td>\n",
       "    </tr>\n",
       "    <tr>\n",
       "      <th>2</th>\n",
       "      <td>소프트웨어개발과</td>\n",
       "      <td>희망 연봉</td>\n",
       "      <td>3000.0</td>\n",
       "    </tr>\n",
       "    <tr>\n",
       "      <th>3</th>\n",
       "      <td>스마트웹콘텐츠과</td>\n",
       "      <td>희망 연봉</td>\n",
       "      <td>2000.0</td>\n",
       "    </tr>\n",
       "    <tr>\n",
       "      <th>4</th>\n",
       "      <td>창업마케팅과</td>\n",
       "      <td>희망 연봉</td>\n",
       "      <td>NaN</td>\n",
       "    </tr>\n",
       "    <tr>\n",
       "      <th>...</th>\n",
       "      <td>...</td>\n",
       "      <td>...</td>\n",
       "      <td>...</td>\n",
       "    </tr>\n",
       "    <tr>\n",
       "      <th>182</th>\n",
       "      <td>스마트웹콘텐츠과</td>\n",
       "      <td>희망 연봉</td>\n",
       "      <td>2000.0</td>\n",
       "    </tr>\n",
       "    <tr>\n",
       "      <th>183</th>\n",
       "      <td>스마트웹콘텐츠과</td>\n",
       "      <td>희망 연봉</td>\n",
       "      <td>8000.0</td>\n",
       "    </tr>\n",
       "    <tr>\n",
       "      <th>184</th>\n",
       "      <td>스마트웹콘텐츠과</td>\n",
       "      <td>희망 연봉</td>\n",
       "      <td>NaN</td>\n",
       "    </tr>\n",
       "    <tr>\n",
       "      <th>185</th>\n",
       "      <td>스마트웹콘텐츠과</td>\n",
       "      <td>희망 연봉</td>\n",
       "      <td>5000.0</td>\n",
       "    </tr>\n",
       "    <tr>\n",
       "      <th>186</th>\n",
       "      <td>스마트웹콘텐츠과</td>\n",
       "      <td>희망 연봉</td>\n",
       "      <td>2000.0</td>\n",
       "    </tr>\n",
       "  </tbody>\n",
       "</table>\n",
       "<p>187 rows × 3 columns</p>\n",
       "</div>"
      ],
      "text/plain": [
       "       학과(전공) variable   value\n",
       "0    스마트웹콘텐츠과    희망 연봉  2000.0\n",
       "1    소프트웨어개발과    희망 연봉  4000.0\n",
       "2    소프트웨어개발과    희망 연봉  3000.0\n",
       "3    스마트웹콘텐츠과    희망 연봉  2000.0\n",
       "4      창업마케팅과    희망 연봉     NaN\n",
       "..        ...      ...     ...\n",
       "182  스마트웹콘텐츠과    희망 연봉  2000.0\n",
       "183  스마트웹콘텐츠과    희망 연봉  8000.0\n",
       "184  스마트웹콘텐츠과    희망 연봉     NaN\n",
       "185  스마트웹콘텐츠과    희망 연봉  5000.0\n",
       "186  스마트웹콘텐츠과    희망 연봉  2000.0\n",
       "\n",
       "[187 rows x 3 columns]"
      ]
     },
     "execution_count": 46,
     "metadata": {},
     "output_type": "execute_result"
    }
   ],
   "source": [
    "new_jsysoo"
   ]
  },
  {
   "cell_type": "code",
   "execution_count": 50,
   "id": "e444f65c",
   "metadata": {},
   "outputs": [
    {
     "data": {
      "text/plain": [
       "Text(0, 0.5, '연봉')"
      ]
     },
     "execution_count": 50,
     "metadata": {},
     "output_type": "execute_result"
    },
    {
     "data": {
      "image/png": "[encoded data removed]",
      "text/plain": [
       "<Figure size 640x480 with 1 Axes>"
      ]
     },
     "metadata": {},
     "output_type": "display_data"
    }
   ],
   "source": [
    "sns.barplot(data=new_jsysoo, x=\"variable\", y=\"value\",hue=\"학과(전공)\", dodge=True)\n",
    "plt.xlabel(\"학과\")\n",
    "plt.ylabel(\"연봉\")"
   ]
  },
  {
   "cell_type": "code",
   "execution_count": 38,
   "id": "c62289f3",
   "metadata": {},
   "outputs": [
    {
     "data": {
      "text/plain": [
       "(1.0, 10.0)"
      ]
     },
     "execution_count": 38,
     "metadata": {},
     "output_type": "execute_result"
    },
    {
     "data": {
      "image/png": "[encoded data removed]",
      "text/plain": [
       "<Figure size 800x800 with 1 Axes>"
      ]
     },
     "metadata": {},
     "output_type": "display_data"
    }
   ],
   "source": [
    "plt.figure(figsize=(8,8))\n",
    "sns.barplot(data=new_jsysoo, x=\"variable\", y=\"value\",hue=\"학과(전공)\", dodge=True)\n",
    "plt.xlabel(\"전공\")\n",
    "plt.ylabel(\"선호도\")\n",
    "plt.ylim(1,10)"
   ]
  },
  {
   "cell_type": "code",
   "execution_count": 39,
   "id": "f939d637",
   "metadata": {},
   "outputs": [
    {
     "data": {
      "text/plain": [
       "(1.0, 4.0)"
      ]
     },
     "execution_count": 39,
     "metadata": {},
     "output_type": "execute_result"
    },
    {
     "data": {
      "image/png": "[encoded data removed]",
      "text/plain": [
       "<Figure size 800x800 with 1 Axes>"
      ]
     },
     "metadata": {},
     "output_type": "display_data"
    }
   ],
   "source": [
    "plt.figure(figsize=(8,8))\n",
    "sns.barplot(data=new_jsysoo, x=\"variable\", y=\"value\",hue=\"학과(전공)\", dodge=True)\n",
    "plt.xlabel(\"전공\")\n",
    "plt.ylabel(\"높을수록 안좋음\")\n",
    "plt.ylim(1,4)"
   ]
  },
  {
   "cell_type": "code",
   "execution_count": 40,
   "id": "7115ddf4",
   "metadata": {},
   "outputs": [
    {
     "name": "stdout",
     "output_type": "stream",
     "text": [
      "<class 'pandas.core.frame.DataFrame'>\n",
      "RangeIndex: 287 entries, 0 to 286\n",
      "Data columns (total 23 columns):\n",
      " #   Column       Non-Null Count  Dtype  \n",
      "---  ------       --------------  -----  \n",
      " 0   타임스탬프        287 non-null    object \n",
      " 1   학년           287 non-null    object \n",
      " 2   성별           287 non-null    object \n",
      " 3   학과(전공)       287 non-null    object \n",
      " 4   취미           287 non-null    object \n",
      " 5   평균 공부 시간     287 non-null    object \n",
      " 6   공부하는 시간      287 non-null    object \n",
      " 7   자격증 개수       287 non-null    object \n",
      " 8   출석           287 non-null    object \n",
      " 9   평균 수면 시간     287 non-null    object \n",
      " 10  희망 진로        287 non-null    object \n",
      " 11  수업 집중도       287 non-null    int64  \n",
      " 12  수업 집중도(전공)   287 non-null    int64  \n",
      " 13  희망 연봉        216 non-null    float64\n",
      " 14  학과 만족 O/X    287 non-null    object \n",
      " 15  취업 선호도       287 non-null    int64  \n",
      " 16  소셜 미디어 사용시간  287 non-null    object \n",
      " 17  통학 시간        287 non-null    object \n",
      " 18  학업 스트레스      287 non-null    int64  \n",
      " 19  교우관계         287 non-null    int64  \n",
      " 20  알바 유무        287 non-null    object \n",
      " 21  방과후 유무       287 non-null    object \n",
      " 22  방과후 만족도      194 non-null    float64\n",
      "dtypes: float64(2), int64(5), object(16)\n",
      "memory usage: 51.7+ KB\n"
     ]
    }
   ],
   "source": [
    "jsysoo.info()"
   ]
  },
  {
   "cell_type": "code",
   "execution_count": 41,
   "id": "8c8b9ebf",
   "metadata": {},
   "outputs": [
    {
     "data": {
      "text/plain": [
       "(1.0, 10.0)"
      ]
     },
     "execution_count": 41,
     "metadata": {},
     "output_type": "execute_result"
    },
    {
     "data": {
      "image/png": "[encoded data removed]",
      "text/plain": [
       "<Figure size 800x800 with 1 Axes>"
      ]
     },
     "metadata": {},
     "output_type": "display_data"
    }
   ],
   "source": [
    "plt.figure(figsize=(8,8))\n",
    "sns.barplot(data=new_jsysoo, x=\"variable\", y=\"value\",hue=\"학과(전공)\", dodge=True)\n",
    "plt.xlabel(\"전공\")\n",
    "plt.ylabel(\"높을수록 좋음\")\n",
    "plt.ylim(1,10)"
   ]
  },
  {
   "cell_type": "markdown",
   "id": "e0a6e2d0",
   "metadata": {},
   "source": [
    "# 10월 18일"
   ]
  },
  {
   "cell_type": "markdown",
   "id": "52e9a2e3",
   "metadata": {},
   "source": [
    "##  ___sns.boxplot___\n",
    "\n",
    "위에 sns.barplot보다 데이터의 밀집도를 볼 수 있다.\n",
    "\n",
    "가운데선은 데이터의 평균을 의미하고,\n",
    "바깥선은 데이터의 범위를 의미한다.\n",
    "\n",
    "이에 따라 1학년의 평균 성적은 범위가 비슷하고\n",
    "3학년의 평균 성적은 3학년 남자가 범위가 매우 넓다는 것을 알 수 있다."
   ]
  },
  {
   "cell_type": "code",
   "execution_count": 57,
   "id": "4b7fd746",
   "metadata": {
    "scrolled": false
   },
   "outputs": [
    {
     "data": {
      "image/png": "[encoded data removed]",
      "text/plain": [
       "<Figure size 800x600 with 1 Axes>"
      ]
     },
     "metadata": {},
     "output_type": "display_data"
    }
   ],
   "source": [
    "plt.figure(figsize=(8,6))\n",
    "sns.boxplot(data=new_df, x=\"variable\", y= \"value\", hue=\"성별\", dodge=True)\n",
    "plt.rc(\"font\", family=\"Malgun Gothic\")\n",
    "plt.yticks([0,20,40,60,80,100])\n",
    "plt.ylabel('성적',fontsize = 20)\n",
    "plt.xlabel('학년',fontsize = 20)\n",
    "plt.legend(loc=2)\n",
    "plt.show()"
   ]
  },
  {
   "cell_type": "markdown",
   "id": "221aaa1e",
   "metadata": {},
   "source": [
    "**학과의 따른 희망 연봉 평균**"
   ]
  },
  {
   "cell_type": "code",
   "execution_count": 72,
   "id": "2b53def1",
   "metadata": {
    "scrolled": false
   },
   "outputs": [
    {
     "data": {
      "text/plain": [
       "Text(0, 0.5, '연봉')"
      ]
     },
     "execution_count": 72,
     "metadata": {},
     "output_type": "execute_result"
    },
    {
     "data": {
      "image/png": "[encoded data removed]",
      "text/plain": [
       "<Figure size 800x800 with 1 Axes>"
      ]
     },
     "metadata": {},
     "output_type": "display_data"
    }
   ],
   "source": [
    "plt.figure(figsize=(8,8))\n",
    "sns.boxplot(data=new_jsysoo, x=\"variable\", y=\"value\",hue=\"학과(전공)\", dodge=True)\n",
    "plt.xlabel(\"전공\",fontsize = 20)\n",
    "plt.ylabel(\"연봉\",fontsize = 20)"
   ]
  },
  {
   "cell_type": "code",
   "execution_count": 69,
   "id": "7fa61469",
   "metadata": {},
   "outputs": [
    {
     "data": {
      "text/plain": [
       "남자    97\n",
       "여자    97\n",
       "Name: 성별, dtype: int64"
      ]
     },
     "execution_count": 69,
     "metadata": {},
     "output_type": "execute_result"
    }
   ],
   "source": [
    "new_jsysoo[\"성별\"].value_counts()"
   ]
  },
  {
   "cell_type": "code",
   "execution_count": 92,
   "id": "d44fae84",
   "metadata": {},
   "outputs": [],
   "source": [
    "new_jsysoo = pd.concat([male,female])\n",
    "new_jsysoo=pd.melt(new_jsysoo,id_vars=[\"알바 유무\"],value_vars=[\"희망 연봉\"])"
   ]
  },
  {
   "cell_type": "markdown",
   "id": "b642900e",
   "metadata": {},
   "source": [
    "**자격증 개수의 따른 희망 연봉 평균**"
   ]
  },
  {
   "cell_type": "code",
   "execution_count": 77,
   "id": "a3c8f7d3",
   "metadata": {},
   "outputs": [
    {
     "data": {
      "text/plain": [
       "Text(0, 0.5, '희망 연봉')"
      ]
     },
     "execution_count": 77,
     "metadata": {},
     "output_type": "execute_result"
    },
    {
     "data": {
      "image/png": "[encoded data removed]",
      "text/plain": [
       "<Figure size 800x800 with 1 Axes>"
      ]
     },
     "metadata": {},
     "output_type": "display_data"
    }
   ],
   "source": [
    "plt.figure(figsize=(8,8))\n",
    "sns.boxplot(data=new_jsysoo, x=\"variable\", y=\"value\",hue=\"자격증 개수\", dodge=True)\n",
    "plt.xlabel(\"자격증 개수\",fontsize = 20)\n",
    "plt.ylabel(\"희망 연봉\",fontsize = 20)"
   ]
  },
  {
   "cell_type": "markdown",
   "id": "f6745c49",
   "metadata": {},
   "source": [
    "**성별의 따른 희망 연봉 평균**"
   ]
  },
  {
   "cell_type": "code",
   "execution_count": 82,
   "id": "d7395bbf",
   "metadata": {},
   "outputs": [
    {
     "data": {
      "text/plain": [
       "Text(0, 0.5, '희망 연봉')"
      ]
     },
     "execution_count": 82,
     "metadata": {},
     "output_type": "execute_result"
    },
    {
     "data": {
      "image/png": "[encoded data removed]",
      "text/plain": [
       "<Figure size 800x800 with 1 Axes>"
      ]
     },
     "metadata": {},
     "output_type": "display_data"
    }
   ],
   "source": [
    "plt.figure(figsize=(8,8))\n",
    "sns.boxplot(data=new_jsysoo, x=\"variable\", y=\"value\",hue=\"성별\", dodge=True)\n",
    "plt.xlabel(\"성별\",fontsize = 20)\n",
    "plt.ylabel(\"희망 연봉\",fontsize = 20)"
   ]
  },
  {
   "cell_type": "markdown",
   "id": "a1608ca2",
   "metadata": {},
   "source": [
    "**학년별 희망 연봉 평균**"
   ]
  },
  {
   "cell_type": "code",
   "execution_count": 88,
   "id": "f3988c93",
   "metadata": {
    "scrolled": false
   },
   "outputs": [
    {
     "data": {
      "text/plain": [
       "(0.0, 10000.0)"
      ]
     },
     "execution_count": 88,
     "metadata": {},
     "output_type": "execute_result"
    },
    {
     "data": {
      "image/png": "[encoded data removed]",
      "text/plain": [
       "<Figure size 800x800 with 1 Axes>"
      ]
     },
     "metadata": {},
     "output_type": "display_data"
    }
   ],
   "source": [
    "plt.figure(figsize=(8,8))\n",
    "sns.boxplot(data=new_jsysoo, x=\"variable\", y=\"value\",hue=\"학년\", dodge=True)\n",
    "plt.xlabel(\"학년\",fontsize = 20)\n",
    "plt.ylabel(\"희망 연봉\",fontsize = 20)\n",
    "plt.ylim(0,10000)"
   ]
  },
  {
   "cell_type": "markdown",
   "id": "942ee9e1",
   "metadata": {},
   "source": [
    "**알바 유무의 따른 희망 연봉**"
   ]
  },
  {
   "cell_type": "code",
   "execution_count": 93,
   "id": "25dca3d1",
   "metadata": {},
   "outputs": [
    {
     "data": {
      "text/plain": [
       "Text(0, 0.5, '희망 연봉')"
      ]
     },
     "execution_count": 93,
     "metadata": {},
     "output_type": "execute_result"
    },
    {
     "data": {
      "image/png": "[encoded data removed]",
      "text/plain": [
       "<Figure size 800x800 with 1 Axes>"
      ]
     },
     "metadata": {},
     "output_type": "display_data"
    }
   ],
   "source": [
    "plt.figure(figsize=(8,8))\n",
    "sns.boxplot(data=new_jsysoo, x=\"variable\", y=\"value\",hue=\"알바 유무\", dodge=True)\n",
    "plt.xlabel(\"알바 유무\",fontsize = 20)\n",
    "plt.ylabel(\"희망 연봉\",fontsize = 20)"
   ]
  },
  {
   "cell_type": "code",
   "execution_count": 98,
   "id": "68aa2801",
   "metadata": {},
   "outputs": [],
   "source": [
    "new_jsysoo = pd.concat([male,female])\n",
    "new_jsysoo=pd.melt(new_jsysoo,id_vars=[\"학과(전공)\"],value_vars=[\"수업 집중도(전공)\"])"
   ]
  },
  {
   "cell_type": "markdown",
   "id": "502c28d3",
   "metadata": {},
   "source": [
    "**학과의 따른 학업 스트레스**"
   ]
  },
  {
   "cell_type": "code",
   "execution_count": 95,
   "id": "35c8eec1",
   "metadata": {},
   "outputs": [
    {
     "data": {
      "text/plain": [
       "Text(0, 0.5, '스트레스')"
      ]
     },
     "execution_count": 95,
     "metadata": {},
     "output_type": "execute_result"
    },
    {
     "data": {
      "image/png": "[encoded data removed]",
      "text/plain": [
       "<Figure size 800x800 with 1 Axes>"
      ]
     },
     "metadata": {},
     "output_type": "display_data"
    }
   ],
   "source": [
    "plt.figure(figsize=(8,8))\n",
    "sns.boxplot(data=new_jsysoo, x=\"variable\", y=\"value\",hue=\"학과(전공)\", dodge=True)\n",
    "plt.xlabel(\"학과\",fontsize = 20)\n",
    "plt.ylabel(\"스트레스\",fontsize = 20)"
   ]
  },
  {
   "cell_type": "markdown",
   "id": "2d6e2afc",
   "metadata": {},
   "source": [
    "**학고의 따른 수업 집중도**"
   ]
  },
  {
   "cell_type": "code",
   "execution_count": 97,
   "id": "bcab03f3",
   "metadata": {},
   "outputs": [
    {
     "data": {
      "text/plain": [
       "Text(0, 0.5, '수업 집중도')"
      ]
     },
     "execution_count": 97,
     "metadata": {},
     "output_type": "execute_result"
    },
    {
     "data": {
      "image/png": "[encoded data removed]",
      "text/plain": [
       "<Figure size 800x800 with 1 Axes>"
      ]
     },
     "metadata": {},
     "output_type": "display_data"
    }
   ],
   "source": [
    "plt.figure(figsize=(8,8))\n",
    "sns.boxplot(data=new_jsysoo, x=\"variable\", y=\"value\",hue=\"학과(전공)\", dodge=True)\n",
    "plt.xlabel(\"학과\",fontsize = 20)\n",
    "plt.ylabel(\"수업 집중도\",fontsize = 20)"
   ]
  },
  {
   "cell_type": "markdown",
   "id": "2383ef5a",
   "metadata": {},
   "source": [
    "**학과의 따른 전공 집중도**"
   ]
  },
  {
   "cell_type": "code",
   "execution_count": 99,
   "id": "92d479a4",
   "metadata": {},
   "outputs": [
    {
     "data": {
      "text/plain": [
       "Text(0, 0.5, '전공 수업 집중도')"
      ]
     },
     "execution_count": 99,
     "metadata": {},
     "output_type": "execute_result"
    },
    {
     "data": {
      "image/png": "[encoded data removed]",
      "text/plain": [
       "<Figure size 800x800 with 1 Axes>"
      ]
     },
     "metadata": {},
     "output_type": "display_data"
    }
   ],
   "source": [
    "plt.figure(figsize=(8,8))\n",
    "sns.boxplot(data=new_jsysoo, x=\"variable\", y=\"value\",hue=\"학과(전공)\", dodge=True)\n",
    "plt.xlabel(\"학과\",fontsize = 20)\n",
    "plt.ylabel(\"전공 수업 집중도\",fontsize = 20)"
   ]
  },
  {
   "cell_type": "markdown",
   "id": "ed436487",
   "metadata": {},
   "source": [
    "성별의 따른 일평균학습시간 그래프 만들기"
   ]
  },
  {
   "cell_type": "code",
   "execution_count": 109,
   "id": "24276c00",
   "metadata": {
    "scrolled": true
   },
   "outputs": [],
   "source": [
    "new_df=pd.melt(new_df,id_vars=[\"성별\"],value_vars=[\"일평균학습시간\"])"
   ]
  },
  {
   "cell_type": "code",
   "execution_count": 125,
   "id": "e210faa6",
   "metadata": {},
   "outputs": [
    {
     "data": {
      "text/plain": [
       "(array([0, 1, 2, 3, 4, 5]),\n",
       " [Text(0, 0, '0 - 30 minute'),\n",
       "  Text(1, 0, '30 - 60 minute'),\n",
       "  Text(2, 0, '1 - 2 Hour'),\n",
       "  Text(3, 0, '2 - 3 hour'),\n",
       "  Text(4, 0, '3 - 4 hour'),\n",
       "  Text(5, 0, 'More Than 4 hour')])"
      ]
     },
     "execution_count": 125,
     "metadata": {},
     "output_type": "execute_result"
    },
    {
     "data": {
      "image/png": "[encoded data removed]",
      "text/plain": [
       "<Figure size 640x480 with 1 Axes>"
      ]
     },
     "metadata": {},
     "output_type": "display_data"
    }
   ],
   "source": [
    "# plt.figure(figsize=(10, 6))\n",
    "sns.countplot(data=df, x=\"일평균학습시간\", hue=\"성별\")\n",
    "plt.xticks(rotation=45, fontsize=10)"
   ]
  },
  {
   "cell_type": "code",
   "execution_count": 128,
   "id": "4638ddc7",
   "metadata": {},
   "outputs": [
    {
     "data": {
      "text/plain": [
       "<AxesSubplot:xlabel='일평균학습시간', ylabel='Count'>"
      ]
     },
     "execution_count": 128,
     "metadata": {},
     "output_type": "execute_result"
    },
    {
     "data": {
      "image/png": "[encoded data removed]",
      "text/plain": [
       "<Figure size 1000x600 with 1 Axes>"
      ]
     },
     "metadata": {},
     "output_type": "display_data"
    }
   ],
   "source": [
    "plt.figure(figsize=(10, 6))\n",
    "sns.histplot(data=df, x=\"일평균학습시간\", hue=\"성별\",multiple=\"dodge\", shrink=.8)"
   ]
  },
  {
   "cell_type": "code",
   "execution_count": 129,
   "id": "8df98ebe",
   "metadata": {},
   "outputs": [
    {
     "data": {
      "text/plain": [
       "RangeIndex(start=0, stop=235, step=1)"
      ]
     },
     "execution_count": 129,
     "metadata": {},
     "output_type": "execute_result"
    }
   ],
   "source": [
    "df.index"
   ]
  },
  {
   "cell_type": "markdown",
   "id": "8a51ecab",
   "metadata": {},
   "source": [
    "성별의 따른 일평균학습시간 데이터 꾸미기"
   ]
  },
  {
   "cell_type": "code",
   "execution_count": 142,
   "id": "685198ee",
   "metadata": {
    "scrolled": false
   },
   "outputs": [
    {
     "data": {
      "text/plain": [
       "성별      일평균학습시간         \n",
       "Female  0 - 30 minute       11\n",
       "        1 - 2 Hour          24\n",
       "        2 - 3 hour          14\n",
       "        3 - 4 hour           7\n",
       "        30 - 60 minute      21\n",
       "        More Than 4 hour     2\n",
       "Male    0 - 30 minute       35\n",
       "        1 - 2 Hour          37\n",
       "        2 - 3 hour          10\n",
       "        3 - 4 hour           8\n",
       "        30 - 60 minute      60\n",
       "        More Than 4 hour     6\n",
       "Name: 일평균학습시간, dtype: int64"
      ]
     },
     "execution_count": 142,
     "metadata": {},
     "output_type": "execute_result"
    }
   ],
   "source": [
    "df.groupby(\"성별\")[\"일평균학습시간\"].value_counts().sort_index()"
   ]
  },
  {
   "cell_type": "code",
   "execution_count": 146,
   "id": "f0c28800",
   "metadata": {},
   "outputs": [
    {
     "name": "stdout",
     "output_type": "stream",
     "text": [
      "   일평균학습시간             index\n",
      "0       26    30 - 60 minute\n",
      "1       23     0 - 30 minute\n",
      "2       19        1 - 2 Hour\n",
      "3        4        2 - 3 hour\n",
      "4        4        3 - 4 hour\n",
      "5        3  More Than 4 hour\n",
      "   일평균학습시간             index\n",
      "0       24        1 - 2 Hour\n",
      "1       21    30 - 60 minute\n",
      "2       14        2 - 3 hour\n",
      "3       11     0 - 30 minute\n",
      "4        7        3 - 4 hour\n",
      "5        2  More Than 4 hour\n"
     ]
    }
   ],
   "source": [
    "STMale = male[\"일평균학습시간\"]\n",
    "STFMale = female[\"일평균학습시간\"]\n",
    "\n",
    "STMale = pd.DataFrame(STMale.value_counts())\n",
    "STMale['index'] = STMale.index\n",
    "STMale.index=[x for x in range(0,6)]\n",
    "\n",
    "STFMale = pd.DataFrame(STFMale.value_counts())\n",
    "STFMale['index'] = STFMale.index\n",
    "STFMale.index=[x for x in range(0,6)]\n",
    "\n",
    "print(STMale)\n",
    "print(STFMale)"
   ]
  },
  {
   "cell_type": "code",
   "execution_count": 184,
   "id": "87697eb4",
   "metadata": {},
   "outputs": [
    {
     "data": {
      "application/vnd.plotly.v1+json": {
       "config": {
        "plotlyServerURL": "https://plot.ly"
       },
       "data": [
        {
         "domain": {
          "x": [
           0,
           0.45
          ],
          "y": [
           0,
           1
          ]
         },
         "hole": 0.4,
         "hoverinfo": "label+percent",
         "labels": [
          "30 - 60 minute",
          "0 - 30 minute",
          "1 - 2 Hour",
          "2 - 3 hour",
          "3 - 4 hour",
          "More Than 4 hour"
         ],
         "type": "pie",
         "values": [
          26,
          23,
          19,
          4,
          4,
          3
         ]
        },
        {
         "domain": {
          "x": [
           0.55,
           1
          ],
          "y": [
           0,
           1
          ]
         },
         "hole": 0.4,
         "hoverinfo": "label+percent",
         "labels": [
          "1 - 2 Hour",
          "30 - 60 minute",
          "2 - 3 hour",
          "0 - 30 minute",
          "3 - 4 hour",
          "More Than 4 hour"
         ],
         "type": "pie",
         "values": [
          24,
          21,
          14,
          11,
          7,
          2
         ]
        }
       ],
       "layout": {
        "annotations": [
         {
          "font": {
           "size": 20
          },
          "showarrow": false,
          "text": "Male",
          "x": 0.15,
          "y": 0.5
         },
         {
          "font": {
           "size": 15
          },
          "showarrow": false,
          "text": "Female",
          "x": 0.85,
          "y": 0.5
         }
        ],
        "template": {
         "data": {
          "bar": [
           {
            "error_x": {
             "color": "#2a3f5f"
            },
            "error_y": {
             "color": "#2a3f5f"
            },
            "marker": {
             "line": {
              "color": "#E5ECF6",
              "width": 0.5
             },
             "pattern": {
              "fillmode": "overlay",
              "size": 10,
              "solidity": 0.2
             }
            },
            "type": "bar"
           }
          ],
          "barpolar": [
           {
            "marker": {
             "line": {
              "color": "#E5ECF6",
              "width": 0.5
             },
             "pattern": {
              "fillmode": "overlay",
              "size": 10,
              "solidity": 0.2
             }
            },
            "type": "barpolar"
           }
          ],
          "carpet": [
           {
            "aaxis": {
             "endlinecolor": "#2a3f5f",
             "gridcolor": "white",
             "linecolor": "white",
             "minorgridcolor": "white",
             "startlinecolor": "#2a3f5f"
            },
            "baxis": {
             "endlinecolor": "#2a3f5f",
             "gridcolor": "white",
             "linecolor": "white",
             "minorgridcolor": "white",
             "startlinecolor": "#2a3f5f"
            },
            "type": "carpet"
           }
          ],
          "choropleth": [
           {
            "colorbar": {
             "outlinewidth": 0,
             "ticks": ""
            },
            "type": "choropleth"
           }
          ],
          "contour": [
           {
            "colorbar": {
             "outlinewidth": 0,
             "ticks": ""
            },
            "colorscale": [
             [
              0,
              "#0d0887"
             ],
             [
              0.1111111111111111,
              "#46039f"
             ],
             [
              0.2222222222222222,
              "#7201a8"
             ],
             [
              0.3333333333333333,
              "#9c179e"
             ],
             [
              0.4444444444444444,
              "#bd3786"
             ],
             [
              0.5555555555555556,
              "#d8576b"
             ],
             [
              0.6666666666666666,
              "#ed7953"
             ],
             [
              0.7777777777777778,
              "#fb9f3a"
             ],
             [
              0.8888888888888888,
              "#fdca26"
             ],
             [
              1,
              "#f0f921"
             ]
            ],
            "type": "contour"
           }
          ],
          "contourcarpet": [
           {
            "colorbar": {
             "outlinewidth": 0,
             "ticks": ""
            },
            "type": "contourcarpet"
           }
          ],
          "heatmap": [
           {
            "colorbar": {
             "outlinewidth": 0,
             "ticks": ""
            },
            "colorscale": [
             [
              0,
              "#0d0887"
             ],
             [
              0.1111111111111111,
              "#46039f"
             ],
             [
              0.2222222222222222,
              "#7201a8"
             ],
             [
              0.3333333333333333,
              "#9c179e"
             ],
             [
              0.4444444444444444,
              "#bd3786"
             ],
             [
              0.5555555555555556,
              "#d8576b"
             ],
             [
              0.6666666666666666,
              "#ed7953"
             ],
             [
              0.7777777777777778,
              "#fb9f3a"
             ],
             [
              0.8888888888888888,
              "#fdca26"
             ],
             [
              1,
              "#f0f921"
             ]
            ],
            "type": "heatmap"
           }
          ],
          "heatmapgl": [
           {
            "colorbar": {
             "outlinewidth": 0,
             "ticks": ""
            },
            "colorscale": [
             [
              0,
              "#0d0887"
             ],
             [
              0.1111111111111111,
              "#46039f"
             ],
             [
              0.2222222222222222,
              "#7201a8"
             ],
             [
              0.3333333333333333,
              "#9c179e"
             ],
             [
              0.4444444444444444,
              "#bd3786"
             ],
             [
              0.5555555555555556,
              "#d8576b"
             ],
             [
              0.6666666666666666,
              "#ed7953"
             ],
             [
              0.7777777777777778,
              "#fb9f3a"
             ],
             [
              0.8888888888888888,
              "#fdca26"
             ],
             [
              1,
              "#f0f921"
             ]
            ],
            "type": "heatmapgl"
           }
          ],
          "histogram": [
           {
            "marker": {
             "pattern": {
              "fillmode": "overlay",
              "size": 10,
              "solidity": 0.2
             }
            },
            "type": "histogram"
           }
          ],
          "histogram2d": [
           {
            "colorbar": {
             "outlinewidth": 0,
             "ticks": ""
            },
            "colorscale": [
             [
              0,
              "#0d0887"
             ],
             [
              0.1111111111111111,
              "#46039f"
             ],
             [
              0.2222222222222222,
              "#7201a8"
             ],
             [
              0.3333333333333333,
              "#9c179e"
             ],
             [
              0.4444444444444444,
              "#bd3786"
             ],
             [
              0.5555555555555556,
              "#d8576b"
             ],
             [
              0.6666666666666666,
              "#ed7953"
             ],
             [
              0.7777777777777778,
              "#fb9f3a"
             ],
             [
              0.8888888888888888,
              "#fdca26"
             ],
             [
              1,
              "#f0f921"
             ]
            ],
            "type": "histogram2d"
           }
          ],
          "histogram2dcontour": [
           {
            "colorbar": {
             "outlinewidth": 0,
             "ticks": ""
            },
            "colorscale": [
             [
              0,
              "#0d0887"
             ],
             [
              0.1111111111111111,
              "#46039f"
             ],
             [
              0.2222222222222222,
              "#7201a8"
             ],
             [
              0.3333333333333333,
              "#9c179e"
             ],
             [
              0.4444444444444444,
              "#bd3786"
             ],
             [
              0.5555555555555556,
              "#d8576b"
             ],
             [
              0.6666666666666666,
              "#ed7953"
             ],
             [
              0.7777777777777778,
              "#fb9f3a"
             ],
             [
              0.8888888888888888,
              "#fdca26"
             ],
             [
              1,
              "#f0f921"
             ]
            ],
            "type": "histogram2dcontour"
           }
          ],
          "mesh3d": [
           {
            "colorbar": {
             "outlinewidth": 0,
             "ticks": ""
            },
            "type": "mesh3d"
           }
          ],
          "parcoords": [
           {
            "line": {
             "colorbar": {
              "outlinewidth": 0,
              "ticks": ""
             }
            },
            "type": "parcoords"
           }
          ],
          "pie": [
           {
            "automargin": true,
            "type": "pie"
           }
          ],
          "scatter": [
           {
            "fillpattern": {
             "fillmode": "overlay",
             "size": 10,
             "solidity": 0.2
            },
            "type": "scatter"
           }
          ],
          "scatter3d": [
           {
            "line": {
             "colorbar": {
              "outlinewidth": 0,
              "ticks": ""
             }
            },
            "marker": {
             "colorbar": {
              "outlinewidth": 0,
              "ticks": ""
             }
            },
            "type": "scatter3d"
           }
          ],
          "scattercarpet": [
           {
            "marker": {
             "colorbar": {
              "outlinewidth": 0,
              "ticks": ""
             }
            },
            "type": "scattercarpet"
           }
          ],
          "scattergeo": [
           {
            "marker": {
             "colorbar": {
              "outlinewidth": 0,
              "ticks": ""
             }
            },
            "type": "scattergeo"
           }
          ],
          "scattergl": [
           {
            "marker": {
             "colorbar": {
              "outlinewidth": 0,
              "ticks": ""
             }
            },
            "type": "scattergl"
           }
          ],
          "scattermapbox": [
           {
            "marker": {
             "colorbar": {
              "outlinewidth": 0,
              "ticks": ""
             }
            },
            "type": "scattermapbox"
           }
          ],
          "scatterpolar": [
           {
            "marker": {
             "colorbar": {
              "outlinewidth": 0,
              "ticks": ""
             }
            },
            "type": "scatterpolar"
           }
          ],
          "scatterpolargl": [
           {
            "marker": {
             "colorbar": {
              "outlinewidth": 0,
              "ticks": ""
             }
            },
            "type": "scatterpolargl"
           }
          ],
          "scatterternary": [
           {
            "marker": {
             "colorbar": {
              "outlinewidth": 0,
              "ticks": ""
             }
            },
            "type": "scatterternary"
           }
          ],
          "surface": [
           {
            "colorbar": {
             "outlinewidth": 0,
             "ticks": ""
            },
            "colorscale": [
             [
              0,
              "#0d0887"
             ],
             [
              0.1111111111111111,
              "#46039f"
             ],
             [
              0.2222222222222222,
              "#7201a8"
             ],
             [
              0.3333333333333333,
              "#9c179e"
             ],
             [
              0.4444444444444444,
              "#bd3786"
             ],
             [
              0.5555555555555556,
              "#d8576b"
             ],
             [
              0.6666666666666666,
              "#ed7953"
             ],
             [
              0.7777777777777778,
              "#fb9f3a"
             ],
             [
              0.8888888888888888,
              "#fdca26"
             ],
             [
              1,
              "#f0f921"
             ]
            ],
            "type": "surface"
           }
          ],
          "table": [
           {
            "cells": {
             "fill": {
              "color": "#EBF0F8"
             },
             "line": {
              "color": "white"
             }
            },
            "header": {
             "fill": {
              "color": "#C8D4E3"
             },
             "line": {
              "color": "white"
             }
            },
            "type": "table"
           }
          ]
         },
         "layout": {
          "annotationdefaults": {
           "arrowcolor": "#2a3f5f",
           "arrowhead": 0,
           "arrowwidth": 1
          },
          "autotypenumbers": "strict",
          "coloraxis": {
           "colorbar": {
            "outlinewidth": 0,
            "ticks": ""
           }
          },
          "colorscale": {
           "diverging": [
            [
             0,
             "#8e0152"
            ],
            [
             0.1,
             "#c51b7d"
            ],
            [
             0.2,
             "#de77ae"
            ],
            [
             0.3,
             "#f1b6da"
            ],
            [
             0.4,
             "#fde0ef"
            ],
            [
             0.5,
             "#f7f7f7"
            ],
            [
             0.6,
             "#e6f5d0"
            ],
            [
             0.7,
             "#b8e186"
            ],
            [
             0.8,
             "#7fbc41"
            ],
            [
             0.9,
             "#4d9221"
            ],
            [
             1,
             "#276419"
            ]
           ],
           "sequential": [
            [
             0,
             "#0d0887"
            ],
            [
             0.1111111111111111,
             "#46039f"
            ],
            [
             0.2222222222222222,
             "#7201a8"
            ],
            [
             0.3333333333333333,
             "#9c179e"
            ],
            [
             0.4444444444444444,
             "#bd3786"
            ],
            [
             0.5555555555555556,
             "#d8576b"
            ],
            [
             0.6666666666666666,
             "#ed7953"
            ],
            [
             0.7777777777777778,
             "#fb9f3a"
            ],
            [
             0.8888888888888888,
             "#fdca26"
            ],
            [
             1,
             "#f0f921"
            ]
           ],
           "sequentialminus": [
            [
             0,
             "#0d0887"
            ],
            [
             0.1111111111111111,
             "#46039f"
            ],
            [
             0.2222222222222222,
             "#7201a8"
            ],
            [
             0.3333333333333333,
             "#9c179e"
            ],
            [
             0.4444444444444444,
             "#bd3786"
            ],
            [
             0.5555555555555556,
             "#d8576b"
            ],
            [
             0.6666666666666666,
             "#ed7953"
            ],
            [
             0.7777777777777778,
             "#fb9f3a"
            ],
            [
             0.8888888888888888,
             "#fdca26"
            ],
            [
             1,
             "#f0f921"
            ]
           ]
          },
          "colorway": [
           "#636efa",
           "#EF553B",
           "#00cc96",
           "#ab63fa",
           "#FFA15A",
           "#19d3f3",
           "#FF6692",
           "#B6E880",
           "#FF97FF",
           "#FECB52"
          ],
          "font": {
           "color": "#2a3f5f"
          },
          "geo": {
           "bgcolor": "white",
           "lakecolor": "white",
           "landcolor": "#E5ECF6",
           "showlakes": true,
           "showland": true,
           "subunitcolor": "white"
          },
          "hoverlabel": {
           "align": "left"
          },
          "hovermode": "closest",
          "mapbox": {
           "style": "light"
          },
          "paper_bgcolor": "white",
          "plot_bgcolor": "#E5ECF6",
          "polar": {
           "angularaxis": {
            "gridcolor": "white",
            "linecolor": "white",
            "ticks": ""
           },
           "bgcolor": "#E5ECF6",
           "radialaxis": {
            "gridcolor": "white",
            "linecolor": "white",
            "ticks": ""
           }
          },
          "scene": {
           "xaxis": {
            "backgroundcolor": "#E5ECF6",
            "gridcolor": "white",
            "gridwidth": 2,
            "linecolor": "white",
            "showbackground": true,
            "ticks": "",
            "zerolinecolor": "white"
           },
           "yaxis": {
            "backgroundcolor": "#E5ECF6",
            "gridcolor": "white",
            "gridwidth": 2,
            "linecolor": "white",
            "showbackground": true,
            "ticks": "",
            "zerolinecolor": "white"
           },
           "zaxis": {
            "backgroundcolor": "#E5ECF6",
            "gridcolor": "white",
            "gridwidth": 2,
            "linecolor": "white",
            "showbackground": true,
            "ticks": "",
            "zerolinecolor": "white"
           }
          },
          "shapedefaults": {
           "line": {
            "color": "#2a3f5f"
           }
          },
          "ternary": {
           "aaxis": {
            "gridcolor": "white",
            "linecolor": "white",
            "ticks": ""
           },
           "baxis": {
            "gridcolor": "white",
            "linecolor": "white",
            "ticks": ""
           },
           "bgcolor": "#E5ECF6",
           "caxis": {
            "gridcolor": "white",
            "linecolor": "white",
            "ticks": ""
           }
          },
          "title": {
           "x": 0.05
          },
          "xaxis": {
           "automargin": true,
           "gridcolor": "white",
           "linecolor": "white",
           "ticks": "",
           "title": {
            "standoff": 15
           },
           "zerolinecolor": "white",
           "zerolinewidth": 2
          },
          "yaxis": {
           "automargin": true,
           "gridcolor": "white",
           "linecolor": "white",
           "ticks": "",
           "title": {
            "standoff": 15
           },
           "zerolinecolor": "white",
           "zerolinewidth": 2
          }
         }
        },
        "title": {
         "text": "Male vs Female"
        }
       }
      },
      "text/html": [
       "<div>                            <div id=\"c1a93b38-7527-445d-a8cc-0634d05f3ad7\" class=\"plotly-graph-div\" style=\"height:525px; width:100%;\"></div>            <script type=\"text/javascript\">                require([\"plotly\"], function(Plotly) {                    window.PLOTLYENV=window.PLOTLYENV || {};                                    if (document.getElementById(\"c1a93b38-7527-445d-a8cc-0634d05f3ad7\")) {                    Plotly.newPlot(                        \"c1a93b38-7527-445d-a8cc-0634d05f3ad7\",                        [{\"labels\":[\"30 - 60 minute\",\"0 - 30 minute\",\"1 - 2 Hour\",\"2 - 3 hour\",\"3 - 4 hour\",\"More Than 4 hour\"],\"values\":[26,23,19,4,4,3],\"type\":\"pie\",\"domain\":{\"x\":[0.0,0.45],\"y\":[0.0,1.0]},\"hole\":0.4,\"hoverinfo\":\"label+percent\"},{\"labels\":[\"1 - 2 Hour\",\"30 - 60 minute\",\"2 - 3 hour\",\"0 - 30 minute\",\"3 - 4 hour\",\"More Than 4 hour\"],\"values\":[24,21,14,11,7,2],\"type\":\"pie\",\"domain\":{\"x\":[0.55,1.0],\"y\":[0.0,1.0]},\"hole\":0.4,\"hoverinfo\":\"label+percent\"}],                        {\"template\":{\"data\":{\"histogram2dcontour\":[{\"type\":\"histogram2dcontour\",\"colorbar\":{\"outlinewidth\":0,\"ticks\":\"\"},\"colorscale\":[[0.0,\"#0d0887\"],[0.1111111111111111,\"#46039f\"],[0.2222222222222222,\"#7201a8\"],[0.3333333333333333,\"#9c179e\"],[0.4444444444444444,\"#bd3786\"],[0.5555555555555556,\"#d8576b\"],[0.6666666666666666,\"#ed7953\"],[0.7777777777777778,\"#fb9f3a\"],[0.8888888888888888,\"#fdca26\"],[1.0,\"#f0f921\"]]}],\"choropleth\":[{\"type\":\"choropleth\",\"colorbar\":{\"outlinewidth\":0,\"ticks\":\"\"}}],\"histogram2d\":[{\"type\":\"histogram2d\",\"colorbar\":{\"outlinewidth\":0,\"ticks\":\"\"},\"colorscale\":[[0.0,\"#0d0887\"],[0.1111111111111111,\"#46039f\"],[0.2222222222222222,\"#7201a8\"],[0.3333333333333333,\"#9c179e\"],[0.4444444444444444,\"#bd3786\"],[0.5555555555555556,\"#d8576b\"],[0.6666666666666666,\"#ed7953\"],[0.7777777777777778,\"#fb9f3a\"],[0.8888888888888888,\"#fdca26\"],[1.0,\"#f0f921\"]]}],\"heatmap\":[{\"type\":\"heatmap\",\"colorbar\":{\"outlinewidth\":0,\"ticks\":\"\"},\"colorscale\":[[0.0,\"#0d0887\"],[0.1111111111111111,\"#46039f\"],[0.2222222222222222,\"#7201a8\"],[0.3333333333333333,\"#9c179e\"],[0.4444444444444444,\"#bd3786\"],[0.5555555555555556,\"#d8576b\"],[0.6666666666666666,\"#ed7953\"],[0.7777777777777778,\"#fb9f3a\"],[0.8888888888888888,\"#fdca26\"],[1.0,\"#f0f921\"]]}],\"heatmapgl\":[{\"type\":\"heatmapgl\",\"colorbar\":{\"outlinewidth\":0,\"ticks\":\"\"},\"colorscale\":[[0.0,\"#0d0887\"],[0.1111111111111111,\"#46039f\"],[0.2222222222222222,\"#7201a8\"],[0.3333333333333333,\"#9c179e\"],[0.4444444444444444,\"#bd3786\"],[0.5555555555555556,\"#d8576b\"],[0.6666666666666666,\"#ed7953\"],[0.7777777777777778,\"#fb9f3a\"],[0.8888888888888888,\"#fdca26\"],[1.0,\"#f0f921\"]]}],\"contourcarpet\":[{\"type\":\"contourcarpet\",\"colorbar\":{\"outlinewidth\":0,\"ticks\":\"\"}}],\"contour\":[{\"type\":\"contour\",\"colorbar\":{\"outlinewidth\":0,\"ticks\":\"\"},\"colorscale\":[[0.0,\"#0d0887\"],[0.1111111111111111,\"#46039f\"],[0.2222222222222222,\"#7201a8\"],[0.3333333333333333,\"#9c179e\"],[0.4444444444444444,\"#bd3786\"],[0.5555555555555556,\"#d8576b\"],[0.6666666666666666,\"#ed7953\"],[0.7777777777777778,\"#fb9f3a\"],[0.8888888888888888,\"#fdca26\"],[1.0,\"#f0f921\"]]}],\"surface\":[{\"type\":\"surface\",\"colorbar\":{\"outlinewidth\":0,\"ticks\":\"\"},\"colorscale\":[[0.0,\"#0d0887\"],[0.1111111111111111,\"#46039f\"],[0.2222222222222222,\"#7201a8\"],[0.3333333333333333,\"#9c179e\"],[0.4444444444444444,\"#bd3786\"],[0.5555555555555556,\"#d8576b\"],[0.6666666666666666,\"#ed7953\"],[0.7777777777777778,\"#fb9f3a\"],[0.8888888888888888,\"#fdca26\"],[1.0,\"#f0f921\"]]}],\"mesh3d\":[{\"type\":\"mesh3d\",\"colorbar\":{\"outlinewidth\":0,\"ticks\":\"\"}}],\"scatter\":[{\"fillpattern\":{\"fillmode\":\"overlay\",\"size\":10,\"solidity\":0.2},\"type\":\"scatter\"}],\"parcoords\":[{\"type\":\"parcoords\",\"line\":{\"colorbar\":{\"outlinewidth\":0,\"ticks\":\"\"}}}],\"scatterpolargl\":[{\"type\":\"scatterpolargl\",\"marker\":{\"colorbar\":{\"outlinewidth\":0,\"ticks\":\"\"}}}],\"bar\":[{\"error_x\":{\"color\":\"#2a3f5f\"},\"error_y\":{\"color\":\"#2a3f5f\"},\"marker\":{\"line\":{\"color\":\"#E5ECF6\",\"width\":0.5},\"pattern\":{\"fillmode\":\"overlay\",\"size\":10,\"solidity\":0.2}},\"type\":\"bar\"}],\"scattergeo\":[{\"type\":\"scattergeo\",\"marker\":{\"colorbar\":{\"outlinewidth\":0,\"ticks\":\"\"}}}],\"scatterpolar\":[{\"type\":\"scatterpolar\",\"marker\":{\"colorbar\":{\"outlinewidth\":0,\"ticks\":\"\"}}}],\"histogram\":[{\"marker\":{\"pattern\":{\"fillmode\":\"overlay\",\"size\":10,\"solidity\":0.2}},\"type\":\"histogram\"}],\"scattergl\":[{\"type\":\"scattergl\",\"marker\":{\"colorbar\":{\"outlinewidth\":0,\"ticks\":\"\"}}}],\"scatter3d\":[{\"type\":\"scatter3d\",\"line\":{\"colorbar\":{\"outlinewidth\":0,\"ticks\":\"\"}},\"marker\":{\"colorbar\":{\"outlinewidth\":0,\"ticks\":\"\"}}}],\"scattermapbox\":[{\"type\":\"scattermapbox\",\"marker\":{\"colorbar\":{\"outlinewidth\":0,\"ticks\":\"\"}}}],\"scatterternary\":[{\"type\":\"scatterternary\",\"marker\":{\"colorbar\":{\"outlinewidth\":0,\"ticks\":\"\"}}}],\"scattercarpet\":[{\"type\":\"scattercarpet\",\"marker\":{\"colorbar\":{\"outlinewidth\":0,\"ticks\":\"\"}}}],\"carpet\":[{\"aaxis\":{\"endlinecolor\":\"#2a3f5f\",\"gridcolor\":\"white\",\"linecolor\":\"white\",\"minorgridcolor\":\"white\",\"startlinecolor\":\"#2a3f5f\"},\"baxis\":{\"endlinecolor\":\"#2a3f5f\",\"gridcolor\":\"white\",\"linecolor\":\"white\",\"minorgridcolor\":\"white\",\"startlinecolor\":\"#2a3f5f\"},\"type\":\"carpet\"}],\"table\":[{\"cells\":{\"fill\":{\"color\":\"#EBF0F8\"},\"line\":{\"color\":\"white\"}},\"header\":{\"fill\":{\"color\":\"#C8D4E3\"},\"line\":{\"color\":\"white\"}},\"type\":\"table\"}],\"barpolar\":[{\"marker\":{\"line\":{\"color\":\"#E5ECF6\",\"width\":0.5},\"pattern\":{\"fillmode\":\"overlay\",\"size\":10,\"solidity\":0.2}},\"type\":\"barpolar\"}],\"pie\":[{\"automargin\":true,\"type\":\"pie\"}]},\"layout\":{\"autotypenumbers\":\"strict\",\"colorway\":[\"#636efa\",\"#EF553B\",\"#00cc96\",\"#ab63fa\",\"#FFA15A\",\"#19d3f3\",\"#FF6692\",\"#B6E880\",\"#FF97FF\",\"#FECB52\"],\"font\":{\"color\":\"#2a3f5f\"},\"hovermode\":\"closest\",\"hoverlabel\":{\"align\":\"left\"},\"paper_bgcolor\":\"white\",\"plot_bgcolor\":\"#E5ECF6\",\"polar\":{\"bgcolor\":\"#E5ECF6\",\"angularaxis\":{\"gridcolor\":\"white\",\"linecolor\":\"white\",\"ticks\":\"\"},\"radialaxis\":{\"gridcolor\":\"white\",\"linecolor\":\"white\",\"ticks\":\"\"}},\"ternary\":{\"bgcolor\":\"#E5ECF6\",\"aaxis\":{\"gridcolor\":\"white\",\"linecolor\":\"white\",\"ticks\":\"\"},\"baxis\":{\"gridcolor\":\"white\",\"linecolor\":\"white\",\"ticks\":\"\"},\"caxis\":{\"gridcolor\":\"white\",\"linecolor\":\"white\",\"ticks\":\"\"}},\"coloraxis\":{\"colorbar\":{\"outlinewidth\":0,\"ticks\":\"\"}},\"colorscale\":{\"sequential\":[[0.0,\"#0d0887\"],[0.1111111111111111,\"#46039f\"],[0.2222222222222222,\"#7201a8\"],[0.3333333333333333,\"#9c179e\"],[0.4444444444444444,\"#bd3786\"],[0.5555555555555556,\"#d8576b\"],[0.6666666666666666,\"#ed7953\"],[0.7777777777777778,\"#fb9f3a\"],[0.8888888888888888,\"#fdca26\"],[1.0,\"#f0f921\"]],\"sequentialminus\":[[0.0,\"#0d0887\"],[0.1111111111111111,\"#46039f\"],[0.2222222222222222,\"#7201a8\"],[0.3333333333333333,\"#9c179e\"],[0.4444444444444444,\"#bd3786\"],[0.5555555555555556,\"#d8576b\"],[0.6666666666666666,\"#ed7953\"],[0.7777777777777778,\"#fb9f3a\"],[0.8888888888888888,\"#fdca26\"],[1.0,\"#f0f921\"]],\"diverging\":[[0,\"#8e0152\"],[0.1,\"#c51b7d\"],[0.2,\"#de77ae\"],[0.3,\"#f1b6da\"],[0.4,\"#fde0ef\"],[0.5,\"#f7f7f7\"],[0.6,\"#e6f5d0\"],[0.7,\"#b8e186\"],[0.8,\"#7fbc41\"],[0.9,\"#4d9221\"],[1,\"#276419\"]]},\"xaxis\":{\"gridcolor\":\"white\",\"linecolor\":\"white\",\"ticks\":\"\",\"title\":{\"standoff\":15},\"zerolinecolor\":\"white\",\"automargin\":true,\"zerolinewidth\":2},\"yaxis\":{\"gridcolor\":\"white\",\"linecolor\":\"white\",\"ticks\":\"\",\"title\":{\"standoff\":15},\"zerolinecolor\":\"white\",\"automargin\":true,\"zerolinewidth\":2},\"scene\":{\"xaxis\":{\"backgroundcolor\":\"#E5ECF6\",\"gridcolor\":\"white\",\"linecolor\":\"white\",\"showbackground\":true,\"ticks\":\"\",\"zerolinecolor\":\"white\",\"gridwidth\":2},\"yaxis\":{\"backgroundcolor\":\"#E5ECF6\",\"gridcolor\":\"white\",\"linecolor\":\"white\",\"showbackground\":true,\"ticks\":\"\",\"zerolinecolor\":\"white\",\"gridwidth\":2},\"zaxis\":{\"backgroundcolor\":\"#E5ECF6\",\"gridcolor\":\"white\",\"linecolor\":\"white\",\"showbackground\":true,\"ticks\":\"\",\"zerolinecolor\":\"white\",\"gridwidth\":2}},\"shapedefaults\":{\"line\":{\"color\":\"#2a3f5f\"}},\"annotationdefaults\":{\"arrowcolor\":\"#2a3f5f\",\"arrowhead\":0,\"arrowwidth\":1},\"geo\":{\"bgcolor\":\"white\",\"landcolor\":\"#E5ECF6\",\"subunitcolor\":\"white\",\"showland\":true,\"showlakes\":true,\"lakecolor\":\"white\"},\"title\":{\"x\":0.05},\"mapbox\":{\"style\":\"light\"}}},\"title\":{\"text\":\"Male vs Female\"},\"annotations\":[{\"showarrow\":false,\"text\":\"Male\",\"x\":0.15,\"y\":0.5,\"font\":{\"size\":20}},{\"showarrow\":false,\"text\":\"Female\",\"x\":0.85,\"y\":0.5,\"font\":{\"size\":15}}]},                        {\"responsive\": true}                    ).then(function(){\n",
       "                            \n",
       "var gd = document.getElementById('c1a93b38-7527-445d-a8cc-0634d05f3ad7');\n",
       "var x = new MutationObserver(function (mutations, observer) {{\n",
       "        var display = window.getComputedStyle(gd).display;\n",
       "        if (!display || display === 'none') {{\n",
       "            console.log([gd, 'removed!']);\n",
       "            Plotly.purge(gd);\n",
       "            observer.disconnect();\n",
       "        }}\n",
       "}});\n",
       "\n",
       "// Listen for the removal of the full notebook cells\n",
       "var notebookContainer = gd.closest('#notebook-container');\n",
       "if (notebookContainer) {{\n",
       "    x.observe(notebookContainer, {childList: true});\n",
       "}}\n",
       "\n",
       "// Listen for the clearing of the current output cell\n",
       "var outputEl = gd.closest('.output');\n",
       "if (outputEl) {{\n",
       "    x.observe(outputEl, {childList: true});\n",
       "}}\n",
       "\n",
       "                        })                };                });            </script>        </div>"
      ]
     },
     "metadata": {},
     "output_type": "display_data"
    }
   ],
   "source": [
    "fig = make_subplots(rows=1 , cols=2, specs=[[{\"type\":\"domain\"},{\"type\":\"domain\"}]])\n",
    "\n",
    "fig.add_trace(go.Pie(labels=STMale[\"index\"],\n",
    "                    values=STMale[\"일평균학습시간\"]),1,1)\n",
    "fig.add_trace(go.Pie(labels=STFMale[\"index\"],\n",
    "                    values=STFMale[\"일평균학습시간\"]),1,2)\n",
    "fig.update_traces(hole=.4, hoverinfo=\"label+percent\")\n",
    "fig.update_layout(\n",
    "    title_text=\"Male vs Female\",\n",
    "    annotations =  [dict(text='Male', x=0.15, y=0.5, font_size=20, showarrow=False),\n",
    "                    dict(text=\"Female\", x=0.85, y=0.5, font_size=15, showarrow=False)]\n",
    "    # annotations = 주석\n",
    ")\n",
    "fig.show()"
   ]
  },
  {
   "cell_type": "code",
   "execution_count": null,
   "id": "2160a359",
   "metadata": {},
   "outputs": [],
   "source": []
  },
  {
   "cell_type": "code",
   "execution_count": null,
   "id": "a6435949",
   "metadata": {},
   "outputs": [],
   "source": []
  }
 ],
 "metadata": {
  "kernelspec": {
   "display_name": "Python 3 (ipykernel)",
   "language": "python",
   "name": "python3"
  },
  "language_info": {
   "codemirror_mode": {
    "name": "ipython",
    "version": 3
   },
   "file_extension": ".py",
   "mimetype": "text/x-python",
   "name": "python",
   "nbconvert_exporter": "python",
   "pygments_lexer": "ipython3",
   "version": "3.9.13"
  }
 },
 "nbformat": 4,
 "nbformat_minor": 5
}
